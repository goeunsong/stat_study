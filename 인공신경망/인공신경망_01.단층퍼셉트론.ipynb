{
 "cells": [
  {
   "cell_type": "markdown",
   "id": "ec6e39b0",
   "metadata": {},
   "source": [
    "퍼셉트론의 구성\\\n",
    "연산과 출력하는 TLU(threshold logic unit)들이 1개의 층으로 이루어져있다 단층 퍼셉트론\\\n",
    "1)입력층 : 입력 뉴련들 및 편향 뉴런 존재\\\n",
    "입력뉴런 : 계단함수 적용하지 않고 입력을 그대로 출력으로 내보냄\\\n",
    "편향뉴런 : 항상 편향(절편)값 1 출력\\\n",
    "2)출력층 : 출력하는 tlu들 존재\\\n",
    "각 뉴런들은 모든 입력과 연결\\\n",
    "입력들의 가중치합을 계단함수에 적용해 결과를 출력으로"
   ]
  },
  {
   "cell_type": "markdown",
   "id": "34a503b3",
   "metadata": {},
   "source": [
    "퍼셉트론의 학습 절차(편향 없는 경우)\\\n",
    "1)입력층가 출력층의 뉴런 배치\\\n",
    "2)각 입력 노드들마다 임의로 가중치 할당\\\n",
    "3)노드의 입력값에 가중치 적용해 총 합 구하기\\\n",
    "4)총합과 미리 정해진 임계치와 비교\\\n",
    "5)비교해 임계치 이상이면 1, 미만이면 0 출력\\\n",
    "6)출력이 실제값과 다르면 가중치 갱신\\\n",
    "7)모들 데이터 학습할 때까지 3단계부터 반복\\\n",
    "8)모든 데이터에 대해 출력(예측)과 실제가 동일하게 될때까지 3단계부터 반복"
   ]
  },
  {
   "cell_type": "markdown",
   "id": "704a94dd",
   "metadata": {},
   "source": [
    "퍼셉트론의 학습 절차(편향 있는 경우)\\\n",
    "1)입력층과 출력층의 노드 배치\\\n",
    "2)입력노드와 편향노드에 각각 임의로 가중치 할당\\\n",
    "3)노드의 입력값들에 가중치 적용해 종합 구하기\n",
    "4)총합이 0(임계치) 이상인지 검사\\\n",
    "5)이상이면 1, 미만이면 0 출력\\\n",
    "6)출력이 실제값과 다르면 가중치 갱신\\\n",
    "7)모들 데이터 학습할 때까지 3단계부터 반복\\\n",
    "8)모든 데이터에 대해 출력(예측)과 실제가 동일하게 될때까지 3단계부터 반복"
   ]
  },
  {
   "cell_type": "markdown",
   "id": "bc94d7f1",
   "metadata": {},
   "source": [
    "단층 퍼셉트론의 한계\\\n",
    "단층 퍼셉트론은 정확한 선형 결정경계를 찾는 문제에 대한 모형이므로 비선형 데이터에 대한 처리가 불가능"
   ]
  },
  {
   "cell_type": "code",
   "execution_count": 1,
   "id": "f897a412",
   "metadata": {},
   "outputs": [],
   "source": [
    "import sklearn.linear_model as lm\n",
    "\n",
    "ppn_clf = lm.Perceptron(eta0=0.1, max_iter=1000,tol=0.001)"
   ]
  },
  {
   "cell_type": "code",
   "execution_count": 2,
   "id": "4d917416",
   "metadata": {},
   "outputs": [],
   "source": [
    "X_train = [[1,2],[5,6],[2,3],[6,7],[3,1],[7,5]]\n",
    "y_train = [0,1,0,1,0,1]"
   ]
  },
  {
   "cell_type": "code",
   "execution_count": 3,
   "id": "59ab62f3",
   "metadata": {},
   "outputs": [],
   "source": [
    "#퍼셉트론 객체에 대해 훈련\n",
    "clf = ppn_clf.fit(X_train,y_train)"
   ]
  },
  {
   "cell_type": "code",
   "execution_count": 4,
   "id": "3601d757",
   "metadata": {},
   "outputs": [],
   "source": [
    "#예측 수행\n",
    "X_test = [[1.5,3.1],[4,4.5],[6.7,4.7]]\n",
    "y_test = [0,0,1]\n",
    "\n",
    "y_pred = clf.predict(X_test)"
   ]
  },
  {
   "cell_type": "code",
   "execution_count": 5,
   "id": "b2b496e4",
   "metadata": {},
   "outputs": [
    {
     "name": "stdout",
     "output_type": "stream",
     "text": [
      "[0 1 1]\n"
     ]
    }
   ],
   "source": [
    "print(y_pred)"
   ]
  },
  {
   "cell_type": "code",
   "execution_count": 6,
   "id": "91649705",
   "metadata": {},
   "outputs": [
    {
     "name": "stdout",
     "output_type": "stream",
     "text": [
      "정확도: 0.667\n"
     ]
    }
   ],
   "source": [
    "import sklearn.metrics as mt\n",
    "\n",
    "score = mt.accuracy_score(y_test, y_pred)\n",
    "print('정확도: {:.3f}'.format(score))"
   ]
  }
 ],
 "metadata": {
  "kernelspec": {
   "display_name": "Python 3 (ipykernel)",
   "language": "python",
   "name": "python3"
  },
  "language_info": {
   "codemirror_mode": {
    "name": "ipython",
    "version": 3
   },
   "file_extension": ".py",
   "mimetype": "text/x-python",
   "name": "python",
   "nbconvert_exporter": "python",
   "pygments_lexer": "ipython3",
   "version": "3.8.10"
  }
 },
 "nbformat": 4,
 "nbformat_minor": 5
}
