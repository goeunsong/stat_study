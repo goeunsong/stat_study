{
 "cells": [
  {
   "cell_type": "markdown",
   "id": "3623f744",
   "metadata": {},
   "source": [
    "합성곱신경망 : 합성곱(convolution)과 풀링(pooling) 통해서 이미지 데이터의 형상정보 유지하면서 학습.\n",
    "\n",
    "[합성곱층(convolutional layer) -> 활성화 함수 적용 -> 풀링층(pooling layer)] 이 반복된 후 완전히 상호 연결된 결합 은닉층 추가. 최종적으로 출력층이 배치\n",
    "\n",
    "합성곱층 : 이미지 데이터의 특성 추출\n",
    "\n",
    "풀링층 : 추출된 특성 정보 축소\n",
    "\n",
    "출력층 : 직전의 은닉층은 2차원 이상의 형상 특성 정보들을 1차원 형태로 변환/전개"
   ]
  },
  {
   "cell_type": "markdown",
   "id": "91efa16d",
   "metadata": {},
   "source": [
    "##### 합성곱\n",
    "커널에서 실행하는 연산은 입력데이터와 가중치의 곱에 대한 합계 구하는것\n",
    "\n",
    "기능 : 인공신경망에서 노드의 연산과 동일\n",
    "\n",
    "##### 패딩\n",
    "합성곱을 수행할 때 입력 데이터의 주변 픽셀을 특정 값으로 채워 늘리는 것\n",
    "\n",
    "공간적 크기가 층을 지날 때마다 점점 작아져 가장자리의 정보 손실 막음\n",
    "\n",
    "패딩 함으로써 현재 층의 입력데이터의 공간적 크기가 유지된 상태로 출력을 다음 층으로 전달\n",
    "\n",
    "주로 가장자리에 0을 채우는 제로패딩 사용\n",
    "\n",
    "##### 스트라이드\n",
    "입력데이터에 필터가 적용될 때 필터가 이동하는 간격\n",
    "\n",
    "스트라이드 값이 클수록 출력의 공간적 크기가 작아지므로 일반적으로 스트라이드를 작은 값으로 지정\n",
    "\n",
    "필터의 적용 횟수는 필터의 크기 자체보다는 스트라이드 값에 의해서 더 영향받음\n",
    "\n",
    "##### 풀링\n",
    "구역 내에서 대표 값만 추출함으로써 출력의 공간적 크기 줄이는 기법\n",
    "\n",
    "최대풀링 / 평균풀링 / 최소풀링 있으며 일반적으로는 최대풀링 사용\n",
    "\n",
    "##### 드롭아웃\n",
    "일부 노드들을 삭제함으로써 학습에 영향을 주지 않도록 처리하여 과대적합 방지\n",
    "\n",
    "삭제 대상 노드는 무작위의 비율 값에 따라서 선택\n",
    "\n",
    "기본적으로는 완전히 상호연결된 결합 은닉층에 대해서 실행, 그 이전 단계에서도 적용 가능"
   ]
  },
  {
   "cell_type": "code",
   "execution_count": 1,
   "id": "36c2ab4c",
   "metadata": {},
   "outputs": [],
   "source": [
    "from sklearn.datasets import fetch_openml\n",
    "from sklearn.model_selection import train_test_split\n",
    "from tensorflow.keras.utils import to_categorical\n",
    "import numpy as np"
   ]
  },
  {
   "cell_type": "code",
   "execution_count": 4,
   "id": "9437f583",
   "metadata": {},
   "outputs": [
    {
     "data": {
      "text/plain": [
       "70000"
      ]
     },
     "execution_count": 4,
     "metadata": {},
     "output_type": "execute_result"
    }
   ],
   "source": [
    "len(mnist.data)"
   ]
  },
  {
   "cell_type": "code",
   "execution_count": 6,
   "id": "f208ea84",
   "metadata": {},
   "outputs": [],
   "source": [
    "mnist = fetch_openml(\"mnist_784\",version=1)"
   ]
  },
  {
   "cell_type": "code",
   "execution_count": 11,
   "id": "ddc059b3",
   "metadata": {},
   "outputs": [],
   "source": [
    "X = (mnist.data / 255).values.reshape(len(mnist.data),28,28,1) #정규화\n",
    "y= to_categorical(mnist.target.astype(int),10) #원핫인코딩 , 레이블링\n",
    "\n",
    "X_train,X_test,y_train,y_test = train_test_split(X,y,test_size=0.3,random_state=1)"
   ]
  },
  {
   "cell_type": "code",
   "execution_count": 21,
   "id": "06fab307",
   "metadata": {},
   "outputs": [
    {
     "name": "stdout",
     "output_type": "stream",
     "text": [
      "5\n"
     ]
    },
    {
     "data": {
      "image/png": "[encoded data removed]",
      "text/plain": [
       "<Figure size 432x288 with 1 Axes>"
      ]
     },
     "metadata": {
      "needs_background": "light"
     },
     "output_type": "display_data"
    }
   ],
   "source": [
    "import matplotlib.pyplot as plt\n",
    "\n",
    "p = mnist.data.iloc[100].values.reshape(28,28)\n",
    "plt.imshow(p,cmap='gray')\n",
    "print(mnist.target[100])"
   ]
  },
  {
   "cell_type": "code",
   "execution_count": 22,
   "id": "edf64f53",
   "metadata": {},
   "outputs": [],
   "source": [
    "from keras.models import Sequential\n",
    "from keras.layers import Dense, Flatten, Dropout\n",
    "from keras.layers.convolutional import Conv2D, MaxPooling2D\n",
    "\n",
    "model = Sequential()\n",
    "model.add(Conv2D(filters=32, kernel_size=(3,3), strides=(1,1),padding='Same',activation='relu',input_shape=(28,28,1)))\n",
    "model.add(Conv2D(filters=32,kernel_size=(3,3),strides=(1,1),padding='Same',activation='relu'))\n",
    "model.add(MaxPooling2D(pool_size=(2,2)))\n",
    "model.add(Conv2D(filters=64, kernel_size=(3,3), strides=(1,1),padding='Same',activation='relu'))\n",
    "model.add(Conv2D(filters=64,kernel_size=(3,3),strides=(1,1),padding='Same',activation='relu'))\n",
    "model.add(MaxPooling2D(pool_size=(2,2)))\n",
    "model.add(Flatten())\n",
    "model.add(Dense(units=128,activation='relu'))\n",
    "model.add(Dropout(0.25))\n",
    "model.add(Dense(units=10,activation='softmax'))"
   ]
  },
  {
   "cell_type": "code",
   "execution_count": 23,
   "id": "5c75448e",
   "metadata": {},
   "outputs": [
    {
     "name": "stdout",
     "output_type": "stream",
     "text": [
      "Model: \"sequential\"\n",
      "_________________________________________________________________\n",
      "Layer (type)                 Output Shape              Param #   \n",
      "=================================================================\n",
      "conv2d (Conv2D)              (None, 28, 28, 32)        320       \n",
      "_________________________________________________________________\n",
      "conv2d_1 (Conv2D)            (None, 28, 28, 32)        9248      \n",
      "_________________________________________________________________\n",
      "max_pooling2d (MaxPooling2D) (None, 14, 14, 32)        0         \n",
      "_________________________________________________________________\n",
      "conv2d_2 (Conv2D)            (None, 14, 14, 64)        18496     \n",
      "_________________________________________________________________\n",
      "conv2d_3 (Conv2D)            (None, 14, 14, 64)        36928     \n",
      "_________________________________________________________________\n",
      "max_pooling2d_1 (MaxPooling2 (None, 7, 7, 64)          0         \n",
      "_________________________________________________________________\n",
      "flatten (Flatten)            (None, 3136)              0         \n",
      "_________________________________________________________________\n",
      "dense (Dense)                (None, 128)               401536    \n",
      "_________________________________________________________________\n",
      "dropout (Dropout)            (None, 128)               0         \n",
      "_________________________________________________________________\n",
      "dense_1 (Dense)              (None, 10)                1290      \n",
      "=================================================================\n",
      "Total params: 467,818\n",
      "Trainable params: 467,818\n",
      "Non-trainable params: 0\n",
      "_________________________________________________________________\n"
     ]
    }
   ],
   "source": [
    "model.summary()"
   ]
  },
  {
   "cell_type": "code",
   "execution_count": 24,
   "id": "80abbc47",
   "metadata": {},
   "outputs": [],
   "source": [
    "model.compile(loss='categorical_crossentropy',\n",
    "              optimizer='adam',metrics=['accuracy'])"
   ]
  },
  {
   "cell_type": "code",
   "execution_count": 25,
   "id": "6dccb19e",
   "metadata": {},
   "outputs": [
    {
     "name": "stderr",
     "output_type": "stream",
     "text": [
      "2021-07-30 23:02:20.692930: I tensorflow/compiler/mlir/mlir_graph_optimization_pass.cc:116] None of the MLIR optimization passes are enabled (registered 2)\n",
      "2021-07-30 23:02:20.694484: W tensorflow/core/platform/profile_utils/cpu_utils.cc:126] Failed to get CPU frequency: 0 Hz\n"
     ]
    },
    {
     "name": "stdout",
     "output_type": "stream",
     "text": [
      "Epoch 1/10\n",
      "490/490 - 18s - loss: 99.8750 - accuracy: 0.8763\n",
      "Epoch 2/10\n",
      "490/490 - 17s - loss: 95.9608 - accuracy: 0.9574\n",
      "Epoch 3/10\n",
      "490/490 - 17s - loss: 112.0836 - accuracy: 0.9646\n",
      "Epoch 4/10\n",
      "490/490 - 17s - loss: 120.9757 - accuracy: 0.9711\n",
      "Epoch 5/10\n",
      "490/490 - 17s - loss: 103.1173 - accuracy: 0.9756\n",
      "Epoch 6/10\n",
      "490/490 - 17s - loss: 203.7091 - accuracy: 0.9717\n",
      "Epoch 7/10\n",
      "490/490 - 17s - loss: 298.8549 - accuracy: 0.9753\n",
      "Epoch 8/10\n",
      "490/490 - 17s - loss: 409.9727 - accuracy: 0.9770\n",
      "Epoch 9/10\n",
      "490/490 - 17s - loss: 557.1063 - accuracy: 0.9788\n",
      "Epoch 10/10\n",
      "490/490 - 17s - loss: 856.5087 - accuracy: 0.9800\n"
     ]
    }
   ],
   "source": [
    "hist = model.fit(X_train,y_train,epochs=10,batch_size=100,verbose=2)"
   ]
  },
  {
   "cell_type": "code",
   "execution_count": 26,
   "id": "6dc35d4d",
   "metadata": {},
   "outputs": [
    {
     "data": {
      "text/plain": [
       "[0.87628573179245,\n",
       " 0.9574285745620728,\n",
       " 0.9646326303482056,\n",
       " 0.9710816144943237,\n",
       " 0.9755918383598328,\n",
       " 0.9716938734054565,\n",
       " 0.9753469228744507,\n",
       " 0.9769591689109802,\n",
       " 0.9787551164627075,\n",
       " 0.9799591898918152]"
      ]
     },
     "execution_count": 26,
     "metadata": {},
     "output_type": "execute_result"
    }
   ],
   "source": [
    "hist.history['accuracy']"
   ]
  },
  {
   "cell_type": "code",
   "execution_count": 27,
   "id": "25e7ea29",
   "metadata": {},
   "outputs": [
    {
     "data": {
      "text/plain": [
       "[99.875,\n",
       " 95.96078491210938,\n",
       " 112.08362579345703,\n",
       " 120.9756851196289,\n",
       " 103.11732482910156,\n",
       " 203.70912170410156,\n",
       " 298.8548889160156,\n",
       " 409.9726867675781,\n",
       " 557.1062622070312,\n",
       " 856.5086669921875]"
      ]
     },
     "execution_count": 27,
     "metadata": {},
     "output_type": "execute_result"
    }
   ],
   "source": [
    "hist.history['loss']"
   ]
  },
  {
   "cell_type": "code",
   "execution_count": 28,
   "id": "0c83c4ee",
   "metadata": {},
   "outputs": [
    {
     "name": "stdout",
     "output_type": "stream",
     "text": [
      "657/657 [==============================] - 3s 4ms/step - loss: 943.7435 - accuracy: 0.9830\n",
      "손실값 : 943.744\n",
      "정확도 : 0.983\n"
     ]
    }
   ],
   "source": [
    "loss , acc = model.evaluate(X_test,y_test)\n",
    "print('손실값 :',round(loss,3))\n",
    "print('정확도 :',round(acc,3))"
   ]
  },
  {
   "cell_type": "code",
   "execution_count": 29,
   "id": "117cbf67",
   "metadata": {},
   "outputs": [
    {
     "name": "stderr",
     "output_type": "stream",
     "text": [
      "/Users/song-go-eun/miniforge3/envs/tf24/lib/python3.8/site-packages/tensorflow/python/keras/engine/sequential.py:450: UserWarning: `model.predict_classes()` is deprecated and will be removed after 2021-01-01. Please use instead:* `np.argmax(model.predict(x), axis=-1)`,   if your model does multi-class classification   (e.g. if it uses a `softmax` last-layer activation).* `(model.predict(x) > 0.5).astype(\"int32\")`,   if your model does binary classification   (e.g. if it uses a `sigmoid` last-layer activation).\n",
      "  warnings.warn('`model.predict_classes()` is deprecated and '\n"
     ]
    },
    {
     "name": "stdout",
     "output_type": "stream",
     "text": [
      "[6 2 7]\n"
     ]
    }
   ],
   "source": [
    "y_pred_class= model.predict_classes(X_test)\n",
    "print(y_pred_class[0:3])"
   ]
  },
  {
   "cell_type": "code",
   "execution_count": null,
   "id": "6aa99406",
   "metadata": {},
   "outputs": [],
   "source": []
  },
  {
   "cell_type": "code",
   "execution_count": 30,
   "id": "f107432d",
   "metadata": {},
   "outputs": [],
   "source": [
    "import keras.datasets as d\n",
    "import tensorflow as tf"
   ]
  },
  {
   "cell_type": "code",
   "execution_count": 31,
   "id": "8b4414a1",
   "metadata": {},
   "outputs": [],
   "source": [
    "fmnist = tf.keras.datasets.fashion_mnist"
   ]
  },
  {
   "cell_type": "code",
   "execution_count": 32,
   "id": "ad15b74f",
   "metadata": {},
   "outputs": [
    {
     "name": "stdout",
     "output_type": "stream",
     "text": [
      "Downloading data from https://storage.googleapis.com/tensorflow/tf-keras-datasets/train-labels-idx1-ubyte.gz\n",
      "32768/29515 [=================================] - 0s 0us/step\n",
      "Downloading data from https://storage.googleapis.com/tensorflow/tf-keras-datasets/train-images-idx3-ubyte.gz\n",
      "26427392/26421880 [==============================] - 6s 0us/step\n",
      "Downloading data from https://storage.googleapis.com/tensorflow/tf-keras-datasets/t10k-labels-idx1-ubyte.gz\n",
      "8192/5148 [===============================================] - 0s 1us/step\n",
      "Downloading data from https://storage.googleapis.com/tensorflow/tf-keras-datasets/t10k-images-idx3-ubyte.gz\n",
      "4423680/4422102 [==============================] - 1s 0us/step\n"
     ]
    }
   ],
   "source": [
    "(X_train,y_train),(X_test,y_test)=fmnist.load_data()"
   ]
  },
  {
   "cell_type": "code",
   "execution_count": 33,
   "id": "2584816c",
   "metadata": {},
   "outputs": [
    {
     "data": {
      "text/plain": [
       "(60000, 28, 28)"
      ]
     },
     "execution_count": 33,
     "metadata": {},
     "output_type": "execute_result"
    }
   ],
   "source": [
    "X_train.shape"
   ]
  },
  {
   "cell_type": "code",
   "execution_count": 34,
   "id": "f92b5d52",
   "metadata": {},
   "outputs": [
    {
     "data": {
      "text/plain": [
       "(60000,)"
      ]
     },
     "execution_count": 34,
     "metadata": {},
     "output_type": "execute_result"
    }
   ],
   "source": [
    "y_train.shape"
   ]
  },
  {
   "cell_type": "code",
   "execution_count": 35,
   "id": "91d43ea6",
   "metadata": {},
   "outputs": [
    {
     "data": {
      "text/plain": [
       "array([9, 0, 0, 3, 0, 2, 7, 2, 5, 5], dtype=uint8)"
      ]
     },
     "execution_count": 35,
     "metadata": {},
     "output_type": "execute_result"
    }
   ],
   "source": [
    "y_train[:10]"
   ]
  },
  {
   "cell_type": "code",
   "execution_count": 37,
   "id": "5779d05e",
   "metadata": {},
   "outputs": [
    {
     "name": "stdout",
     "output_type": "stream",
     "text": [
      "[9 0 0]\n"
     ]
    },
    {
     "data": {
      "image/png": "[encoded data removed]",
      "text/plain": [
       "<Figure size 864x288 with 3 Axes>"
      ]
     },
     "metadata": {
      "needs_background": "light"
     },
     "output_type": "display_data"
    }
   ],
   "source": [
    "plt.figure(figsize=(12,4))\n",
    "plt.subplot(1,3,1)\n",
    "plt.imshow(X_train[0])\n",
    "\n",
    "plt.subplot(1,3,2)\n",
    "plt.imshow(X_train[1])\n",
    "\n",
    "plt.subplot(1,3,3)\n",
    "plt.imshow(X_train[2])\n",
    "\n",
    "print(y_train[:3])"
   ]
  },
  {
   "cell_type": "code",
   "execution_count": 38,
   "id": "dd28dc7a",
   "metadata": {},
   "outputs": [],
   "source": [
    "X_train = X_train[:,:,:,np.newaxis]\n",
    "X_test = X_test[:,:,:,np.newaxis]"
   ]
  },
  {
   "cell_type": "code",
   "execution_count": 39,
   "id": "c6ba9366",
   "metadata": {},
   "outputs": [
    {
     "data": {
      "text/plain": [
       "((60000, 28, 28, 1), (10000, 28, 28, 1))"
      ]
     },
     "execution_count": 39,
     "metadata": {},
     "output_type": "execute_result"
    }
   ],
   "source": [
    "X_train.shape,X_test.shape"
   ]
  },
  {
   "cell_type": "code",
   "execution_count": 40,
   "id": "ef0a096c",
   "metadata": {},
   "outputs": [],
   "source": [
    "y_train = to_categorical(y_train,10)"
   ]
  },
  {
   "cell_type": "code",
   "execution_count": 41,
   "id": "3d2e284c",
   "metadata": {},
   "outputs": [],
   "source": [
    "model = Sequential()\n",
    "model.add(Conv2D(filters=32, kernel_size=(3,3), strides=(1,1),padding='Same',activation='relu',input_shape=[28,28,1]))\n",
    "model.add(Conv2D(filters=32,kernel_size=(3,3),strides=(1,1),padding='Same',activation='relu'))\n",
    "model.add(MaxPooling2D(pool_size=(2,2)))\n",
    "model.add(Conv2D(filters=64, kernel_size=(3,3), strides=(1,1),padding='Same',activation='relu'))\n",
    "model.add(Conv2D(filters=64,kernel_size=(3,3),strides=(1,1),padding='Same',activation='relu'))\n",
    "model.add(MaxPooling2D(pool_size=(2,2)))\n",
    "model.add(Flatten())\n",
    "model.add(Dense(units=128,activation='relu'))\n",
    "model.add(Dropout(0.25))\n",
    "model.add(Dense(units=10,activation='softmax'))"
   ]
  },
  {
   "cell_type": "code",
   "execution_count": 42,
   "id": "fbd43e17",
   "metadata": {},
   "outputs": [],
   "source": [
    "model.compile(loss='categorical_crossentropy',\n",
    "              optimizer='adam',metrics=['accuracy'])"
   ]
  },
  {
   "cell_type": "code",
   "execution_count": 43,
   "id": "7a745d03",
   "metadata": {},
   "outputs": [
    {
     "name": "stdout",
     "output_type": "stream",
     "text": [
      "Epoch 1/10\n",
      "1875/1875 [==============================] - 24s 13ms/step - loss: 1.6660 - accuracy: 0.7280\n",
      "Epoch 2/10\n",
      "1875/1875 [==============================] - 23s 12ms/step - loss: 0.5293 - accuracy: 0.8494\n",
      "Epoch 3/10\n",
      "1875/1875 [==============================] - 23s 12ms/step - loss: 0.4887 - accuracy: 0.8626\n",
      "Epoch 4/10\n",
      "1875/1875 [==============================] - 23s 12ms/step - loss: 0.5943 - accuracy: 0.8627\n",
      "Epoch 5/10\n",
      "1875/1875 [==============================] - 23s 12ms/step - loss: 0.5214 - accuracy: 0.8747\n",
      "Epoch 6/10\n",
      "1875/1875 [==============================] - 23s 12ms/step - loss: 0.4730 - accuracy: 0.8845\n",
      "Epoch 7/10\n",
      "1875/1875 [==============================] - 23s 12ms/step - loss: 0.6040 - accuracy: 0.8824\n",
      "Epoch 8/10\n",
      "1875/1875 [==============================] - 23s 12ms/step - loss: 1.3026 - accuracy: 0.8710\n",
      "Epoch 9/10\n",
      "1875/1875 [==============================] - 23s 12ms/step - loss: 1.7368 - accuracy: 0.8733\n",
      "Epoch 10/10\n",
      "1875/1875 [==============================] - 23s 12ms/step - loss: 5.2868 - accuracy: 0.8679\n"
     ]
    }
   ],
   "source": [
    "hist = model.fit(X_train,y_train,epochs=10)"
   ]
  },
  {
   "cell_type": "code",
   "execution_count": 44,
   "id": "13019ea2",
   "metadata": {},
   "outputs": [
    {
     "name": "stdout",
     "output_type": "stream",
     "text": [
      "313/313 [==============================] - 1s 4ms/step - loss: 4.3157 - accuracy: 0.8832\n",
      "손실값 : 4.316\n",
      "정확도 : 0.883\n"
     ]
    }
   ],
   "source": [
    "y_test = to_categorical(y_test,10)\n",
    "loss , acc = model.evaluate(X_test,y_test)\n",
    "print('손실값 :',round(loss,3))\n",
    "print('정확도 :',round(acc,3))"
   ]
  },
  {
   "cell_type": "code",
   "execution_count": 45,
   "id": "764a7f97",
   "metadata": {},
   "outputs": [
    {
     "name": "stdout",
     "output_type": "stream",
     "text": [
      "[3 6 7]\n"
     ]
    }
   ],
   "source": [
    "y_pred = np.argmax(model.predict(X_test[100:103]),axis=1)\n",
    "print(y_pred)"
   ]
  },
  {
   "cell_type": "code",
   "execution_count": null,
   "id": "0a975ddf",
   "metadata": {},
   "outputs": [],
   "source": []
  }
 ],
 "metadata": {
  "kernelspec": {
   "display_name": "Python 3 (ipykernel)",
   "language": "python",
   "name": "python3"
  },
  "language_info": {
   "codemirror_mode": {
    "name": "ipython",
    "version": 3
   },
   "file_extension": ".py",
   "mimetype": "text/x-python",
   "name": "python",
   "nbconvert_exporter": "python",
   "pygments_lexer": "ipython3",
   "version": "3.8.10"
  }
 },
 "nbformat": 4,
 "nbformat_minor": 5
}
