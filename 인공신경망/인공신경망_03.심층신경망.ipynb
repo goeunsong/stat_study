{
 "cells": [
  {
   "cell_type": "markdown",
   "id": "aca93ae3",
   "metadata": {},
   "source": [
    "1) 붓꽃데이터 활용"
   ]
  },
  {
   "cell_type": "code",
   "execution_count": 1,
   "id": "d34ecc1c",
   "metadata": {},
   "outputs": [],
   "source": [
    "import tensorflow as tf\n",
    "from tensorflow import keras"
   ]
  },
  {
   "cell_type": "code",
   "execution_count": 2,
   "id": "b1df5693",
   "metadata": {},
   "outputs": [],
   "source": [
    "from sklearn.datasets import load_iris\n",
    "\n",
    "iris = load_iris()\n",
    "X,y_ori = iris.data, iris.target"
   ]
  },
  {
   "cell_type": "code",
   "execution_count": 3,
   "id": "26105653",
   "metadata": {},
   "outputs": [
    {
     "data": {
      "text/plain": [
       "array([0, 0, 0, 0, 0, 0, 0, 0, 0, 0, 0, 0, 0, 0, 0, 0, 0, 0, 0, 0, 0, 0,\n",
       "       0, 0, 0, 0, 0, 0, 0, 0, 0, 0, 0, 0, 0, 0, 0, 0, 0, 0, 0, 0, 0, 0,\n",
       "       0, 0, 0, 0, 0, 0, 1, 1, 1, 1, 1, 1, 1, 1, 1, 1, 1, 1, 1, 1, 1, 1,\n",
       "       1, 1, 1, 1, 1, 1, 1, 1, 1, 1, 1, 1, 1, 1, 1, 1, 1, 1, 1, 1, 1, 1,\n",
       "       1, 1, 1, 1, 1, 1, 1, 1, 1, 1, 1, 1, 2, 2, 2, 2, 2, 2, 2, 2, 2, 2,\n",
       "       2, 2, 2, 2, 2, 2, 2, 2, 2, 2, 2, 2, 2, 2, 2, 2, 2, 2, 2, 2, 2, 2,\n",
       "       2, 2, 2, 2, 2, 2, 2, 2, 2, 2, 2, 2, 2, 2, 2, 2, 2, 2])"
      ]
     },
     "execution_count": 3,
     "metadata": {},
     "output_type": "execute_result"
    }
   ],
   "source": [
    "y_ori"
   ]
  },
  {
   "cell_type": "code",
   "execution_count": 4,
   "id": "e1c44f1c",
   "metadata": {},
   "outputs": [],
   "source": [
    "from tensorflow.keras.utils import to_categorical\n",
    "#y가 원핫인코딩 되어있어야\n",
    "y= to_categorical(y_ori,3)"
   ]
  },
  {
   "cell_type": "code",
   "execution_count": 5,
   "id": "8d2a2a66",
   "metadata": {},
   "outputs": [
    {
     "data": {
      "text/plain": [
       "array([[1., 0., 0.],\n",
       "       [1., 0., 0.],\n",
       "       [1., 0., 0.],\n",
       "       [1., 0., 0.],\n",
       "       [1., 0., 0.],\n",
       "       [1., 0., 0.],\n",
       "       [1., 0., 0.],\n",
       "       [1., 0., 0.],\n",
       "       [1., 0., 0.],\n",
       "       [1., 0., 0.],\n",
       "       [1., 0., 0.],\n",
       "       [1., 0., 0.],\n",
       "       [1., 0., 0.],\n",
       "       [1., 0., 0.],\n",
       "       [1., 0., 0.],\n",
       "       [1., 0., 0.],\n",
       "       [1., 0., 0.],\n",
       "       [1., 0., 0.],\n",
       "       [1., 0., 0.],\n",
       "       [1., 0., 0.],\n",
       "       [1., 0., 0.],\n",
       "       [1., 0., 0.],\n",
       "       [1., 0., 0.],\n",
       "       [1., 0., 0.],\n",
       "       [1., 0., 0.],\n",
       "       [1., 0., 0.],\n",
       "       [1., 0., 0.],\n",
       "       [1., 0., 0.],\n",
       "       [1., 0., 0.],\n",
       "       [1., 0., 0.],\n",
       "       [1., 0., 0.],\n",
       "       [1., 0., 0.],\n",
       "       [1., 0., 0.],\n",
       "       [1., 0., 0.],\n",
       "       [1., 0., 0.],\n",
       "       [1., 0., 0.],\n",
       "       [1., 0., 0.],\n",
       "       [1., 0., 0.],\n",
       "       [1., 0., 0.],\n",
       "       [1., 0., 0.],\n",
       "       [1., 0., 0.],\n",
       "       [1., 0., 0.],\n",
       "       [1., 0., 0.],\n",
       "       [1., 0., 0.],\n",
       "       [1., 0., 0.],\n",
       "       [1., 0., 0.],\n",
       "       [1., 0., 0.],\n",
       "       [1., 0., 0.],\n",
       "       [1., 0., 0.],\n",
       "       [1., 0., 0.],\n",
       "       [0., 1., 0.],\n",
       "       [0., 1., 0.],\n",
       "       [0., 1., 0.],\n",
       "       [0., 1., 0.],\n",
       "       [0., 1., 0.],\n",
       "       [0., 1., 0.],\n",
       "       [0., 1., 0.],\n",
       "       [0., 1., 0.],\n",
       "       [0., 1., 0.],\n",
       "       [0., 1., 0.],\n",
       "       [0., 1., 0.],\n",
       "       [0., 1., 0.],\n",
       "       [0., 1., 0.],\n",
       "       [0., 1., 0.],\n",
       "       [0., 1., 0.],\n",
       "       [0., 1., 0.],\n",
       "       [0., 1., 0.],\n",
       "       [0., 1., 0.],\n",
       "       [0., 1., 0.],\n",
       "       [0., 1., 0.],\n",
       "       [0., 1., 0.],\n",
       "       [0., 1., 0.],\n",
       "       [0., 1., 0.],\n",
       "       [0., 1., 0.],\n",
       "       [0., 1., 0.],\n",
       "       [0., 1., 0.],\n",
       "       [0., 1., 0.],\n",
       "       [0., 1., 0.],\n",
       "       [0., 1., 0.],\n",
       "       [0., 1., 0.],\n",
       "       [0., 1., 0.],\n",
       "       [0., 1., 0.],\n",
       "       [0., 1., 0.],\n",
       "       [0., 1., 0.],\n",
       "       [0., 1., 0.],\n",
       "       [0., 1., 0.],\n",
       "       [0., 1., 0.],\n",
       "       [0., 1., 0.],\n",
       "       [0., 1., 0.],\n",
       "       [0., 1., 0.],\n",
       "       [0., 1., 0.],\n",
       "       [0., 1., 0.],\n",
       "       [0., 1., 0.],\n",
       "       [0., 1., 0.],\n",
       "       [0., 1., 0.],\n",
       "       [0., 1., 0.],\n",
       "       [0., 1., 0.],\n",
       "       [0., 1., 0.],\n",
       "       [0., 1., 0.],\n",
       "       [0., 1., 0.],\n",
       "       [0., 0., 1.],\n",
       "       [0., 0., 1.],\n",
       "       [0., 0., 1.],\n",
       "       [0., 0., 1.],\n",
       "       [0., 0., 1.],\n",
       "       [0., 0., 1.],\n",
       "       [0., 0., 1.],\n",
       "       [0., 0., 1.],\n",
       "       [0., 0., 1.],\n",
       "       [0., 0., 1.],\n",
       "       [0., 0., 1.],\n",
       "       [0., 0., 1.],\n",
       "       [0., 0., 1.],\n",
       "       [0., 0., 1.],\n",
       "       [0., 0., 1.],\n",
       "       [0., 0., 1.],\n",
       "       [0., 0., 1.],\n",
       "       [0., 0., 1.],\n",
       "       [0., 0., 1.],\n",
       "       [0., 0., 1.],\n",
       "       [0., 0., 1.],\n",
       "       [0., 0., 1.],\n",
       "       [0., 0., 1.],\n",
       "       [0., 0., 1.],\n",
       "       [0., 0., 1.],\n",
       "       [0., 0., 1.],\n",
       "       [0., 0., 1.],\n",
       "       [0., 0., 1.],\n",
       "       [0., 0., 1.],\n",
       "       [0., 0., 1.],\n",
       "       [0., 0., 1.],\n",
       "       [0., 0., 1.],\n",
       "       [0., 0., 1.],\n",
       "       [0., 0., 1.],\n",
       "       [0., 0., 1.],\n",
       "       [0., 0., 1.],\n",
       "       [0., 0., 1.],\n",
       "       [0., 0., 1.],\n",
       "       [0., 0., 1.],\n",
       "       [0., 0., 1.],\n",
       "       [0., 0., 1.],\n",
       "       [0., 0., 1.],\n",
       "       [0., 0., 1.],\n",
       "       [0., 0., 1.],\n",
       "       [0., 0., 1.],\n",
       "       [0., 0., 1.],\n",
       "       [0., 0., 1.],\n",
       "       [0., 0., 1.],\n",
       "       [0., 0., 1.],\n",
       "       [0., 0., 1.]], dtype=float32)"
      ]
     },
     "execution_count": 5,
     "metadata": {},
     "output_type": "execute_result"
    }
   ],
   "source": [
    "y"
   ]
  },
  {
   "cell_type": "code",
   "execution_count": 6,
   "id": "8c7d912d",
   "metadata": {},
   "outputs": [],
   "source": [
    "from sklearn.model_selection import train_test_split\n",
    "\n",
    "X_train, X_test, y_train, y_test = train_test_split(X,y,test_size=0.3,random_state=0)"
   ]
  },
  {
   "cell_type": "code",
   "execution_count": 7,
   "id": "ce3bde43",
   "metadata": {},
   "outputs": [],
   "source": [
    "#인공신경망 모형 구성\n",
    "from keras.models import Sequential\n",
    "from keras.layers import Dense\n",
    "\n",
    "#sequential 이용해 신경망의 층을 순서대로 쌓을 수 있도록 초기화\n",
    "model = Sequential()\n",
    "\n",
    "# units : 해당 층에 배치 할 노드의 수\n",
    "# input_dim : 입력 특성의 수, 입력 노드의 개수. 최초 은닉층 외에는 기재하지 않음\n",
    "# kernel_initializer : 가중치들의 초기화, 설정방법\n",
    "# activation : 활성화 함수\n",
    "# 노드가 8개 있는 은닉층 1개와 최종 출력노드가 3개있는 출력층 생성\n",
    "model.add(Dense(units=8, input_dim=4,\n",
    "                kernel_initializer='uniform',\n",
    "                activation='relu'))\n",
    "model.add(Dense(units=3,activation='softmax'))"
   ]
  },
  {
   "cell_type": "code",
   "execution_count": 8,
   "id": "9ccf5e0c",
   "metadata": {},
   "outputs": [],
   "source": [
    "#모형의 학습과정에 대한 설정\n",
    "# loss : 손실함수. 이진분류인 경우에 'binary_crossentropy' / 다중클래스 분류인 경우에 'categorical_crossentropy'\n",
    "# optimizer : 가중치 최적화 위해 적용되는 알고리즘 이름\n",
    "# metrics : 모형의 성능 평가 지표가 나열되는 목록\n",
    "model.compile(loss='categorical_crossentropy',\n",
    "              optimizer='adam',metrics=['accuracy'])"
   ]
  },
  {
   "cell_type": "code",
   "execution_count": 9,
   "id": "7c14a6af",
   "metadata": {},
   "outputs": [
    {
     "name": "stdout",
     "output_type": "stream",
     "text": [
      "Model: \"sequential\"\n",
      "_________________________________________________________________\n",
      "Layer (type)                 Output Shape              Param #   \n",
      "=================================================================\n",
      "dense (Dense)                (None, 8)                 40        \n",
      "_________________________________________________________________\n",
      "dense_1 (Dense)              (None, 3)                 27        \n",
      "=================================================================\n",
      "Total params: 67\n",
      "Trainable params: 67\n",
      "Non-trainable params: 0\n",
      "_________________________________________________________________\n"
     ]
    }
   ],
   "source": [
    "#모형 확인\n",
    "model.summary()"
   ]
  },
  {
   "cell_type": "code",
   "execution_count": 10,
   "id": "e9f88455",
   "metadata": {},
   "outputs": [],
   "source": [
    "#아래 model.fit 에서 warning 발생시 아래문장 실행해준다.\n",
    "#!pip install gast==0.3.3"
   ]
  },
  {
   "cell_type": "code",
   "execution_count": 11,
   "id": "364c7240",
   "metadata": {},
   "outputs": [
    {
     "name": "stdout",
     "output_type": "stream",
     "text": [
      "Epoch 1/100\n"
     ]
    },
    {
     "name": "stderr",
     "output_type": "stream",
     "text": [
      "2021-07-29 01:47:00.640093: I tensorflow/compiler/mlir/mlir_graph_optimization_pass.cc:116] None of the MLIR optimization passes are enabled (registered 2)\n",
      "2021-07-29 01:47:00.640401: W tensorflow/core/platform/profile_utils/cpu_utils.cc:126] Failed to get CPU frequency: 0 Hz\n"
     ]
    },
    {
     "name": "stdout",
     "output_type": "stream",
     "text": [
      "105/105 - 0s - loss: 1.0522 - accuracy: 0.5619\n",
      "Epoch 2/100\n",
      "105/105 - 0s - loss: 0.9123 - accuracy: 0.6952\n",
      "Epoch 3/100\n",
      "105/105 - 0s - loss: 0.8008 - accuracy: 0.6952\n",
      "Epoch 4/100\n",
      "105/105 - 0s - loss: 0.7086 - accuracy: 0.6952\n",
      "Epoch 5/100\n",
      "105/105 - 0s - loss: 0.6309 - accuracy: 0.6952\n",
      "Epoch 6/100\n",
      "105/105 - 0s - loss: 0.5759 - accuracy: 0.6952\n",
      "Epoch 7/100\n",
      "105/105 - 0s - loss: 0.5292 - accuracy: 0.7048\n",
      "Epoch 8/100\n",
      "105/105 - 0s - loss: 0.4944 - accuracy: 0.6952\n",
      "Epoch 9/100\n",
      "105/105 - 0s - loss: 0.4577 - accuracy: 0.7619\n",
      "Epoch 10/100\n",
      "105/105 - 0s - loss: 0.4249 - accuracy: 0.8286\n",
      "Epoch 11/100\n",
      "105/105 - 0s - loss: 0.3960 - accuracy: 0.8571\n",
      "Epoch 12/100\n",
      "105/105 - 0s - loss: 0.3697 - accuracy: 0.9238\n",
      "Epoch 13/100\n",
      "105/105 - 0s - loss: 0.3448 - accuracy: 0.9238\n",
      "Epoch 14/100\n",
      "105/105 - 0s - loss: 0.3266 - accuracy: 0.9333\n",
      "Epoch 15/100\n",
      "105/105 - 0s - loss: 0.3064 - accuracy: 0.9619\n",
      "Epoch 16/100\n",
      "105/105 - 0s - loss: 0.2881 - accuracy: 0.9619\n",
      "Epoch 17/100\n",
      "105/105 - 0s - loss: 0.2772 - accuracy: 0.9333\n",
      "Epoch 18/100\n",
      "105/105 - 0s - loss: 0.2657 - accuracy: 0.9524\n",
      "Epoch 19/100\n",
      "105/105 - 0s - loss: 0.2524 - accuracy: 0.9619\n",
      "Epoch 20/100\n",
      "105/105 - 0s - loss: 0.2375 - accuracy: 0.9714\n",
      "Epoch 21/100\n",
      "105/105 - 0s - loss: 0.2221 - accuracy: 0.9619\n",
      "Epoch 22/100\n",
      "105/105 - 0s - loss: 0.2202 - accuracy: 0.9524\n",
      "Epoch 23/100\n",
      "105/105 - 0s - loss: 0.2155 - accuracy: 0.9429\n",
      "Epoch 24/100\n",
      "105/105 - 0s - loss: 0.1995 - accuracy: 0.9619\n",
      "Epoch 25/100\n",
      "105/105 - 0s - loss: 0.1919 - accuracy: 0.9714\n",
      "Epoch 26/100\n",
      "105/105 - 0s - loss: 0.1852 - accuracy: 0.9619\n",
      "Epoch 27/100\n",
      "105/105 - 0s - loss: 0.1766 - accuracy: 0.9714\n",
      "Epoch 28/100\n",
      "105/105 - 0s - loss: 0.1716 - accuracy: 0.9714\n",
      "Epoch 29/100\n",
      "105/105 - 0s - loss: 0.1753 - accuracy: 0.9619\n",
      "Epoch 30/100\n",
      "105/105 - 0s - loss: 0.1574 - accuracy: 0.9714\n",
      "Epoch 31/100\n",
      "105/105 - 0s - loss: 0.1536 - accuracy: 0.9714\n",
      "Epoch 32/100\n",
      "105/105 - 0s - loss: 0.1476 - accuracy: 0.9810\n",
      "Epoch 33/100\n",
      "105/105 - 0s - loss: 0.1443 - accuracy: 0.9619\n",
      "Epoch 34/100\n",
      "105/105 - 0s - loss: 0.1452 - accuracy: 0.9714\n",
      "Epoch 35/100\n",
      "105/105 - 0s - loss: 0.1354 - accuracy: 0.9810\n",
      "Epoch 36/100\n",
      "105/105 - 0s - loss: 0.1384 - accuracy: 0.9619\n",
      "Epoch 37/100\n",
      "105/105 - 0s - loss: 0.1276 - accuracy: 0.9905\n",
      "Epoch 38/100\n",
      "105/105 - 0s - loss: 0.1323 - accuracy: 0.9619\n",
      "Epoch 39/100\n",
      "105/105 - 0s - loss: 0.1155 - accuracy: 0.9810\n",
      "Epoch 40/100\n",
      "105/105 - 0s - loss: 0.1274 - accuracy: 0.9714\n",
      "Epoch 41/100\n",
      "105/105 - 0s - loss: 0.1133 - accuracy: 0.9714\n",
      "Epoch 42/100\n",
      "105/105 - 0s - loss: 0.1156 - accuracy: 0.9619\n",
      "Epoch 43/100\n",
      "105/105 - 0s - loss: 0.1129 - accuracy: 0.9714\n",
      "Epoch 44/100\n",
      "105/105 - 0s - loss: 0.1111 - accuracy: 0.9905\n",
      "Epoch 45/100\n",
      "105/105 - 0s - loss: 0.1094 - accuracy: 0.9714\n",
      "Epoch 46/100\n",
      "105/105 - 0s - loss: 0.1063 - accuracy: 0.9714\n",
      "Epoch 47/100\n",
      "105/105 - 0s - loss: 0.0978 - accuracy: 0.9905\n",
      "Epoch 48/100\n",
      "105/105 - 0s - loss: 0.1029 - accuracy: 0.9619\n",
      "Epoch 49/100\n",
      "105/105 - 0s - loss: 0.1004 - accuracy: 0.9714\n",
      "Epoch 50/100\n",
      "105/105 - 0s - loss: 0.1050 - accuracy: 0.9619\n",
      "Epoch 51/100\n",
      "105/105 - 0s - loss: 0.0956 - accuracy: 0.9810\n",
      "Epoch 52/100\n",
      "105/105 - 0s - loss: 0.0932 - accuracy: 0.9714\n",
      "Epoch 53/100\n",
      "105/105 - 0s - loss: 0.0963 - accuracy: 0.9714\n",
      "Epoch 54/100\n",
      "105/105 - 0s - loss: 0.0957 - accuracy: 0.9714\n",
      "Epoch 55/100\n",
      "105/105 - 0s - loss: 0.0878 - accuracy: 0.9714\n",
      "Epoch 56/100\n",
      "105/105 - 0s - loss: 0.0916 - accuracy: 0.9619\n",
      "Epoch 57/100\n",
      "105/105 - 0s - loss: 0.0860 - accuracy: 0.9619\n",
      "Epoch 58/100\n",
      "105/105 - 0s - loss: 0.1028 - accuracy: 0.9619\n",
      "Epoch 59/100\n",
      "105/105 - 0s - loss: 0.0880 - accuracy: 0.9619\n",
      "Epoch 60/100\n",
      "105/105 - 0s - loss: 0.0893 - accuracy: 0.9619\n",
      "Epoch 61/100\n",
      "105/105 - 0s - loss: 0.0869 - accuracy: 0.9714\n",
      "Epoch 62/100\n",
      "105/105 - 0s - loss: 0.0951 - accuracy: 0.9619\n",
      "Epoch 63/100\n",
      "105/105 - 0s - loss: 0.0885 - accuracy: 0.9524\n",
      "Epoch 64/100\n",
      "105/105 - 0s - loss: 0.0820 - accuracy: 0.9714\n",
      "Epoch 65/100\n",
      "105/105 - 0s - loss: 0.0830 - accuracy: 0.9714\n",
      "Epoch 66/100\n",
      "105/105 - 0s - loss: 0.0827 - accuracy: 0.9810\n",
      "Epoch 67/100\n",
      "105/105 - 0s - loss: 0.0813 - accuracy: 0.9714\n",
      "Epoch 68/100\n",
      "105/105 - 0s - loss: 0.0849 - accuracy: 0.9619\n",
      "Epoch 69/100\n",
      "105/105 - 0s - loss: 0.0807 - accuracy: 0.9619\n",
      "Epoch 70/100\n",
      "105/105 - 0s - loss: 0.0750 - accuracy: 0.9714\n",
      "Epoch 71/100\n",
      "105/105 - 0s - loss: 0.0763 - accuracy: 0.9714\n",
      "Epoch 72/100\n",
      "105/105 - 0s - loss: 0.0819 - accuracy: 0.9619\n",
      "Epoch 73/100\n",
      "105/105 - 0s - loss: 0.0773 - accuracy: 0.9714\n",
      "Epoch 74/100\n",
      "105/105 - 0s - loss: 0.0822 - accuracy: 0.9619\n",
      "Epoch 75/100\n",
      "105/105 - 0s - loss: 0.0708 - accuracy: 0.9810\n",
      "Epoch 76/100\n",
      "105/105 - 0s - loss: 0.0816 - accuracy: 0.9619\n",
      "Epoch 77/100\n",
      "105/105 - 0s - loss: 0.0807 - accuracy: 0.9619\n",
      "Epoch 78/100\n",
      "105/105 - 0s - loss: 0.0706 - accuracy: 0.9714\n",
      "Epoch 79/100\n",
      "105/105 - 0s - loss: 0.0731 - accuracy: 0.9810\n",
      "Epoch 80/100\n",
      "105/105 - 0s - loss: 0.0858 - accuracy: 0.9619\n",
      "Epoch 81/100\n",
      "105/105 - 0s - loss: 0.0706 - accuracy: 0.9714\n",
      "Epoch 82/100\n",
      "105/105 - 0s - loss: 0.0723 - accuracy: 0.9714\n",
      "Epoch 83/100\n",
      "105/105 - 0s - loss: 0.0722 - accuracy: 0.9619\n",
      "Epoch 84/100\n",
      "105/105 - 0s - loss: 0.0680 - accuracy: 0.9714\n",
      "Epoch 85/100\n",
      "105/105 - 0s - loss: 0.0675 - accuracy: 0.9714\n",
      "Epoch 86/100\n",
      "105/105 - 0s - loss: 0.0695 - accuracy: 0.9714\n",
      "Epoch 87/100\n",
      "105/105 - 0s - loss: 0.0685 - accuracy: 0.9714\n",
      "Epoch 88/100\n",
      "105/105 - 0s - loss: 0.0831 - accuracy: 0.9619\n",
      "Epoch 89/100\n",
      "105/105 - 0s - loss: 0.0689 - accuracy: 0.9714\n",
      "Epoch 90/100\n",
      "105/105 - 0s - loss: 0.0537 - accuracy: 1.0000\n",
      "Epoch 91/100\n",
      "105/105 - 0s - loss: 0.0730 - accuracy: 0.9714\n",
      "Epoch 92/100\n",
      "105/105 - 0s - loss: 0.0687 - accuracy: 0.9810\n",
      "Epoch 93/100\n",
      "105/105 - 0s - loss: 0.0674 - accuracy: 0.9714\n",
      "Epoch 94/100\n",
      "105/105 - 0s - loss: 0.0670 - accuracy: 0.9714\n",
      "Epoch 95/100\n",
      "105/105 - 0s - loss: 0.0631 - accuracy: 0.9714\n",
      "Epoch 96/100\n",
      "105/105 - 0s - loss: 0.0690 - accuracy: 0.9905\n",
      "Epoch 97/100\n",
      "105/105 - 0s - loss: 0.0762 - accuracy: 0.9524\n",
      "Epoch 98/100\n",
      "105/105 - 0s - loss: 0.0681 - accuracy: 0.9714\n",
      "Epoch 99/100\n",
      "105/105 - 0s - loss: 0.0653 - accuracy: 0.9619\n",
      "Epoch 100/100\n",
      "105/105 - 0s - loss: 0.0638 - accuracy: 0.9810\n"
     ]
    },
    {
     "data": {
      "text/plain": [
       "<tensorflow.python.keras.callbacks.History at 0x2972de940>"
      ]
     },
     "execution_count": 11,
     "metadata": {},
     "output_type": "execute_result"
    }
   ],
   "source": [
    "#모형 학습\n",
    "# epochs : 학습의 반복 횟수\n",
    "# batch_size : 배치의 크기\n",
    "# verbose : 학습 경과 출력하는 옵션. 0은 출력하지 않음 / 1은 매 합습 단계마다 진행막대와 상태 함께 출력 / 2는 진행막대 없이 매 학습 단계의 상태 출력\n",
    "model.fit(X_train,y_train, epochs=100, batch_size=1, verbose=2)"
   ]
  },
  {
   "cell_type": "code",
   "execution_count": 12,
   "id": "29e4ded1",
   "metadata": {},
   "outputs": [],
   "source": [
    "#학습 결과를 명시적으로 반환한 뒤 history 기능 이용해 손실과 정확도의 변화 별도로 확인\n",
    "hist = model.fit(X_train,y_train, epochs=100, batch_size=1, verbose=0)"
   ]
  },
  {
   "cell_type": "code",
   "execution_count": 13,
   "id": "ef633e24",
   "metadata": {},
   "outputs": [
    {
     "data": {
      "text/plain": [
       "[0.9714285731315613,\n",
       " 0.9714285731315613,\n",
       " 0.9809523820877075,\n",
       " 0.9714285731315613,\n",
       " 0.961904764175415,\n",
       " 0.9714285731315613,\n",
       " 0.9714285731315613,\n",
       " 0.9809523820877075,\n",
       " 0.961904764175415,\n",
       " 0.9809523820877075,\n",
       " 0.9714285731315613,\n",
       " 0.9714285731315613,\n",
       " 0.9714285731315613,\n",
       " 0.9714285731315613,\n",
       " 0.9714285731315613,\n",
       " 0.961904764175415,\n",
       " 0.961904764175415,\n",
       " 0.9809523820877075,\n",
       " 0.9809523820877075,\n",
       " 0.9714285731315613,\n",
       " 0.9714285731315613,\n",
       " 0.9809523820877075,\n",
       " 0.961904764175415,\n",
       " 0.9714285731315613,\n",
       " 0.961904764175415,\n",
       " 0.961904764175415,\n",
       " 0.9809523820877075,\n",
       " 0.9714285731315613,\n",
       " 0.9714285731315613,\n",
       " 0.9809523820877075,\n",
       " 0.9714285731315613,\n",
       " 0.9714285731315613,\n",
       " 0.9714285731315613,\n",
       " 0.961904764175415,\n",
       " 0.9714285731315613,\n",
       " 0.9809523820877075,\n",
       " 0.961904764175415,\n",
       " 0.9904761910438538,\n",
       " 0.9809523820877075,\n",
       " 0.9809523820877075,\n",
       " 0.9523809552192688,\n",
       " 0.9809523820877075,\n",
       " 0.9714285731315613,\n",
       " 0.9809523820877075,\n",
       " 0.9809523820877075,\n",
       " 0.961904764175415,\n",
       " 0.961904764175415,\n",
       " 0.9809523820877075,\n",
       " 0.9809523820877075,\n",
       " 0.9809523820877075,\n",
       " 0.961904764175415,\n",
       " 0.9809523820877075,\n",
       " 0.9714285731315613,\n",
       " 0.9714285731315613,\n",
       " 0.961904764175415,\n",
       " 0.9714285731315613,\n",
       " 0.9809523820877075,\n",
       " 0.961904764175415,\n",
       " 0.9714285731315613,\n",
       " 0.9904761910438538,\n",
       " 0.9714285731315613,\n",
       " 0.9523809552192688,\n",
       " 0.961904764175415,\n",
       " 0.9809523820877075,\n",
       " 0.9714285731315613,\n",
       " 0.9714285731315613,\n",
       " 0.9714285731315613,\n",
       " 0.9714285731315613,\n",
       " 0.961904764175415,\n",
       " 0.9714285731315613,\n",
       " 0.9714285731315613,\n",
       " 0.9714285731315613,\n",
       " 0.961904764175415,\n",
       " 0.9714285731315613,\n",
       " 0.9714285731315613,\n",
       " 0.9809523820877075,\n",
       " 0.9714285731315613,\n",
       " 0.9809523820877075,\n",
       " 0.9904761910438538,\n",
       " 0.961904764175415,\n",
       " 0.9714285731315613,\n",
       " 0.9809523820877075,\n",
       " 0.9809523820877075,\n",
       " 0.9714285731315613,\n",
       " 0.9809523820877075,\n",
       " 0.9714285731315613,\n",
       " 0.9714285731315613,\n",
       " 0.9714285731315613,\n",
       " 0.9904761910438538,\n",
       " 0.9714285731315613,\n",
       " 0.9714285731315613,\n",
       " 0.9714285731315613,\n",
       " 0.961904764175415,\n",
       " 0.9809523820877075,\n",
       " 0.9714285731315613,\n",
       " 0.9714285731315613,\n",
       " 0.9809523820877075,\n",
       " 0.9714285731315613,\n",
       " 0.9809523820877075,\n",
       " 0.9904761910438538]"
      ]
     },
     "execution_count": 13,
     "metadata": {},
     "output_type": "execute_result"
    }
   ],
   "source": [
    "#accuracy는 훈련정확도\n",
    "hist.history['accuracy']"
   ]
  },
  {
   "cell_type": "code",
   "execution_count": 14,
   "id": "712b8616",
   "metadata": {},
   "outputs": [
    {
     "data": {
      "text/plain": [
       "[0.07536045461893082,\n",
       " 0.0624086894094944,\n",
       " 0.06334850192070007,\n",
       " 0.058270413428545,\n",
       " 0.07382847368717194,\n",
       " 0.06441324204206467,\n",
       " 0.07465647906064987,\n",
       " 0.05885685980319977,\n",
       " 0.07140633463859558,\n",
       " 0.06271503865718842,\n",
       " 0.06305952370166779,\n",
       " 0.06255853921175003,\n",
       " 0.06505230814218521,\n",
       " 0.06830994784832001,\n",
       " 0.06770709156990051,\n",
       " 0.059895675629377365,\n",
       " 0.06221088394522667,\n",
       " 0.06002986058592796,\n",
       " 0.06419555842876434,\n",
       " 0.06437548249959946,\n",
       " 0.06129232421517372,\n",
       " 0.060835737735033035,\n",
       " 0.060734547674655914,\n",
       " 0.060240041464567184,\n",
       " 0.05754769593477249,\n",
       " 0.06072547659277916,\n",
       " 0.06473886966705322,\n",
       " 0.05541517585515976,\n",
       " 0.06149531900882721,\n",
       " 0.0584324486553669,\n",
       " 0.05954195186495781,\n",
       " 0.06097202003002167,\n",
       " 0.059090662747621536,\n",
       " 0.06282617151737213,\n",
       " 0.06309174001216888,\n",
       " 0.058198511600494385,\n",
       " 0.06040060520172119,\n",
       " 0.0476946085691452,\n",
       " 0.06523451209068298,\n",
       " 0.05704877898097038,\n",
       " 0.05926870182156563,\n",
       " 0.05424448475241661,\n",
       " 0.05330626666545868,\n",
       " 0.06049181520938873,\n",
       " 0.05416106432676315,\n",
       " 0.06138596683740616,\n",
       " 0.06699825823307037,\n",
       " 0.054857559502124786,\n",
       " 0.05500246211886406,\n",
       " 0.05137381702661514,\n",
       " 0.06939351558685303,\n",
       " 0.05329553410410881,\n",
       " 0.045392755419015884,\n",
       " 0.07139573991298676,\n",
       " 0.05863812938332558,\n",
       " 0.057644110172986984,\n",
       " 0.05330940708518028,\n",
       " 0.05554009974002838,\n",
       " 0.0531577505171299,\n",
       " 0.04900800436735153,\n",
       " 0.058776888996362686,\n",
       " 0.06032804399728775,\n",
       " 0.05951819196343422,\n",
       " 0.05486496910452843,\n",
       " 0.053232692182064056,\n",
       " 0.05444679409265518,\n",
       " 0.05364546924829483,\n",
       " 0.06272563338279724,\n",
       " 0.06502115726470947,\n",
       " 0.05335528030991554,\n",
       " 0.052657682448625565,\n",
       " 0.05457523092627525,\n",
       " 0.05099229887127876,\n",
       " 0.05502866208553314,\n",
       " 0.054771989583969116,\n",
       " 0.049794651567935944,\n",
       " 0.053253237158060074,\n",
       " 0.0490998737514019,\n",
       " 0.04770646616816521,\n",
       " 0.050982821732759476,\n",
       " 0.05174354463815689,\n",
       " 0.049791980534791946,\n",
       " 0.04918859153985977,\n",
       " 0.05583755671977997,\n",
       " 0.047164272516965866,\n",
       " 0.05049821734428406,\n",
       " 0.0570177361369133,\n",
       " 0.05281321704387665,\n",
       " 0.052497368305921555,\n",
       " 0.062330372631549835,\n",
       " 0.05390043184161186,\n",
       " 0.048830073326826096,\n",
       " 0.060483306646347046,\n",
       " 0.05272201821208,\n",
       " 0.06525881588459015,\n",
       " 0.05178230255842209,\n",
       " 0.05168452486395836,\n",
       " 0.050448525696992874,\n",
       " 0.05549349635839462,\n",
       " 0.04364117980003357]"
      ]
     },
     "execution_count": 14,
     "metadata": {},
     "output_type": "execute_result"
    }
   ],
   "source": [
    "#loss는 훈련 손실값\n",
    "hist.history['loss']"
   ]
  },
  {
   "cell_type": "code",
   "execution_count": 15,
   "id": "90eb95d0",
   "metadata": {},
   "outputs": [
    {
     "data": {
      "text/plain": [
       "Text(0, 0.5, 'loss')"
      ]
     },
     "execution_count": 15,
     "metadata": {},
     "output_type": "execute_result"
    },
    {
     "data": {
      "image/png": "[encoded data removed]",
      "text/plain": [
       "<Figure size 432x288 with 1 Axes>"
      ]
     },
     "metadata": {
      "needs_background": "light"
     },
     "output_type": "display_data"
    }
   ],
   "source": [
    "import matplotlib.pyplot as plt\n",
    "plt.plot(hist.history['loss'])\n",
    "plt.xlabel('epoch',fontsize=15)\n",
    "plt.ylabel('loss',fontsize=15)"
   ]
  },
  {
   "cell_type": "code",
   "execution_count": 16,
   "id": "04a08b4f",
   "metadata": {
    "scrolled": true
   },
   "outputs": [
    {
     "name": "stdout",
     "output_type": "stream",
     "text": [
      "2/2 [==============================] - 0s 4ms/step - loss: 0.0014 - accuracy: 0.2667\n"
     ]
    }
   ],
   "source": [
    "loss, acc = model.evaluate(X_test,y_test)"
   ]
  },
  {
   "cell_type": "code",
   "execution_count": 17,
   "id": "12099ba4",
   "metadata": {},
   "outputs": [
    {
     "name": "stdout",
     "output_type": "stream",
     "text": [
      "손실값 :  0.001\n",
      "정확도 :  0.267\n"
     ]
    }
   ],
   "source": [
    "print(\"손실값 : \",round(loss,3))\n",
    "print('정확도 : ',round(acc,3))"
   ]
  },
  {
   "cell_type": "code",
   "execution_count": 18,
   "id": "27b77f1a",
   "metadata": {},
   "outputs": [
    {
     "name": "stdout",
     "output_type": "stream",
     "text": [
      "[[7.86 2.15 7.01 8.39]\n",
      " [5.01 7.77 6.72 5.09]\n",
      " [2.89 4.79 3.03 8.55]]\n"
     ]
    }
   ],
   "source": [
    "#임의의 데이터에 대해 모형의 출력 확인\n",
    "#최종 시험용 데이터 집합이 별도로 존재하는 경우 그 데이터 이용해 출력 확인\n",
    "#별도 시험용 데이터 없는 경우 검증 데이터 사용 또는 임의도 데이터 직접 생성해 출력 확인\n",
    "from numpy.random import random\n",
    "from numpy import round\n",
    "\n",
    "X_new=round(random([3,4])* 10,2)\n",
    "print(X_new)"
   ]
  },
  {
   "cell_type": "code",
   "execution_count": 19,
   "id": "44694f21",
   "metadata": {},
   "outputs": [
    {
     "name": "stdout",
     "output_type": "stream",
     "text": [
      "[[1.4393996e-23 9.2843646e-07 9.9999905e-01]]\n"
     ]
    }
   ],
   "source": [
    "#새로운 데이터에 대한 출력 수행\n",
    "#결과는 출력층의 활성화 함수에 의해 추정된 확률(소프트맥스 점수)\n",
    "y_pred = model.predict(X_new)\n",
    "print(y_pred)"
   ]
  },
  {
   "cell_type": "code",
   "execution_count": 20,
   "id": "e691204f",
   "metadata": {},
   "outputs": [
    {
     "name": "stdout",
     "output_type": "stream",
     "text": [
      "[2]\n"
     ]
    },
    {
     "name": "stderr",
     "output_type": "stream",
     "text": [
      "/Users/song-go-eun/miniforge3/envs/tf24/lib/python3.8/site-packages/tensorflow/python/keras/engine/sequential.py:450: UserWarning: `model.predict_classes()` is deprecated and will be removed after 2021-01-01. Please use instead:* `np.argmax(model.predict(x), axis=-1)`,   if your model does multi-class classification   (e.g. if it uses a `softmax` last-layer activation).* `(model.predict(x) > 0.5).astype(\"int32\")`,   if your model does binary classification   (e.g. if it uses a `sigmoid` last-layer activation).\n",
      "  warnings.warn('`model.predict_classes()` is deprecated and '\n"
     ]
    }
   ],
   "source": [
    "#결과로 분류된 클래스(레이블) 얻고 싶을때\n",
    "y_pred_class = model.predict_classes(X_new)\n",
    "print(y_pred_class)"
   ]
  },
  {
   "cell_type": "markdown",
   "id": "55fd41aa",
   "metadata": {},
   "source": [
    "2) mnist 데이터 활용"
   ]
  },
  {
   "cell_type": "code",
   "execution_count": 21,
   "id": "f809319d",
   "metadata": {},
   "outputs": [],
   "source": [
    "import tensorflow as tf\n",
    "from tensorflow import keras\n",
    "from sklearn.datasets import fetch_openml\n",
    "from sklearn.model_selection import train_test_split\n",
    "from sklearn.metrics import accuracy_score, confusion_matrix\n",
    "import numpy as np\n",
    "from tensorflow.keras.utils import to_categorical\n",
    "from keras.models import Sequential\n",
    "from keras.layers import Dense\n",
    "from keras.optimizers import Adam"
   ]
  },
  {
   "cell_type": "code",
   "execution_count": 22,
   "id": "8d2472e0",
   "metadata": {},
   "outputs": [],
   "source": [
    "mnist = fetch_openml('mnist_784',version=1)\n",
    "X = mnist.data\n",
    "y_ori = mnist.target.astype(int)"
   ]
  },
  {
   "cell_type": "code",
   "execution_count": 23,
   "id": "4c735b6d",
   "metadata": {},
   "outputs": [],
   "source": [
    "y = to_categorical(y_ori,10)"
   ]
  },
  {
   "cell_type": "code",
   "execution_count": 24,
   "id": "56a6ea9b",
   "metadata": {},
   "outputs": [],
   "source": [
    "X_train, X_test,y_train,y_test = train_test_split(X,y,test_size=0.3, random_state=1)"
   ]
  },
  {
   "cell_type": "code",
   "execution_count": 25,
   "id": "eee683f2",
   "metadata": {},
   "outputs": [],
   "source": [
    "model1 = Sequential()\n",
    "model1.add(Dense(input_dim=784,units=20,activation='relu'))\n",
    "model1.add(Dense(units=15,activation='relu'))\n",
    "model1.add(Dense(units=10,activation='softmax'))"
   ]
  },
  {
   "cell_type": "code",
   "execution_count": 26,
   "id": "2868bb7a",
   "metadata": {},
   "outputs": [],
   "source": [
    "model1.compile(loss='categorical_crossentropy',optimizer=Adam(learning_rate=0.001),metrics=['accuracy'])"
   ]
  },
  {
   "cell_type": "code",
   "execution_count": 27,
   "id": "79105c23",
   "metadata": {},
   "outputs": [
    {
     "name": "stdout",
     "output_type": "stream",
     "text": [
      "Model: \"sequential_1\"\n",
      "_________________________________________________________________\n",
      "Layer (type)                 Output Shape              Param #   \n",
      "=================================================================\n",
      "dense_2 (Dense)              (None, 20)                15700     \n",
      "_________________________________________________________________\n",
      "dense_3 (Dense)              (None, 15)                315       \n",
      "_________________________________________________________________\n",
      "dense_4 (Dense)              (None, 10)                160       \n",
      "=================================================================\n",
      "Total params: 16,175\n",
      "Trainable params: 16,175\n",
      "Non-trainable params: 0\n",
      "_________________________________________________________________\n"
     ]
    }
   ],
   "source": [
    "model1.summary()"
   ]
  },
  {
   "cell_type": "code",
   "execution_count": 28,
   "id": "06bef25f",
   "metadata": {},
   "outputs": [
    {
     "name": "stdout",
     "output_type": "stream",
     "text": [
      "Epoch 1/10\n",
      "490/490 - 2s - loss: 3.7295 - accuracy: 0.2120 - val_loss: 1.8465 - val_accuracy: 0.3321\n",
      "Epoch 2/10\n",
      "490/490 - 1s - loss: 1.6747 - accuracy: 0.3822 - val_loss: 1.6533 - val_accuracy: 0.4640\n",
      "Epoch 3/10\n",
      "490/490 - 1s - loss: 1.4108 - accuracy: 0.4738 - val_loss: 1.3422 - val_accuracy: 0.5380\n",
      "Epoch 4/10\n",
      "490/490 - 1s - loss: 1.2045 - accuracy: 0.5603 - val_loss: 1.1258 - val_accuracy: 0.5922\n",
      "Epoch 5/10\n",
      "490/490 - 1s - loss: 1.0209 - accuracy: 0.6270 - val_loss: 0.9384 - val_accuracy: 0.6684\n",
      "Epoch 6/10\n",
      "490/490 - 1s - loss: 0.8579 - accuracy: 0.6885 - val_loss: 0.8313 - val_accuracy: 0.6942\n",
      "Epoch 7/10\n",
      "490/490 - 1s - loss: 0.7648 - accuracy: 0.7166 - val_loss: 0.7482 - val_accuracy: 0.7206\n",
      "Epoch 8/10\n",
      "490/490 - 1s - loss: 0.6853 - accuracy: 0.7657 - val_loss: 0.6873 - val_accuracy: 0.7939\n",
      "Epoch 9/10\n",
      "490/490 - 1s - loss: 0.6249 - accuracy: 0.8075 - val_loss: 0.6128 - val_accuracy: 0.8179\n",
      "Epoch 10/10\n",
      "490/490 - 1s - loss: 0.5785 - accuracy: 0.8290 - val_loss: 0.5935 - val_accuracy: 0.8305\n"
     ]
    }
   ],
   "source": [
    "hist = model1.fit(X_train,y_train,validation_data=(X_test,y_test),epochs=10,batch_size=100,verbose=2)"
   ]
  },
  {
   "cell_type": "code",
   "execution_count": 29,
   "id": "ce626310",
   "metadata": {},
   "outputs": [
    {
     "name": "stdout",
     "output_type": "stream",
     "text": [
      "657/657 [==============================] - 1s 2ms/step - loss: 0.5935 - accuracy: 0.8305\n",
      "loss= 0.5934746265411377\n",
      "accuracy= 0.8305237889289856\n"
     ]
    }
   ],
   "source": [
    "loss,acc =model1.evaluate(X_test,y_test)\n",
    "print('loss=',loss)\n",
    "print('accuracy=',acc)"
   ]
  },
  {
   "cell_type": "code",
   "execution_count": 30,
   "id": "a8a3777c",
   "metadata": {},
   "outputs": [
    {
     "name": "stderr",
     "output_type": "stream",
     "text": [
      "/Users/song-go-eun/miniforge3/envs/tf24/lib/python3.8/site-packages/tensorflow/python/keras/engine/sequential.py:450: UserWarning: `model.predict_classes()` is deprecated and will be removed after 2021-01-01. Please use instead:* `np.argmax(model.predict(x), axis=-1)`,   if your model does multi-class classification   (e.g. if it uses a `softmax` last-layer activation).* `(model.predict(x) > 0.5).astype(\"int32\")`,   if your model does binary classification   (e.g. if it uses a `sigmoid` last-layer activation).\n",
      "  warnings.warn('`model.predict_classes()` is deprecated and '\n"
     ]
    }
   ],
   "source": [
    "y_pred_class=model1.predict_classes(X_test)"
   ]
  },
  {
   "cell_type": "code",
   "execution_count": 31,
   "id": "6cc12f0c",
   "metadata": {},
   "outputs": [
    {
     "data": {
      "text/plain": [
       "array([6, 3, 7])"
      ]
     },
     "execution_count": 31,
     "metadata": {},
     "output_type": "execute_result"
    }
   ],
   "source": [
    "y_pred_class[:3]"
   ]
  },
  {
   "cell_type": "code",
   "execution_count": 32,
   "id": "c6228d4d",
   "metadata": {},
   "outputs": [],
   "source": [
    "y_test_class =np.argmax(y_test,axis=1)"
   ]
  },
  {
   "cell_type": "code",
   "execution_count": 33,
   "id": "8482b574",
   "metadata": {},
   "outputs": [
    {
     "name": "stdout",
     "output_type": "stream",
     "text": [
      "[[1805    0    1   32    6  197    6    4    8   17]\n",
      " [   0 2302   14   10    9    4    7    8   33    3]\n",
      " [   5    7 1503  274   27   20   31   59  186   12]\n",
      " [  43    4   58 1753    5  129    8   53   64   48]\n",
      " [   0    7    4    0 1934    3   31   11   20   53]\n",
      " [ 132   10    4  109   26 1329  122    3  129   59]\n",
      " [   2    3    0    0   21  104 1783    2   82    2]\n",
      " [   6    3   17    9   29    6    3 2002    9   72]\n",
      " [   7   33   73  111   24  141  345   15 1235   64]\n",
      " [   7    3    0   15  150   15    2   47   22 1795]]\n"
     ]
    }
   ],
   "source": [
    "print(confusion_matrix(y_test_class,y_pred_class))"
   ]
  },
  {
   "cell_type": "code",
   "execution_count": 34,
   "id": "bca5d402",
   "metadata": {},
   "outputs": [
    {
     "data": {
      "image/png": "[encoded data removed]",
      "text/plain": [
       "<Figure size 864x360 with 2 Axes>"
      ]
     },
     "metadata": {
      "needs_background": "light"
     },
     "output_type": "display_data"
    }
   ],
   "source": [
    "import matplotlib.pyplot as plt\n",
    "\n",
    "plt.figure(figsize=(12,5))\n",
    "plt.subplot(1,2,1)\n",
    "plt.plot(hist.history['accuracy'],color='blue',linestyle='--',label='train')\n",
    "plt.plot(hist.history['val_accuracy'],color='red',label='validation')\n",
    "plt.xlabel('epoch',fontsize=15)\n",
    "plt.ylabel('accuracy',fontsize=15)\n",
    "plt.title('ACCURACY',fontsize=18)\n",
    "plt.legend(fontsize=15)\n",
    "plt.grid(linestyle='--')\n",
    "\n",
    "plt.subplot(1,2,2)\n",
    "plt.plot(hist.history['loss'],color='blue',linestyle='--',label='train')\n",
    "plt.plot(hist.history['val_loss'],color='red',label='validation')\n",
    "plt.xlabel('epoch',fontsize=15)\n",
    "plt.ylabel('loss',fontsize=15)\n",
    "plt.title('LOSS',fontsize=18)\n",
    "plt.legend(fontsize=15)\n",
    "plt.grid(linestyle='--')"
   ]
  }
 ],
 "metadata": {
  "kernelspec": {
   "display_name": "Python 3 (ipykernel)",
   "language": "python",
   "name": "python3"
  },
  "language_info": {
   "codemirror_mode": {
    "name": "ipython",
    "version": 3
   },
   "file_extension": ".py",
   "mimetype": "text/x-python",
   "name": "python",
   "nbconvert_exporter": "python",
   "pygments_lexer": "ipython3",
   "version": "3.8.10"
  }
 },
 "nbformat": 4,
 "nbformat_minor": 5
}
