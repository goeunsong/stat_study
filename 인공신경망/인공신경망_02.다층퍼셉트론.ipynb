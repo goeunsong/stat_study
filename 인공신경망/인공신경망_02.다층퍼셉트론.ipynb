{
 "cells": [
  {
   "cell_type": "markdown",
   "id": "1f6111d7",
   "metadata": {},
   "source": [
    "다층퍼셉트론 = 단층퍼셉트론을 여러 층으로 쌓아 올려 만든 신경망\\\n",
    "입력층과 출력층, 한개 이상의 은닉층으로 구성"
   ]
  },
  {
   "cell_type": "code",
   "execution_count": 2,
   "id": "c8698044",
   "metadata": {},
   "outputs": [],
   "source": [
    "#MLPClassifier\n",
    "# learning_rate_init : 학습률 초기값.(기본값 0.001)\n",
    "# max_iter : 학습의 반복 횟수(에폭) (기본값 200)\n",
    "# activation : 은닉층에서 적용할 활성화 함수 이름.\n",
    "# hidden_layer_sizes : 은닉층의 규모에 대한 튜플. 기본값 (100,) = 1개의 은닉층 있고 100개의 노드 배치"
   ]
  },
  {
   "cell_type": "code",
   "execution_count": 3,
   "id": "afbf5f71",
   "metadata": {},
   "outputs": [],
   "source": [
    "import numpy as np"
   ]
  },
  {
   "cell_type": "code",
   "execution_count": 4,
   "id": "a7c3d6d4",
   "metadata": {},
   "outputs": [],
   "source": [
    "import sklearn.datasets as d"
   ]
  },
  {
   "cell_type": "code",
   "execution_count": 5,
   "id": "e23f6fdd",
   "metadata": {},
   "outputs": [],
   "source": [
    "mnist = d.fetch_openml('mnist_784',version=1)\n",
    "X = mnist.data\n",
    "y = mnist.target"
   ]
  },
  {
   "cell_type": "code",
   "execution_count": 6,
   "id": "c897f4a3",
   "metadata": {
    "scrolled": true
   },
   "outputs": [],
   "source": [
    "import sklearn.model_selection as ms\n",
    "X_train, X_test, y_train, y_test = ms.train_test_split(X,y,test_size=0.3,random_state=1)"
   ]
  },
  {
   "cell_type": "code",
   "execution_count": 7,
   "id": "88952bde",
   "metadata": {},
   "outputs": [],
   "source": [
    "import sklearn.neural_network as nn\n",
    "#MLPClassifier : 다중분류시 사용\n",
    "pnn_clf = nn.MLPClassifier(learning_rate_init=0.001,max_iter = 1000, activation = 'relu',\n",
    "                hidden_layer_sizes=(10,10))\n",
    "clf =pnn_clf.fit(X_train,y_train)\n",
    "y_pred = clf.predict(X_test)"
   ]
  },
  {
   "cell_type": "code",
   "execution_count": 8,
   "id": "3760af26",
   "metadata": {},
   "outputs": [
    {
     "name": "stdout",
     "output_type": "stream",
     "text": [
      "정확도 :  0.9108095238095238\n",
      "[[1989    0   18    8   13    3    6    9   28    2]\n",
      " [   1 2260   42    8    2    0    0   11   64    2]\n",
      " [  18   11 1947   10   21    5   14   39   55    4]\n",
      " [  13   18  108 1839    2   75    2   33   38   37]\n",
      " [   5    4   19    1 1855    3   17   14   14  131]\n",
      " [  32   14    4   72   19 1620   42    3   69   48]\n",
      " [  32    2   18    0   26   25 1856    0   40    0]\n",
      " [  10   17   16   10   23    1    2 2009    4   64]\n",
      " [  18   22   53   26   10   23   16    5 1851   24]\n",
      " [   4    9    3   18   32   18    1   49   21 1901]]\n"
     ]
    }
   ],
   "source": [
    "#분석 결과 평가(정확도)\n",
    "import sklearn.metrics as mt\n",
    "print('정확도 : ',mt.accuracy_score(y_test, y_pred))\n",
    "print(mt.confusion_matrix(y_test,y_pred))"
   ]
  }
 ],
 "metadata": {
  "kernelspec": {
   "display_name": "Python 3 (ipykernel)",
   "language": "python",
   "name": "python3"
  },
  "language_info": {
   "codemirror_mode": {
    "name": "ipython",
    "version": 3
   },
   "file_extension": ".py",
   "mimetype": "text/x-python",
   "name": "python",
   "nbconvert_exporter": "python",
   "pygments_lexer": "ipython3",
   "version": "3.8.10"
  }
 },
 "nbformat": 4,
 "nbformat_minor": 5
}
