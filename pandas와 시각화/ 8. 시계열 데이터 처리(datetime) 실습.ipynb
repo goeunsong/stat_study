{
 "cells": [
  {
   "cell_type": "code",
   "execution_count": 1,
   "metadata": {},
   "outputs": [],
   "source": [
    "import pandas as pd\n",
    "from pandas import Series, DataFrame"
   ]
  },
  {
   "cell_type": "markdown",
   "metadata": {},
   "source": [
    "# 1. 시계열 데이터 기초"
   ]
  },
  {
   "cell_type": "markdown",
   "metadata": {},
   "source": [
    "## 1.1 시계열 데이터 타입(datetime)"
   ]
  },
  {
   "cell_type": "code",
   "execution_count": 2,
   "metadata": {},
   "outputs": [],
   "source": [
    "import datetime as dt"
   ]
  },
  {
   "cell_type": "code",
   "execution_count": 3,
   "metadata": {},
   "outputs": [
    {
     "data": {
      "text/plain": [
       "datetime.datetime(2021, 3, 2, 0, 0)"
      ]
     },
     "execution_count": 3,
     "metadata": {},
     "output_type": "execute_result"
    }
   ],
   "source": [
    "dt.datetime(2021,3,2)"
   ]
  },
  {
   "cell_type": "code",
   "execution_count": 4,
   "metadata": {},
   "outputs": [
    {
     "data": {
      "text/plain": [
       "datetime.datetime(2021, 7, 18, 13, 42, 4, 266494)"
      ]
     },
     "execution_count": 4,
     "metadata": {},
     "output_type": "execute_result"
    }
   ],
   "source": [
    "now=dt.datetime.now()\n",
    "now"
   ]
  },
  {
   "cell_type": "code",
   "execution_count": 5,
   "metadata": {},
   "outputs": [
    {
     "data": {
      "text/plain": [
       "datetime.datetime(2021, 3, 2, 13, 50, tzinfo=datetime.timezone.utc)"
      ]
     },
     "execution_count": 5,
     "metadata": {},
     "output_type": "execute_result"
    }
   ],
   "source": [
    "#타임존 지정해서 날짜 생성\n",
    "dt.datetime(2021,3,2,13,50,tzinfo=dt.timezone.utc)"
   ]
  },
  {
   "cell_type": "code",
   "execution_count": 7,
   "metadata": {},
   "outputs": [
    {
     "data": {
      "text/plain": [
       "datetime.datetime(2021, 7, 18, 4, 43, 45, 985189, tzinfo=datetime.timezone.utc)"
      ]
     },
     "execution_count": 7,
     "metadata": {},
     "output_type": "execute_result"
    }
   ],
   "source": [
    "dt.datetime.now(tz=dt.timezone.utc)"
   ]
  },
  {
   "cell_type": "code",
   "execution_count": 9,
   "metadata": {},
   "outputs": [
    {
     "data": {
      "text/plain": [
       "datetime.datetime(2021, 7, 18, 4, 42, 4, 266494, tzinfo=datetime.timezone.utc)"
      ]
     },
     "execution_count": 9,
     "metadata": {},
     "output_type": "execute_result"
    }
   ],
   "source": [
    "now.astimezone(dt.timezone.utc)"
   ]
  },
  {
   "cell_type": "markdown",
   "metadata": {},
   "source": [
    "## 1.2 timedelta 를 활용한 시간 계산"
   ]
  },
  {
   "cell_type": "code",
   "execution_count": 10,
   "metadata": {},
   "outputs": [],
   "source": [
    "#시간계산 편하게 해줌\n",
    "from datetime import timedelta"
   ]
  },
  {
   "cell_type": "code",
   "execution_count": 11,
   "metadata": {},
   "outputs": [
    {
     "data": {
      "text/plain": [
       "datetime.datetime(2021, 10, 26, 13, 42, 4, 266494)"
      ]
     },
     "execution_count": 11,
     "metadata": {},
     "output_type": "execute_result"
    }
   ],
   "source": [
    "#현재 시간 기준으로 100일 뒤의 날짜\n",
    "now + timedelta(days=100)"
   ]
  },
  {
   "cell_type": "code",
   "execution_count": 12,
   "metadata": {},
   "outputs": [
    {
     "data": {
      "text/plain": [
       "datetime.datetime(2021, 7, 18, 15, 7, 4, 266494)"
      ]
     },
     "execution_count": 12,
     "metadata": {},
     "output_type": "execute_result"
    }
   ],
   "source": [
    "#현재시간 기준으로 1시간 25분 후의 시간\n",
    "now + timedelta(hours=1,minutes=25)"
   ]
  },
  {
   "cell_type": "code",
   "execution_count": 13,
   "metadata": {},
   "outputs": [],
   "source": [
    "#두 날짜 간의 차이 계산\n",
    "dt1=dt.datetime(2021,3,2,9,30)\n",
    "dt2=dt.datetime(2023,5,18,13,15)"
   ]
  },
  {
   "cell_type": "code",
   "execution_count": 15,
   "metadata": {},
   "outputs": [
    {
     "data": {
      "text/plain": [
       "datetime.timedelta(days=807, seconds=13500)"
      ]
     },
     "execution_count": 15,
     "metadata": {},
     "output_type": "execute_result"
    }
   ],
   "source": [
    "diff=dt2-dt1\n",
    "diff"
   ]
  },
  {
   "cell_type": "code",
   "execution_count": 16,
   "metadata": {},
   "outputs": [
    {
     "data": {
      "text/plain": [
       "3"
      ]
     },
     "execution_count": 16,
     "metadata": {},
     "output_type": "execute_result"
    }
   ],
   "source": [
    "#시간\n",
    "diff.seconds//3600"
   ]
  },
  {
   "cell_type": "code",
   "execution_count": 17,
   "metadata": {},
   "outputs": [
    {
     "data": {
      "text/plain": [
       "45.0"
      ]
     },
     "execution_count": 17,
     "metadata": {},
     "output_type": "execute_result"
    }
   ],
   "source": [
    "#분\n",
    "diff.seconds/60%60"
   ]
  },
  {
   "cell_type": "markdown",
   "metadata": {},
   "source": [
    "## 1.3 시계열 데이터 처리"
   ]
  },
  {
   "cell_type": "code",
   "execution_count": 19,
   "metadata": {},
   "outputs": [],
   "source": [
    "import random\n",
    "sample = DataFrame()\n",
    "sample['date'] = pd.date_range(start = '20210101', periods=500).tolist()\n",
    "sample['count'] = random.sample(range(1,1000), 500)"
   ]
  },
  {
   "cell_type": "code",
   "execution_count": 22,
   "metadata": {},
   "outputs": [
    {
     "data": {
      "text/html": [
       "<div>\n",
       "<style scoped>\n",
       "    .dataframe tbody tr th:only-of-type {\n",
       "        vertical-align: middle;\n",
       "    }\n",
       "\n",
       "    .dataframe tbody tr th {\n",
       "        vertical-align: top;\n",
       "    }\n",
       "\n",
       "    .dataframe thead th {\n",
       "        text-align: right;\n",
       "    }\n",
       "</style>\n",
       "<table border=\"1\" class=\"dataframe\">\n",
       "  <thead>\n",
       "    <tr style=\"text-align: right;\">\n",
       "      <th></th>\n",
       "      <th>date</th>\n",
       "      <th>count</th>\n",
       "    </tr>\n",
       "  </thead>\n",
       "  <tbody>\n",
       "    <tr>\n",
       "      <th>0</th>\n",
       "      <td>2021-01-01</td>\n",
       "      <td>734</td>\n",
       "    </tr>\n",
       "    <tr>\n",
       "      <th>1</th>\n",
       "      <td>2021-01-02</td>\n",
       "      <td>104</td>\n",
       "    </tr>\n",
       "    <tr>\n",
       "      <th>2</th>\n",
       "      <td>2021-01-03</td>\n",
       "      <td>690</td>\n",
       "    </tr>\n",
       "    <tr>\n",
       "      <th>3</th>\n",
       "      <td>2021-01-04</td>\n",
       "      <td>699</td>\n",
       "    </tr>\n",
       "    <tr>\n",
       "      <th>4</th>\n",
       "      <td>2021-01-05</td>\n",
       "      <td>194</td>\n",
       "    </tr>\n",
       "    <tr>\n",
       "      <th>...</th>\n",
       "      <td>...</td>\n",
       "      <td>...</td>\n",
       "    </tr>\n",
       "    <tr>\n",
       "      <th>495</th>\n",
       "      <td>2022-05-11</td>\n",
       "      <td>111</td>\n",
       "    </tr>\n",
       "    <tr>\n",
       "      <th>496</th>\n",
       "      <td>2022-05-12</td>\n",
       "      <td>140</td>\n",
       "    </tr>\n",
       "    <tr>\n",
       "      <th>497</th>\n",
       "      <td>2022-05-13</td>\n",
       "      <td>176</td>\n",
       "    </tr>\n",
       "    <tr>\n",
       "      <th>498</th>\n",
       "      <td>2022-05-14</td>\n",
       "      <td>804</td>\n",
       "    </tr>\n",
       "    <tr>\n",
       "      <th>499</th>\n",
       "      <td>2022-05-15</td>\n",
       "      <td>767</td>\n",
       "    </tr>\n",
       "  </tbody>\n",
       "</table>\n",
       "<p>500 rows × 2 columns</p>\n",
       "</div>"
      ],
      "text/plain": [
       "          date  count\n",
       "0   2021-01-01    734\n",
       "1   2021-01-02    104\n",
       "2   2021-01-03    690\n",
       "3   2021-01-04    699\n",
       "4   2021-01-05    194\n",
       "..         ...    ...\n",
       "495 2022-05-11    111\n",
       "496 2022-05-12    140\n",
       "497 2022-05-13    176\n",
       "498 2022-05-14    804\n",
       "499 2022-05-15    767\n",
       "\n",
       "[500 rows x 2 columns]"
      ]
     },
     "execution_count": 22,
     "metadata": {},
     "output_type": "execute_result"
    }
   ],
   "source": [
    "sample"
   ]
  },
  {
   "cell_type": "code",
   "execution_count": 23,
   "metadata": {
    "scrolled": true
   },
   "outputs": [
    {
     "data": {
      "text/html": [
       "<div>\n",
       "<style scoped>\n",
       "    .dataframe tbody tr th:only-of-type {\n",
       "        vertical-align: middle;\n",
       "    }\n",
       "\n",
       "    .dataframe tbody tr th {\n",
       "        vertical-align: top;\n",
       "    }\n",
       "\n",
       "    .dataframe thead th {\n",
       "        text-align: right;\n",
       "    }\n",
       "</style>\n",
       "<table border=\"1\" class=\"dataframe\">\n",
       "  <thead>\n",
       "    <tr style=\"text-align: right;\">\n",
       "      <th></th>\n",
       "      <th>date</th>\n",
       "      <th>count</th>\n",
       "    </tr>\n",
       "  </thead>\n",
       "  <tbody>\n",
       "    <tr>\n",
       "      <th>181</th>\n",
       "      <td>2021-07-01</td>\n",
       "      <td>985</td>\n",
       "    </tr>\n",
       "    <tr>\n",
       "      <th>182</th>\n",
       "      <td>2021-07-02</td>\n",
       "      <td>814</td>\n",
       "    </tr>\n",
       "    <tr>\n",
       "      <th>183</th>\n",
       "      <td>2021-07-03</td>\n",
       "      <td>534</td>\n",
       "    </tr>\n",
       "    <tr>\n",
       "      <th>184</th>\n",
       "      <td>2021-07-04</td>\n",
       "      <td>728</td>\n",
       "    </tr>\n",
       "    <tr>\n",
       "      <th>185</th>\n",
       "      <td>2021-07-05</td>\n",
       "      <td>805</td>\n",
       "    </tr>\n",
       "    <tr>\n",
       "      <th>186</th>\n",
       "      <td>2021-07-06</td>\n",
       "      <td>988</td>\n",
       "    </tr>\n",
       "    <tr>\n",
       "      <th>187</th>\n",
       "      <td>2021-07-07</td>\n",
       "      <td>345</td>\n",
       "    </tr>\n",
       "    <tr>\n",
       "      <th>188</th>\n",
       "      <td>2021-07-08</td>\n",
       "      <td>880</td>\n",
       "    </tr>\n",
       "    <tr>\n",
       "      <th>189</th>\n",
       "      <td>2021-07-09</td>\n",
       "      <td>442</td>\n",
       "    </tr>\n",
       "    <tr>\n",
       "      <th>190</th>\n",
       "      <td>2021-07-10</td>\n",
       "      <td>874</td>\n",
       "    </tr>\n",
       "    <tr>\n",
       "      <th>191</th>\n",
       "      <td>2021-07-11</td>\n",
       "      <td>695</td>\n",
       "    </tr>\n",
       "    <tr>\n",
       "      <th>192</th>\n",
       "      <td>2021-07-12</td>\n",
       "      <td>147</td>\n",
       "    </tr>\n",
       "    <tr>\n",
       "      <th>193</th>\n",
       "      <td>2021-07-13</td>\n",
       "      <td>612</td>\n",
       "    </tr>\n",
       "    <tr>\n",
       "      <th>194</th>\n",
       "      <td>2021-07-14</td>\n",
       "      <td>914</td>\n",
       "    </tr>\n",
       "    <tr>\n",
       "      <th>195</th>\n",
       "      <td>2021-07-15</td>\n",
       "      <td>178</td>\n",
       "    </tr>\n",
       "    <tr>\n",
       "      <th>196</th>\n",
       "      <td>2021-07-16</td>\n",
       "      <td>459</td>\n",
       "    </tr>\n",
       "    <tr>\n",
       "      <th>197</th>\n",
       "      <td>2021-07-17</td>\n",
       "      <td>239</td>\n",
       "    </tr>\n",
       "    <tr>\n",
       "      <th>198</th>\n",
       "      <td>2021-07-18</td>\n",
       "      <td>555</td>\n",
       "    </tr>\n",
       "    <tr>\n",
       "      <th>199</th>\n",
       "      <td>2021-07-19</td>\n",
       "      <td>152</td>\n",
       "    </tr>\n",
       "    <tr>\n",
       "      <th>200</th>\n",
       "      <td>2021-07-20</td>\n",
       "      <td>464</td>\n",
       "    </tr>\n",
       "    <tr>\n",
       "      <th>201</th>\n",
       "      <td>2021-07-21</td>\n",
       "      <td>321</td>\n",
       "    </tr>\n",
       "    <tr>\n",
       "      <th>202</th>\n",
       "      <td>2021-07-22</td>\n",
       "      <td>370</td>\n",
       "    </tr>\n",
       "    <tr>\n",
       "      <th>203</th>\n",
       "      <td>2021-07-23</td>\n",
       "      <td>445</td>\n",
       "    </tr>\n",
       "    <tr>\n",
       "      <th>204</th>\n",
       "      <td>2021-07-24</td>\n",
       "      <td>754</td>\n",
       "    </tr>\n",
       "    <tr>\n",
       "      <th>205</th>\n",
       "      <td>2021-07-25</td>\n",
       "      <td>3</td>\n",
       "    </tr>\n",
       "    <tr>\n",
       "      <th>206</th>\n",
       "      <td>2021-07-26</td>\n",
       "      <td>938</td>\n",
       "    </tr>\n",
       "    <tr>\n",
       "      <th>207</th>\n",
       "      <td>2021-07-27</td>\n",
       "      <td>650</td>\n",
       "    </tr>\n",
       "    <tr>\n",
       "      <th>208</th>\n",
       "      <td>2021-07-28</td>\n",
       "      <td>118</td>\n",
       "    </tr>\n",
       "    <tr>\n",
       "      <th>209</th>\n",
       "      <td>2021-07-29</td>\n",
       "      <td>100</td>\n",
       "    </tr>\n",
       "    <tr>\n",
       "      <th>210</th>\n",
       "      <td>2021-07-30</td>\n",
       "      <td>85</td>\n",
       "    </tr>\n",
       "    <tr>\n",
       "      <th>211</th>\n",
       "      <td>2021-07-31</td>\n",
       "      <td>936</td>\n",
       "    </tr>\n",
       "  </tbody>\n",
       "</table>\n",
       "</div>"
      ],
      "text/plain": [
       "          date  count\n",
       "181 2021-07-01    985\n",
       "182 2021-07-02    814\n",
       "183 2021-07-03    534\n",
       "184 2021-07-04    728\n",
       "185 2021-07-05    805\n",
       "186 2021-07-06    988\n",
       "187 2021-07-07    345\n",
       "188 2021-07-08    880\n",
       "189 2021-07-09    442\n",
       "190 2021-07-10    874\n",
       "191 2021-07-11    695\n",
       "192 2021-07-12    147\n",
       "193 2021-07-13    612\n",
       "194 2021-07-14    914\n",
       "195 2021-07-15    178\n",
       "196 2021-07-16    459\n",
       "197 2021-07-17    239\n",
       "198 2021-07-18    555\n",
       "199 2021-07-19    152\n",
       "200 2021-07-20    464\n",
       "201 2021-07-21    321\n",
       "202 2021-07-22    370\n",
       "203 2021-07-23    445\n",
       "204 2021-07-24    754\n",
       "205 2021-07-25      3\n",
       "206 2021-07-26    938\n",
       "207 2021-07-27    650\n",
       "208 2021-07-28    118\n",
       "209 2021-07-29    100\n",
       "210 2021-07-30     85\n",
       "211 2021-07-31    936"
      ]
     },
     "execution_count": 23,
     "metadata": {},
     "output_type": "execute_result"
    }
   ],
   "source": [
    "# 7월달 데이터만 조회 #1 \n",
    "# 조건 색인 활용\n",
    "sample[(sample.date>='2021-07-01') & (sample.date<='2021-07-31')]\n"
   ]
  },
  {
   "cell_type": "code",
   "execution_count": 24,
   "metadata": {
    "collapsed": true
   },
   "outputs": [
    {
     "data": {
      "text/html": [
       "<div>\n",
       "<style scoped>\n",
       "    .dataframe tbody tr th:only-of-type {\n",
       "        vertical-align: middle;\n",
       "    }\n",
       "\n",
       "    .dataframe tbody tr th {\n",
       "        vertical-align: top;\n",
       "    }\n",
       "\n",
       "    .dataframe thead th {\n",
       "        text-align: right;\n",
       "    }\n",
       "</style>\n",
       "<table border=\"1\" class=\"dataframe\">\n",
       "  <thead>\n",
       "    <tr style=\"text-align: right;\">\n",
       "      <th></th>\n",
       "      <th>date</th>\n",
       "      <th>count</th>\n",
       "    </tr>\n",
       "  </thead>\n",
       "  <tbody>\n",
       "    <tr>\n",
       "      <th>181</th>\n",
       "      <td>2021-07-01</td>\n",
       "      <td>985</td>\n",
       "    </tr>\n",
       "    <tr>\n",
       "      <th>182</th>\n",
       "      <td>2021-07-02</td>\n",
       "      <td>814</td>\n",
       "    </tr>\n",
       "    <tr>\n",
       "      <th>183</th>\n",
       "      <td>2021-07-03</td>\n",
       "      <td>534</td>\n",
       "    </tr>\n",
       "    <tr>\n",
       "      <th>184</th>\n",
       "      <td>2021-07-04</td>\n",
       "      <td>728</td>\n",
       "    </tr>\n",
       "    <tr>\n",
       "      <th>185</th>\n",
       "      <td>2021-07-05</td>\n",
       "      <td>805</td>\n",
       "    </tr>\n",
       "    <tr>\n",
       "      <th>186</th>\n",
       "      <td>2021-07-06</td>\n",
       "      <td>988</td>\n",
       "    </tr>\n",
       "    <tr>\n",
       "      <th>187</th>\n",
       "      <td>2021-07-07</td>\n",
       "      <td>345</td>\n",
       "    </tr>\n",
       "    <tr>\n",
       "      <th>188</th>\n",
       "      <td>2021-07-08</td>\n",
       "      <td>880</td>\n",
       "    </tr>\n",
       "    <tr>\n",
       "      <th>189</th>\n",
       "      <td>2021-07-09</td>\n",
       "      <td>442</td>\n",
       "    </tr>\n",
       "    <tr>\n",
       "      <th>190</th>\n",
       "      <td>2021-07-10</td>\n",
       "      <td>874</td>\n",
       "    </tr>\n",
       "    <tr>\n",
       "      <th>191</th>\n",
       "      <td>2021-07-11</td>\n",
       "      <td>695</td>\n",
       "    </tr>\n",
       "    <tr>\n",
       "      <th>192</th>\n",
       "      <td>2021-07-12</td>\n",
       "      <td>147</td>\n",
       "    </tr>\n",
       "    <tr>\n",
       "      <th>193</th>\n",
       "      <td>2021-07-13</td>\n",
       "      <td>612</td>\n",
       "    </tr>\n",
       "    <tr>\n",
       "      <th>194</th>\n",
       "      <td>2021-07-14</td>\n",
       "      <td>914</td>\n",
       "    </tr>\n",
       "    <tr>\n",
       "      <th>195</th>\n",
       "      <td>2021-07-15</td>\n",
       "      <td>178</td>\n",
       "    </tr>\n",
       "    <tr>\n",
       "      <th>196</th>\n",
       "      <td>2021-07-16</td>\n",
       "      <td>459</td>\n",
       "    </tr>\n",
       "    <tr>\n",
       "      <th>197</th>\n",
       "      <td>2021-07-17</td>\n",
       "      <td>239</td>\n",
       "    </tr>\n",
       "    <tr>\n",
       "      <th>198</th>\n",
       "      <td>2021-07-18</td>\n",
       "      <td>555</td>\n",
       "    </tr>\n",
       "    <tr>\n",
       "      <th>199</th>\n",
       "      <td>2021-07-19</td>\n",
       "      <td>152</td>\n",
       "    </tr>\n",
       "    <tr>\n",
       "      <th>200</th>\n",
       "      <td>2021-07-20</td>\n",
       "      <td>464</td>\n",
       "    </tr>\n",
       "    <tr>\n",
       "      <th>201</th>\n",
       "      <td>2021-07-21</td>\n",
       "      <td>321</td>\n",
       "    </tr>\n",
       "    <tr>\n",
       "      <th>202</th>\n",
       "      <td>2021-07-22</td>\n",
       "      <td>370</td>\n",
       "    </tr>\n",
       "    <tr>\n",
       "      <th>203</th>\n",
       "      <td>2021-07-23</td>\n",
       "      <td>445</td>\n",
       "    </tr>\n",
       "    <tr>\n",
       "      <th>204</th>\n",
       "      <td>2021-07-24</td>\n",
       "      <td>754</td>\n",
       "    </tr>\n",
       "    <tr>\n",
       "      <th>205</th>\n",
       "      <td>2021-07-25</td>\n",
       "      <td>3</td>\n",
       "    </tr>\n",
       "    <tr>\n",
       "      <th>206</th>\n",
       "      <td>2021-07-26</td>\n",
       "      <td>938</td>\n",
       "    </tr>\n",
       "    <tr>\n",
       "      <th>207</th>\n",
       "      <td>2021-07-27</td>\n",
       "      <td>650</td>\n",
       "    </tr>\n",
       "    <tr>\n",
       "      <th>208</th>\n",
       "      <td>2021-07-28</td>\n",
       "      <td>118</td>\n",
       "    </tr>\n",
       "    <tr>\n",
       "      <th>209</th>\n",
       "      <td>2021-07-29</td>\n",
       "      <td>100</td>\n",
       "    </tr>\n",
       "    <tr>\n",
       "      <th>210</th>\n",
       "      <td>2021-07-30</td>\n",
       "      <td>85</td>\n",
       "    </tr>\n",
       "    <tr>\n",
       "      <th>211</th>\n",
       "      <td>2021-07-31</td>\n",
       "      <td>936</td>\n",
       "    </tr>\n",
       "  </tbody>\n",
       "</table>\n",
       "</div>"
      ],
      "text/plain": [
       "          date  count\n",
       "181 2021-07-01    985\n",
       "182 2021-07-02    814\n",
       "183 2021-07-03    534\n",
       "184 2021-07-04    728\n",
       "185 2021-07-05    805\n",
       "186 2021-07-06    988\n",
       "187 2021-07-07    345\n",
       "188 2021-07-08    880\n",
       "189 2021-07-09    442\n",
       "190 2021-07-10    874\n",
       "191 2021-07-11    695\n",
       "192 2021-07-12    147\n",
       "193 2021-07-13    612\n",
       "194 2021-07-14    914\n",
       "195 2021-07-15    178\n",
       "196 2021-07-16    459\n",
       "197 2021-07-17    239\n",
       "198 2021-07-18    555\n",
       "199 2021-07-19    152\n",
       "200 2021-07-20    464\n",
       "201 2021-07-21    321\n",
       "202 2021-07-22    370\n",
       "203 2021-07-23    445\n",
       "204 2021-07-24    754\n",
       "205 2021-07-25      3\n",
       "206 2021-07-26    938\n",
       "207 2021-07-27    650\n",
       "208 2021-07-28    118\n",
       "209 2021-07-29    100\n",
       "210 2021-07-30     85\n",
       "211 2021-07-31    936"
      ]
     },
     "execution_count": 24,
     "metadata": {},
     "output_type": "execute_result"
    }
   ],
   "source": [
    "# 7월달 데이터만 조회 #2\n",
    "# isin() 함수 활용\n",
    "sample[sample.date.isin(pd.date_range(start='2021-07-01',end='2021-07-31'))]"
   ]
  },
  {
   "cell_type": "code",
   "execution_count": 27,
   "metadata": {},
   "outputs": [],
   "source": [
    "# 7월달 데이터마 조회 #3\n",
    "# datetimeIndex 활용\n",
    "sample2 = sample.set_index('date')"
   ]
  },
  {
   "cell_type": "markdown",
   "metadata": {},
   "source": [
    "- datetimeIndex 색인"
   ]
  },
  {
   "cell_type": "code",
   "execution_count": 29,
   "metadata": {
    "collapsed": true
   },
   "outputs": [
    {
     "name": "stderr",
     "output_type": "stream",
     "text": [
      "<ipython-input-29-7f5269286fb3>:2: FutureWarning: Indexing a DataFrame with a datetimelike index using a single string to slice the rows, like `frame[string]`, is deprecated and will be removed in a future version. Use `frame.loc[string]` instead.\n",
      "  sample2['2021']\n"
     ]
    },
    {
     "data": {
      "text/html": [
       "<div>\n",
       "<style scoped>\n",
       "    .dataframe tbody tr th:only-of-type {\n",
       "        vertical-align: middle;\n",
       "    }\n",
       "\n",
       "    .dataframe tbody tr th {\n",
       "        vertical-align: top;\n",
       "    }\n",
       "\n",
       "    .dataframe thead th {\n",
       "        text-align: right;\n",
       "    }\n",
       "</style>\n",
       "<table border=\"1\" class=\"dataframe\">\n",
       "  <thead>\n",
       "    <tr style=\"text-align: right;\">\n",
       "      <th></th>\n",
       "      <th>count</th>\n",
       "    </tr>\n",
       "    <tr>\n",
       "      <th>date</th>\n",
       "      <th></th>\n",
       "    </tr>\n",
       "  </thead>\n",
       "  <tbody>\n",
       "    <tr>\n",
       "      <th>2021-01-01</th>\n",
       "      <td>734</td>\n",
       "    </tr>\n",
       "    <tr>\n",
       "      <th>2021-01-02</th>\n",
       "      <td>104</td>\n",
       "    </tr>\n",
       "    <tr>\n",
       "      <th>2021-01-03</th>\n",
       "      <td>690</td>\n",
       "    </tr>\n",
       "    <tr>\n",
       "      <th>2021-01-04</th>\n",
       "      <td>699</td>\n",
       "    </tr>\n",
       "    <tr>\n",
       "      <th>2021-01-05</th>\n",
       "      <td>194</td>\n",
       "    </tr>\n",
       "    <tr>\n",
       "      <th>...</th>\n",
       "      <td>...</td>\n",
       "    </tr>\n",
       "    <tr>\n",
       "      <th>2021-12-27</th>\n",
       "      <td>448</td>\n",
       "    </tr>\n",
       "    <tr>\n",
       "      <th>2021-12-28</th>\n",
       "      <td>71</td>\n",
       "    </tr>\n",
       "    <tr>\n",
       "      <th>2021-12-29</th>\n",
       "      <td>569</td>\n",
       "    </tr>\n",
       "    <tr>\n",
       "      <th>2021-12-30</th>\n",
       "      <td>453</td>\n",
       "    </tr>\n",
       "    <tr>\n",
       "      <th>2021-12-31</th>\n",
       "      <td>619</td>\n",
       "    </tr>\n",
       "  </tbody>\n",
       "</table>\n",
       "<p>365 rows × 1 columns</p>\n",
       "</div>"
      ],
      "text/plain": [
       "            count\n",
       "date             \n",
       "2021-01-01    734\n",
       "2021-01-02    104\n",
       "2021-01-03    690\n",
       "2021-01-04    699\n",
       "2021-01-05    194\n",
       "...           ...\n",
       "2021-12-27    448\n",
       "2021-12-28     71\n",
       "2021-12-29    569\n",
       "2021-12-30    453\n",
       "2021-12-31    619\n",
       "\n",
       "[365 rows x 1 columns]"
      ]
     },
     "execution_count": 29,
     "metadata": {},
     "output_type": "execute_result"
    }
   ],
   "source": [
    "# 2021년 데이터 선택\n",
    "sample2['2021']"
   ]
  },
  {
   "cell_type": "code",
   "execution_count": 30,
   "metadata": {
    "collapsed": true
   },
   "outputs": [
    {
     "data": {
      "text/html": [
       "<div>\n",
       "<style scoped>\n",
       "    .dataframe tbody tr th:only-of-type {\n",
       "        vertical-align: middle;\n",
       "    }\n",
       "\n",
       "    .dataframe tbody tr th {\n",
       "        vertical-align: top;\n",
       "    }\n",
       "\n",
       "    .dataframe thead th {\n",
       "        text-align: right;\n",
       "    }\n",
       "</style>\n",
       "<table border=\"1\" class=\"dataframe\">\n",
       "  <thead>\n",
       "    <tr style=\"text-align: right;\">\n",
       "      <th></th>\n",
       "      <th>count</th>\n",
       "    </tr>\n",
       "    <tr>\n",
       "      <th>date</th>\n",
       "      <th></th>\n",
       "    </tr>\n",
       "  </thead>\n",
       "  <tbody>\n",
       "    <tr>\n",
       "      <th>2021-03-02</th>\n",
       "      <td>631</td>\n",
       "    </tr>\n",
       "    <tr>\n",
       "      <th>2021-03-03</th>\n",
       "      <td>801</td>\n",
       "    </tr>\n",
       "    <tr>\n",
       "      <th>2021-03-04</th>\n",
       "      <td>410</td>\n",
       "    </tr>\n",
       "    <tr>\n",
       "      <th>2021-03-05</th>\n",
       "      <td>522</td>\n",
       "    </tr>\n",
       "    <tr>\n",
       "      <th>2021-03-06</th>\n",
       "      <td>654</td>\n",
       "    </tr>\n",
       "    <tr>\n",
       "      <th>2021-03-07</th>\n",
       "      <td>558</td>\n",
       "    </tr>\n",
       "    <tr>\n",
       "      <th>2021-03-08</th>\n",
       "      <td>249</td>\n",
       "    </tr>\n",
       "    <tr>\n",
       "      <th>2021-03-09</th>\n",
       "      <td>462</td>\n",
       "    </tr>\n",
       "    <tr>\n",
       "      <th>2021-03-10</th>\n",
       "      <td>311</td>\n",
       "    </tr>\n",
       "    <tr>\n",
       "      <th>2021-03-11</th>\n",
       "      <td>57</td>\n",
       "    </tr>\n",
       "    <tr>\n",
       "      <th>2021-03-12</th>\n",
       "      <td>47</td>\n",
       "    </tr>\n",
       "    <tr>\n",
       "      <th>2021-03-13</th>\n",
       "      <td>443</td>\n",
       "    </tr>\n",
       "    <tr>\n",
       "      <th>2021-03-14</th>\n",
       "      <td>949</td>\n",
       "    </tr>\n",
       "    <tr>\n",
       "      <th>2021-03-15</th>\n",
       "      <td>424</td>\n",
       "    </tr>\n",
       "    <tr>\n",
       "      <th>2021-03-16</th>\n",
       "      <td>490</td>\n",
       "    </tr>\n",
       "    <tr>\n",
       "      <th>2021-03-17</th>\n",
       "      <td>881</td>\n",
       "    </tr>\n",
       "    <tr>\n",
       "      <th>2021-03-18</th>\n",
       "      <td>822</td>\n",
       "    </tr>\n",
       "    <tr>\n",
       "      <th>2021-03-19</th>\n",
       "      <td>158</td>\n",
       "    </tr>\n",
       "    <tr>\n",
       "      <th>2021-03-20</th>\n",
       "      <td>520</td>\n",
       "    </tr>\n",
       "    <tr>\n",
       "      <th>2021-03-21</th>\n",
       "      <td>923</td>\n",
       "    </tr>\n",
       "    <tr>\n",
       "      <th>2021-03-22</th>\n",
       "      <td>545</td>\n",
       "    </tr>\n",
       "    <tr>\n",
       "      <th>2021-03-23</th>\n",
       "      <td>996</td>\n",
       "    </tr>\n",
       "    <tr>\n",
       "      <th>2021-03-24</th>\n",
       "      <td>220</td>\n",
       "    </tr>\n",
       "    <tr>\n",
       "      <th>2021-03-25</th>\n",
       "      <td>825</td>\n",
       "    </tr>\n",
       "    <tr>\n",
       "      <th>2021-03-26</th>\n",
       "      <td>15</td>\n",
       "    </tr>\n",
       "    <tr>\n",
       "      <th>2021-03-27</th>\n",
       "      <td>478</td>\n",
       "    </tr>\n",
       "    <tr>\n",
       "      <th>2021-03-28</th>\n",
       "      <td>136</td>\n",
       "    </tr>\n",
       "  </tbody>\n",
       "</table>\n",
       "</div>"
      ],
      "text/plain": [
       "            count\n",
       "date             \n",
       "2021-03-02    631\n",
       "2021-03-03    801\n",
       "2021-03-04    410\n",
       "2021-03-05    522\n",
       "2021-03-06    654\n",
       "2021-03-07    558\n",
       "2021-03-08    249\n",
       "2021-03-09    462\n",
       "2021-03-10    311\n",
       "2021-03-11     57\n",
       "2021-03-12     47\n",
       "2021-03-13    443\n",
       "2021-03-14    949\n",
       "2021-03-15    424\n",
       "2021-03-16    490\n",
       "2021-03-17    881\n",
       "2021-03-18    822\n",
       "2021-03-19    158\n",
       "2021-03-20    520\n",
       "2021-03-21    923\n",
       "2021-03-22    545\n",
       "2021-03-23    996\n",
       "2021-03-24    220\n",
       "2021-03-25    825\n",
       "2021-03-26     15\n",
       "2021-03-27    478\n",
       "2021-03-28    136"
      ]
     },
     "execution_count": 30,
     "metadata": {},
     "output_type": "execute_result"
    }
   ],
   "source": [
    "# 2021년 3월 2일부터 2021년 3월 28일까지 데이터 선택\n",
    "sample2['2021-03-02':'2021-03-28']"
   ]
  },
  {
   "cell_type": "code",
   "execution_count": 31,
   "metadata": {},
   "outputs": [
    {
     "data": {
      "text/plain": [
       "count    123\n",
       "Name: 2021-04-28 00:00:00, dtype: int64"
      ]
     },
     "execution_count": 31,
     "metadata": {},
     "output_type": "execute_result"
    }
   ],
   "source": [
    "# 2021년 4월 28일 데이터 선택\n",
    "sample2.loc['2021-04-28']"
   ]
  },
  {
   "cell_type": "code",
   "execution_count": null,
   "metadata": {},
   "outputs": [],
   "source": []
  },
  {
   "cell_type": "markdown",
   "metadata": {},
   "source": [
    "## 1-4 strptime()으로 문자열을 날짜 타입으로 변환하기"
   ]
  },
  {
   "cell_type": "code",
   "execution_count": 33,
   "metadata": {},
   "outputs": [],
   "source": [
    "문자열 = '21/08/11'"
   ]
  },
  {
   "cell_type": "code",
   "execution_count": 34,
   "metadata": {
    "scrolled": true
   },
   "outputs": [
    {
     "data": {
      "text/plain": [
       "datetime.datetime(2021, 8, 11, 0, 0)"
      ]
     },
     "execution_count": 34,
     "metadata": {},
     "output_type": "execute_result"
    }
   ],
   "source": [
    "# 21년 8월 11일로 변환 \n",
    "dt.datetime.strptime(문자열,'%y/%m/%d')"
   ]
  },
  {
   "cell_type": "code",
   "execution_count": 35,
   "metadata": {},
   "outputs": [
    {
     "data": {
      "text/plain": [
       "datetime.datetime(2011, 8, 21, 0, 0)"
      ]
     },
     "execution_count": 35,
     "metadata": {},
     "output_type": "execute_result"
    }
   ],
   "source": [
    "# 11년 8월 21일로 변환\n",
    "dt.datetime.strptime(문자열,'%d/%m/%y')"
   ]
  },
  {
   "cell_type": "code",
   "execution_count": 38,
   "metadata": {},
   "outputs": [],
   "source": [
    "# 8월 11일 21시로 변환\n",
    "dt1 = dt.datetime.strptime(문자열,'%H/%m/%d')"
   ]
  },
  {
   "cell_type": "code",
   "execution_count": 39,
   "metadata": {},
   "outputs": [
    {
     "data": {
      "text/plain": [
       "datetime.datetime(2021, 8, 11, 21, 0)"
      ]
     },
     "execution_count": 39,
     "metadata": {},
     "output_type": "execute_result"
    }
   ],
   "source": [
    "#dt1의 year 2021로 업데이트\n",
    "dt1.replace(year=2021)"
   ]
  },
  {
   "cell_type": "code",
   "execution_count": null,
   "metadata": {},
   "outputs": [],
   "source": []
  },
  {
   "cell_type": "markdown",
   "metadata": {},
   "source": [
    "##### [실습] 아래 df에서 2020년 7월 데이터만 선택하기"
   ]
  },
  {
   "cell_type": "code",
   "execution_count": 40,
   "metadata": {
    "scrolled": false
   },
   "outputs": [
    {
     "data": {
      "text/html": [
       "<div>\n",
       "<style scoped>\n",
       "    .dataframe tbody tr th:only-of-type {\n",
       "        vertical-align: middle;\n",
       "    }\n",
       "\n",
       "    .dataframe tbody tr th {\n",
       "        vertical-align: top;\n",
       "    }\n",
       "\n",
       "    .dataframe thead th {\n",
       "        text-align: right;\n",
       "    }\n",
       "</style>\n",
       "<table border=\"1\" class=\"dataframe\">\n",
       "  <thead>\n",
       "    <tr style=\"text-align: right;\">\n",
       "      <th></th>\n",
       "      <th>date</th>\n",
       "      <th>value</th>\n",
       "    </tr>\n",
       "  </thead>\n",
       "  <tbody>\n",
       "    <tr>\n",
       "      <th>0</th>\n",
       "      <td>2020-07-01</td>\n",
       "      <td>83</td>\n",
       "    </tr>\n",
       "    <tr>\n",
       "      <th>1</th>\n",
       "      <td>2020-07-02</td>\n",
       "      <td>9</td>\n",
       "    </tr>\n",
       "    <tr>\n",
       "      <th>2</th>\n",
       "      <td>2020-07-05</td>\n",
       "      <td>8</td>\n",
       "    </tr>\n",
       "    <tr>\n",
       "      <th>3</th>\n",
       "      <td>2020-07-10</td>\n",
       "      <td>44</td>\n",
       "    </tr>\n",
       "    <tr>\n",
       "      <th>4</th>\n",
       "      <td>2020-07-23</td>\n",
       "      <td>62</td>\n",
       "    </tr>\n",
       "    <tr>\n",
       "      <th>5</th>\n",
       "      <td>2020-07-24</td>\n",
       "      <td>75</td>\n",
       "    </tr>\n",
       "    <tr>\n",
       "      <th>6</th>\n",
       "      <td>2020-07-28</td>\n",
       "      <td>57</td>\n",
       "    </tr>\n",
       "    <tr>\n",
       "      <th>7</th>\n",
       "      <td>2020-08-05</td>\n",
       "      <td>63</td>\n",
       "    </tr>\n",
       "    <tr>\n",
       "      <th>8</th>\n",
       "      <td>2020-08-10</td>\n",
       "      <td>97</td>\n",
       "    </tr>\n",
       "    <tr>\n",
       "      <th>9</th>\n",
       "      <td>2020-08-23</td>\n",
       "      <td>4</td>\n",
       "    </tr>\n",
       "  </tbody>\n",
       "</table>\n",
       "</div>"
      ],
      "text/plain": [
       "         date  value\n",
       "0  2020-07-01     83\n",
       "1  2020-07-02      9\n",
       "2  2020-07-05      8\n",
       "3  2020-07-10     44\n",
       "4  2020-07-23     62\n",
       "5  2020-07-24     75\n",
       "6  2020-07-28     57\n",
       "7  2020-08-05     63\n",
       "8  2020-08-10     97\n",
       "9  2020-08-23      4"
      ]
     },
     "execution_count": 40,
     "metadata": {},
     "output_type": "execute_result"
    }
   ],
   "source": [
    "df = DataFrame({'date':['2020-07-01','2020-07-02', '2020-07-05', '2020-07-10', '2020-07-23', \n",
    "                        '2020-07-24','2020-07-28', '2020-08-05', '2020-08-10', '2020-08-23'],\n",
    "                'value':random.sample(range(1, 100), 10)\n",
    "})\n",
    "df"
   ]
  },
  {
   "cell_type": "code",
   "execution_count": null,
   "metadata": {},
   "outputs": [],
   "source": [
    "# 위에서 배운대로 해도 정상적으로 동작하지 않음\n"
   ]
  },
  {
   "cell_type": "code",
   "execution_count": 41,
   "metadata": {},
   "outputs": [],
   "source": [
    "# 해결책. df의 date컬럼의 타입을 datetime으로 변환\n",
    "#1.strptime 활용\n",
    "df['date2']=df.date.apply(lambda X: dt.datetime.strptime(X,'%Y-%m-%d'))"
   ]
  },
  {
   "cell_type": "code",
   "execution_count": 43,
   "metadata": {},
   "outputs": [],
   "source": [
    "df['date3']=pd.to_datetime(df.date,format='%Y-%m-%d')"
   ]
  },
  {
   "cell_type": "code",
   "execution_count": 44,
   "metadata": {},
   "outputs": [
    {
     "name": "stdout",
     "output_type": "stream",
     "text": [
      "<class 'pandas.core.frame.DataFrame'>\n",
      "RangeIndex: 10 entries, 0 to 9\n",
      "Data columns (total 4 columns):\n",
      " #   Column  Non-Null Count  Dtype         \n",
      "---  ------  --------------  -----         \n",
      " 0   date    10 non-null     object        \n",
      " 1   value   10 non-null     int64         \n",
      " 2   date2   10 non-null     datetime64[ns]\n",
      " 3   date3   10 non-null     datetime64[ns]\n",
      "dtypes: datetime64[ns](2), int64(1), object(1)\n",
      "memory usage: 448.0+ bytes\n"
     ]
    }
   ],
   "source": [
    "df.info()"
   ]
  },
  {
   "cell_type": "code",
   "execution_count": 47,
   "metadata": {
    "scrolled": true
   },
   "outputs": [
    {
     "data": {
      "text/html": [
       "<div>\n",
       "<style scoped>\n",
       "    .dataframe tbody tr th:only-of-type {\n",
       "        vertical-align: middle;\n",
       "    }\n",
       "\n",
       "    .dataframe tbody tr th {\n",
       "        vertical-align: top;\n",
       "    }\n",
       "\n",
       "    .dataframe thead th {\n",
       "        text-align: right;\n",
       "    }\n",
       "</style>\n",
       "<table border=\"1\" class=\"dataframe\">\n",
       "  <thead>\n",
       "    <tr style=\"text-align: right;\">\n",
       "      <th></th>\n",
       "      <th>date</th>\n",
       "      <th>value</th>\n",
       "      <th>date3</th>\n",
       "    </tr>\n",
       "    <tr>\n",
       "      <th>date2</th>\n",
       "      <th></th>\n",
       "      <th></th>\n",
       "      <th></th>\n",
       "    </tr>\n",
       "  </thead>\n",
       "  <tbody>\n",
       "    <tr>\n",
       "      <th>2020-07-01</th>\n",
       "      <td>2020-07-01</td>\n",
       "      <td>83</td>\n",
       "      <td>2020-07-01</td>\n",
       "    </tr>\n",
       "    <tr>\n",
       "      <th>2020-07-02</th>\n",
       "      <td>2020-07-02</td>\n",
       "      <td>9</td>\n",
       "      <td>2020-07-02</td>\n",
       "    </tr>\n",
       "    <tr>\n",
       "      <th>2020-07-05</th>\n",
       "      <td>2020-07-05</td>\n",
       "      <td>8</td>\n",
       "      <td>2020-07-05</td>\n",
       "    </tr>\n",
       "    <tr>\n",
       "      <th>2020-07-10</th>\n",
       "      <td>2020-07-10</td>\n",
       "      <td>44</td>\n",
       "      <td>2020-07-10</td>\n",
       "    </tr>\n",
       "    <tr>\n",
       "      <th>2020-07-23</th>\n",
       "      <td>2020-07-23</td>\n",
       "      <td>62</td>\n",
       "      <td>2020-07-23</td>\n",
       "    </tr>\n",
       "    <tr>\n",
       "      <th>2020-07-24</th>\n",
       "      <td>2020-07-24</td>\n",
       "      <td>75</td>\n",
       "      <td>2020-07-24</td>\n",
       "    </tr>\n",
       "    <tr>\n",
       "      <th>2020-07-28</th>\n",
       "      <td>2020-07-28</td>\n",
       "      <td>57</td>\n",
       "      <td>2020-07-28</td>\n",
       "    </tr>\n",
       "  </tbody>\n",
       "</table>\n",
       "</div>"
      ],
      "text/plain": [
       "                  date  value      date3\n",
       "date2                                   \n",
       "2020-07-01  2020-07-01     83 2020-07-01\n",
       "2020-07-02  2020-07-02      9 2020-07-02\n",
       "2020-07-05  2020-07-05      8 2020-07-05\n",
       "2020-07-10  2020-07-10     44 2020-07-10\n",
       "2020-07-23  2020-07-23     62 2020-07-23\n",
       "2020-07-24  2020-07-24     75 2020-07-24\n",
       "2020-07-28  2020-07-28     57 2020-07-28"
      ]
     },
     "execution_count": 47,
     "metadata": {},
     "output_type": "execute_result"
    }
   ],
   "source": [
    "# 7월 데이터만 조회\n",
    "df.set_index('date2').loc['2020-07']"
   ]
  },
  {
   "cell_type": "markdown",
   "metadata": {},
   "source": [
    "## 1.5 strftime()으로 날짜 타입의 변수를 문자열로 변환하기"
   ]
  },
  {
   "cell_type": "code",
   "execution_count": 52,
   "metadata": {},
   "outputs": [
    {
     "data": {
      "text/plain": [
       "'2021-07-18'"
      ]
     },
     "execution_count": 52,
     "metadata": {},
     "output_type": "execute_result"
    }
   ],
   "source": [
    "# now 변수를 4자리년도-월-일 형식으로 출력\n",
    "dt.datetime.strftime(now,'%Y-%m-%d')"
   ]
  },
  {
   "cell_type": "code",
   "execution_count": 56,
   "metadata": {},
   "outputs": [
    {
     "data": {
      "text/plain": [
       "'m-18 13:42'"
      ]
     },
     "execution_count": 56,
     "metadata": {},
     "output_type": "execute_result"
    }
   ],
   "source": [
    "# 실습 - now 변수를 월-일 시:분 형식으로 출력\n",
    "now.strftime('m-%d %H:%M')"
   ]
  },
  {
   "cell_type": "markdown",
   "metadata": {},
   "source": [
    "* Tip. Week와 요일 정보 얻기(strftime)"
   ]
  },
  {
   "cell_type": "code",
   "execution_count": 133,
   "metadata": {},
   "outputs": [
    {
     "data": {
      "text/plain": [
       "Ellipsis"
      ]
     },
     "execution_count": 133,
     "metadata": {},
     "output_type": "execute_result"
    }
   ],
   "source": [
    "# 심화 - Week와 요일 정보 얻기\n",
    "# 참고 사이트 : https://docs.python.org/3/library/datetime.html#strftime-and-strptime-behavior\n",
    "\n",
    "# %U : week number (sunday to monday) (e.g. 00, 01, ...53)\n",
    "# %V : ISO 8601 week number (monday to sunday) (e.g. 01, 02, ... 53)\n",
    "...\n",
    "# %a : weekday (Sun, Mon, ..) \n",
    "# %w : weekday (0,1,2,3,...) (0 = Sunday)"
   ]
  },
  {
   "cell_type": "code",
   "execution_count": 58,
   "metadata": {},
   "outputs": [],
   "source": [
    "df.drop(['date2','date3'],axis=1,inplace=True)"
   ]
  },
  {
   "cell_type": "code",
   "execution_count": 60,
   "metadata": {},
   "outputs": [],
   "source": [
    "df['date']=pd.to_datetime(df.date)"
   ]
  },
  {
   "cell_type": "markdown",
   "metadata": {},
   "source": [
    "##### [실습 #2] df에  week number(%U), weekday(%a) 컬럼 추가"
   ]
  },
  {
   "cell_type": "code",
   "execution_count": 64,
   "metadata": {
    "scrolled": true
   },
   "outputs": [
    {
     "data": {
      "text/plain": [
       "'28'"
      ]
     },
     "execution_count": 64,
     "metadata": {},
     "output_type": "execute_result"
    }
   ],
   "source": [
    "now.strftime('%V')"
   ]
  },
  {
   "cell_type": "code",
   "execution_count": 66,
   "metadata": {},
   "outputs": [
    {
     "data": {
      "text/plain": [
       "'0'"
      ]
     },
     "execution_count": 66,
     "metadata": {},
     "output_type": "execute_result"
    }
   ],
   "source": [
    "now.strftime('%w')"
   ]
  },
  {
   "cell_type": "code",
   "execution_count": 69,
   "metadata": {},
   "outputs": [],
   "source": [
    "#df에  week number(%V), weekday(%w) 컬럼 추가\n",
    "df['weekNumber']=df.date.apply(lambda X: X.strftime('%V'))\n",
    "df['weekDay']=df.date.apply(lambda X: X.strftime('%a'))"
   ]
  },
  {
   "cell_type": "markdown",
   "metadata": {},
   "source": [
    "##### [실습 #3-1] 주차별 value 컬럼의 합 구하기"
   ]
  },
  {
   "cell_type": "code",
   "execution_count": 70,
   "metadata": {
    "scrolled": true
   },
   "outputs": [
    {
     "data": {
      "text/html": [
       "<div>\n",
       "<style scoped>\n",
       "    .dataframe tbody tr th:only-of-type {\n",
       "        vertical-align: middle;\n",
       "    }\n",
       "\n",
       "    .dataframe tbody tr th {\n",
       "        vertical-align: top;\n",
       "    }\n",
       "\n",
       "    .dataframe thead th {\n",
       "        text-align: right;\n",
       "    }\n",
       "</style>\n",
       "<table border=\"1\" class=\"dataframe\">\n",
       "  <thead>\n",
       "    <tr style=\"text-align: right;\">\n",
       "      <th></th>\n",
       "      <th>date</th>\n",
       "      <th>value</th>\n",
       "      <th>weekNumber</th>\n",
       "      <th>weekDay</th>\n",
       "    </tr>\n",
       "  </thead>\n",
       "  <tbody>\n",
       "    <tr>\n",
       "      <th>0</th>\n",
       "      <td>2020-07-01</td>\n",
       "      <td>83</td>\n",
       "      <td>27</td>\n",
       "      <td>Wed</td>\n",
       "    </tr>\n",
       "    <tr>\n",
       "      <th>1</th>\n",
       "      <td>2020-07-02</td>\n",
       "      <td>9</td>\n",
       "      <td>27</td>\n",
       "      <td>Thu</td>\n",
       "    </tr>\n",
       "    <tr>\n",
       "      <th>2</th>\n",
       "      <td>2020-07-05</td>\n",
       "      <td>8</td>\n",
       "      <td>27</td>\n",
       "      <td>Sun</td>\n",
       "    </tr>\n",
       "    <tr>\n",
       "      <th>3</th>\n",
       "      <td>2020-07-10</td>\n",
       "      <td>44</td>\n",
       "      <td>28</td>\n",
       "      <td>Fri</td>\n",
       "    </tr>\n",
       "    <tr>\n",
       "      <th>4</th>\n",
       "      <td>2020-07-23</td>\n",
       "      <td>62</td>\n",
       "      <td>30</td>\n",
       "      <td>Thu</td>\n",
       "    </tr>\n",
       "    <tr>\n",
       "      <th>5</th>\n",
       "      <td>2020-07-24</td>\n",
       "      <td>75</td>\n",
       "      <td>30</td>\n",
       "      <td>Fri</td>\n",
       "    </tr>\n",
       "    <tr>\n",
       "      <th>6</th>\n",
       "      <td>2020-07-28</td>\n",
       "      <td>57</td>\n",
       "      <td>31</td>\n",
       "      <td>Tue</td>\n",
       "    </tr>\n",
       "    <tr>\n",
       "      <th>7</th>\n",
       "      <td>2020-08-05</td>\n",
       "      <td>63</td>\n",
       "      <td>32</td>\n",
       "      <td>Wed</td>\n",
       "    </tr>\n",
       "    <tr>\n",
       "      <th>8</th>\n",
       "      <td>2020-08-10</td>\n",
       "      <td>97</td>\n",
       "      <td>33</td>\n",
       "      <td>Mon</td>\n",
       "    </tr>\n",
       "    <tr>\n",
       "      <th>9</th>\n",
       "      <td>2020-08-23</td>\n",
       "      <td>4</td>\n",
       "      <td>34</td>\n",
       "      <td>Sun</td>\n",
       "    </tr>\n",
       "  </tbody>\n",
       "</table>\n",
       "</div>"
      ],
      "text/plain": [
       "        date  value weekNumber weekDay\n",
       "0 2020-07-01     83         27     Wed\n",
       "1 2020-07-02      9         27     Thu\n",
       "2 2020-07-05      8         27     Sun\n",
       "3 2020-07-10     44         28     Fri\n",
       "4 2020-07-23     62         30     Thu\n",
       "5 2020-07-24     75         30     Fri\n",
       "6 2020-07-28     57         31     Tue\n",
       "7 2020-08-05     63         32     Wed\n",
       "8 2020-08-10     97         33     Mon\n",
       "9 2020-08-23      4         34     Sun"
      ]
     },
     "execution_count": 70,
     "metadata": {},
     "output_type": "execute_result"
    }
   ],
   "source": [
    "df"
   ]
  },
  {
   "cell_type": "markdown",
   "metadata": {},
   "source": [
    "##### [실습 #3-2] 요일별 value 컬럼의 평균 구하기"
   ]
  },
  {
   "cell_type": "code",
   "execution_count": 71,
   "metadata": {},
   "outputs": [
    {
     "data": {
      "text/html": [
       "<div>\n",
       "<style scoped>\n",
       "    .dataframe tbody tr th:only-of-type {\n",
       "        vertical-align: middle;\n",
       "    }\n",
       "\n",
       "    .dataframe tbody tr th {\n",
       "        vertical-align: top;\n",
       "    }\n",
       "\n",
       "    .dataframe thead th {\n",
       "        text-align: right;\n",
       "    }\n",
       "</style>\n",
       "<table border=\"1\" class=\"dataframe\">\n",
       "  <thead>\n",
       "    <tr style=\"text-align: right;\">\n",
       "      <th></th>\n",
       "      <th>value</th>\n",
       "    </tr>\n",
       "    <tr>\n",
       "      <th>weekNumber</th>\n",
       "      <th></th>\n",
       "    </tr>\n",
       "  </thead>\n",
       "  <tbody>\n",
       "    <tr>\n",
       "      <th>27</th>\n",
       "      <td>100</td>\n",
       "    </tr>\n",
       "    <tr>\n",
       "      <th>28</th>\n",
       "      <td>44</td>\n",
       "    </tr>\n",
       "    <tr>\n",
       "      <th>30</th>\n",
       "      <td>137</td>\n",
       "    </tr>\n",
       "    <tr>\n",
       "      <th>31</th>\n",
       "      <td>57</td>\n",
       "    </tr>\n",
       "    <tr>\n",
       "      <th>32</th>\n",
       "      <td>63</td>\n",
       "    </tr>\n",
       "    <tr>\n",
       "      <th>33</th>\n",
       "      <td>97</td>\n",
       "    </tr>\n",
       "    <tr>\n",
       "      <th>34</th>\n",
       "      <td>4</td>\n",
       "    </tr>\n",
       "  </tbody>\n",
       "</table>\n",
       "</div>"
      ],
      "text/plain": [
       "            value\n",
       "weekNumber       \n",
       "27            100\n",
       "28             44\n",
       "30            137\n",
       "31             57\n",
       "32             63\n",
       "33             97\n",
       "34              4"
      ]
     },
     "execution_count": 71,
     "metadata": {},
     "output_type": "execute_result"
    }
   ],
   "source": [
    "df.pivot_table(index='weekNumber',aggfunc='sum',values='value')"
   ]
  },
  {
   "cell_type": "markdown",
   "metadata": {},
   "source": [
    "## 2. 시계열 데이터 응용 - Covid-19 현황 분석"
   ]
  },
  {
   "cell_type": "markdown",
   "metadata": {},
   "source": [
    "#### 1. Covid-19 데이터 가져오기\n",
    "- https://github.com/owid/covid-19-data/tree/master/public/data : 매일 업데이트된 파일을 제공함"
   ]
  },
  {
   "cell_type": "code",
   "execution_count": 72,
   "metadata": {},
   "outputs": [],
   "source": [
    "covid=pd.read_excel('data/owid-covid-data.xlsx')"
   ]
  },
  {
   "cell_type": "code",
   "execution_count": 73,
   "metadata": {
    "scrolled": true
   },
   "outputs": [
    {
     "data": {
      "text/html": [
       "<div>\n",
       "<style scoped>\n",
       "    .dataframe tbody tr th:only-of-type {\n",
       "        vertical-align: middle;\n",
       "    }\n",
       "\n",
       "    .dataframe tbody tr th {\n",
       "        vertical-align: top;\n",
       "    }\n",
       "\n",
       "    .dataframe thead th {\n",
       "        text-align: right;\n",
       "    }\n",
       "</style>\n",
       "<table border=\"1\" class=\"dataframe\">\n",
       "  <thead>\n",
       "    <tr style=\"text-align: right;\">\n",
       "      <th></th>\n",
       "      <th>iso_code</th>\n",
       "      <th>continent</th>\n",
       "      <th>location</th>\n",
       "      <th>date</th>\n",
       "      <th>total_cases</th>\n",
       "      <th>new_cases</th>\n",
       "      <th>new_cases_smoothed</th>\n",
       "      <th>total_deaths</th>\n",
       "      <th>new_deaths</th>\n",
       "      <th>new_deaths_smoothed</th>\n",
       "      <th>...</th>\n",
       "      <th>gdp_per_capita</th>\n",
       "      <th>extreme_poverty</th>\n",
       "      <th>cardiovasc_death_rate</th>\n",
       "      <th>diabetes_prevalence</th>\n",
       "      <th>female_smokers</th>\n",
       "      <th>male_smokers</th>\n",
       "      <th>handwashing_facilities</th>\n",
       "      <th>hospital_beds_per_thousand</th>\n",
       "      <th>life_expectancy</th>\n",
       "      <th>human_development_index</th>\n",
       "    </tr>\n",
       "  </thead>\n",
       "  <tbody>\n",
       "    <tr>\n",
       "      <th>0</th>\n",
       "      <td>AFG</td>\n",
       "      <td>Asia</td>\n",
       "      <td>Afghanistan</td>\n",
       "      <td>2020-02-24</td>\n",
       "      <td>1.0</td>\n",
       "      <td>1.0</td>\n",
       "      <td>NaN</td>\n",
       "      <td>NaN</td>\n",
       "      <td>NaN</td>\n",
       "      <td>NaN</td>\n",
       "      <td>...</td>\n",
       "      <td>1803.987</td>\n",
       "      <td>NaN</td>\n",
       "      <td>597.029</td>\n",
       "      <td>9.59</td>\n",
       "      <td>NaN</td>\n",
       "      <td>NaN</td>\n",
       "      <td>37.746</td>\n",
       "      <td>0.5</td>\n",
       "      <td>64.83</td>\n",
       "      <td>0.511</td>\n",
       "    </tr>\n",
       "    <tr>\n",
       "      <th>1</th>\n",
       "      <td>AFG</td>\n",
       "      <td>Asia</td>\n",
       "      <td>Afghanistan</td>\n",
       "      <td>2020-02-25</td>\n",
       "      <td>1.0</td>\n",
       "      <td>0.0</td>\n",
       "      <td>NaN</td>\n",
       "      <td>NaN</td>\n",
       "      <td>NaN</td>\n",
       "      <td>NaN</td>\n",
       "      <td>...</td>\n",
       "      <td>1803.987</td>\n",
       "      <td>NaN</td>\n",
       "      <td>597.029</td>\n",
       "      <td>9.59</td>\n",
       "      <td>NaN</td>\n",
       "      <td>NaN</td>\n",
       "      <td>37.746</td>\n",
       "      <td>0.5</td>\n",
       "      <td>64.83</td>\n",
       "      <td>0.511</td>\n",
       "    </tr>\n",
       "    <tr>\n",
       "      <th>2</th>\n",
       "      <td>AFG</td>\n",
       "      <td>Asia</td>\n",
       "      <td>Afghanistan</td>\n",
       "      <td>2020-02-26</td>\n",
       "      <td>1.0</td>\n",
       "      <td>0.0</td>\n",
       "      <td>NaN</td>\n",
       "      <td>NaN</td>\n",
       "      <td>NaN</td>\n",
       "      <td>NaN</td>\n",
       "      <td>...</td>\n",
       "      <td>1803.987</td>\n",
       "      <td>NaN</td>\n",
       "      <td>597.029</td>\n",
       "      <td>9.59</td>\n",
       "      <td>NaN</td>\n",
       "      <td>NaN</td>\n",
       "      <td>37.746</td>\n",
       "      <td>0.5</td>\n",
       "      <td>64.83</td>\n",
       "      <td>0.511</td>\n",
       "    </tr>\n",
       "    <tr>\n",
       "      <th>3</th>\n",
       "      <td>AFG</td>\n",
       "      <td>Asia</td>\n",
       "      <td>Afghanistan</td>\n",
       "      <td>2020-02-27</td>\n",
       "      <td>1.0</td>\n",
       "      <td>0.0</td>\n",
       "      <td>NaN</td>\n",
       "      <td>NaN</td>\n",
       "      <td>NaN</td>\n",
       "      <td>NaN</td>\n",
       "      <td>...</td>\n",
       "      <td>1803.987</td>\n",
       "      <td>NaN</td>\n",
       "      <td>597.029</td>\n",
       "      <td>9.59</td>\n",
       "      <td>NaN</td>\n",
       "      <td>NaN</td>\n",
       "      <td>37.746</td>\n",
       "      <td>0.5</td>\n",
       "      <td>64.83</td>\n",
       "      <td>0.511</td>\n",
       "    </tr>\n",
       "    <tr>\n",
       "      <th>4</th>\n",
       "      <td>AFG</td>\n",
       "      <td>Asia</td>\n",
       "      <td>Afghanistan</td>\n",
       "      <td>2020-02-28</td>\n",
       "      <td>1.0</td>\n",
       "      <td>0.0</td>\n",
       "      <td>NaN</td>\n",
       "      <td>NaN</td>\n",
       "      <td>NaN</td>\n",
       "      <td>NaN</td>\n",
       "      <td>...</td>\n",
       "      <td>1803.987</td>\n",
       "      <td>NaN</td>\n",
       "      <td>597.029</td>\n",
       "      <td>9.59</td>\n",
       "      <td>NaN</td>\n",
       "      <td>NaN</td>\n",
       "      <td>37.746</td>\n",
       "      <td>0.5</td>\n",
       "      <td>64.83</td>\n",
       "      <td>0.511</td>\n",
       "    </tr>\n",
       "  </tbody>\n",
       "</table>\n",
       "<p>5 rows × 59 columns</p>\n",
       "</div>"
      ],
      "text/plain": [
       "  iso_code continent     location        date  total_cases  new_cases  \\\n",
       "0      AFG      Asia  Afghanistan  2020-02-24          1.0        1.0   \n",
       "1      AFG      Asia  Afghanistan  2020-02-25          1.0        0.0   \n",
       "2      AFG      Asia  Afghanistan  2020-02-26          1.0        0.0   \n",
       "3      AFG      Asia  Afghanistan  2020-02-27          1.0        0.0   \n",
       "4      AFG      Asia  Afghanistan  2020-02-28          1.0        0.0   \n",
       "\n",
       "   new_cases_smoothed  total_deaths  new_deaths  new_deaths_smoothed  ...  \\\n",
       "0                 NaN           NaN         NaN                  NaN  ...   \n",
       "1                 NaN           NaN         NaN                  NaN  ...   \n",
       "2                 NaN           NaN         NaN                  NaN  ...   \n",
       "3                 NaN           NaN         NaN                  NaN  ...   \n",
       "4                 NaN           NaN         NaN                  NaN  ...   \n",
       "\n",
       "   gdp_per_capita  extreme_poverty  cardiovasc_death_rate  \\\n",
       "0        1803.987              NaN                597.029   \n",
       "1        1803.987              NaN                597.029   \n",
       "2        1803.987              NaN                597.029   \n",
       "3        1803.987              NaN                597.029   \n",
       "4        1803.987              NaN                597.029   \n",
       "\n",
       "   diabetes_prevalence  female_smokers  male_smokers  handwashing_facilities  \\\n",
       "0                 9.59             NaN           NaN                  37.746   \n",
       "1                 9.59             NaN           NaN                  37.746   \n",
       "2                 9.59             NaN           NaN                  37.746   \n",
       "3                 9.59             NaN           NaN                  37.746   \n",
       "4                 9.59             NaN           NaN                  37.746   \n",
       "\n",
       "   hospital_beds_per_thousand  life_expectancy  human_development_index  \n",
       "0                         0.5            64.83                    0.511  \n",
       "1                         0.5            64.83                    0.511  \n",
       "2                         0.5            64.83                    0.511  \n",
       "3                         0.5            64.83                    0.511  \n",
       "4                         0.5            64.83                    0.511  \n",
       "\n",
       "[5 rows x 59 columns]"
      ]
     },
     "execution_count": 73,
     "metadata": {},
     "output_type": "execute_result"
    }
   ],
   "source": [
    "covid.head()"
   ]
  },
  {
   "cell_type": "code",
   "execution_count": 74,
   "metadata": {
    "collapsed": true
   },
   "outputs": [
    {
     "name": "stdout",
     "output_type": "stream",
     "text": [
      "<class 'pandas.core.frame.DataFrame'>\n",
      "RangeIndex: 70851 entries, 0 to 70850\n",
      "Data columns (total 59 columns):\n",
      " #   Column                                 Non-Null Count  Dtype  \n",
      "---  ------                                 --------------  -----  \n",
      " 0   iso_code                               70851 non-null  object \n",
      " 1   continent                              67325 non-null  object \n",
      " 2   location                               70851 non-null  object \n",
      " 3   date                                   70851 non-null  object \n",
      " 4   total_cases                            69938 non-null  float64\n",
      " 5   new_cases                              69936 non-null  float64\n",
      " 6   new_cases_smoothed                     68935 non-null  float64\n",
      " 7   total_deaths                           60914 non-null  float64\n",
      " 8   new_deaths                             61072 non-null  float64\n",
      " 9   new_deaths_smoothed                    68935 non-null  float64\n",
      " 10  total_cases_per_million                69555 non-null  float64\n",
      " 11  new_cases_per_million                  69553 non-null  float64\n",
      " 12  new_cases_smoothed_per_million         68557 non-null  float64\n",
      " 13  total_deaths_per_million               60544 non-null  float64\n",
      " 14  new_deaths_per_million                 60702 non-null  float64\n",
      " 15  new_deaths_smoothed_per_million        68557 non-null  float64\n",
      " 16  reproduction_rate                      56738 non-null  float64\n",
      " 17  icu_patients                           7473 non-null   float64\n",
      " 18  icu_patients_per_million               7473 non-null   float64\n",
      " 19  hosp_patients                          8882 non-null   float64\n",
      " 20  hosp_patients_per_million              8882 non-null   float64\n",
      " 21  weekly_icu_admissions                  702 non-null    float64\n",
      " 22  weekly_icu_admissions_per_million      702 non-null    float64\n",
      " 23  weekly_hosp_admissions                 1155 non-null   float64\n",
      " 24  weekly_hosp_admissions_per_million     1155 non-null   float64\n",
      " 25  new_tests                              32012 non-null  float64\n",
      " 26  total_tests                            31878 non-null  float64\n",
      " 27  total_tests_per_thousand               31878 non-null  float64\n",
      " 28  new_tests_per_thousand                 32012 non-null  float64\n",
      " 29  new_tests_smoothed                     36506 non-null  float64\n",
      " 30  new_tests_smoothed_per_thousand        36506 non-null  float64\n",
      " 31  positive_rate                          35076 non-null  float64\n",
      " 32  tests_per_case                         34557 non-null  float64\n",
      " 33  tests_units                            37791 non-null  object \n",
      " 34  total_vaccinations                     2585 non-null   float64\n",
      " 35  people_vaccinated                      2175 non-null   float64\n",
      " 36  people_fully_vaccinated                1400 non-null   float64\n",
      " 37  new_vaccinations                       2192 non-null   float64\n",
      " 38  new_vaccinations_smoothed              3742 non-null   float64\n",
      " 39  total_vaccinations_per_hundred         2585 non-null   float64\n",
      " 40  people_vaccinated_per_hundred          2175 non-null   float64\n",
      " 41  people_fully_vaccinated_per_hundred    1400 non-null   float64\n",
      " 42  new_vaccinations_smoothed_per_million  3742 non-null   float64\n",
      " 43  stringency_index                       61003 non-null  float64\n",
      " 44  population                             70459 non-null  float64\n",
      " 45  population_density                     66235 non-null  float64\n",
      " 46  median_age                             64491 non-null  float64\n",
      " 47  aged_65_older                          63747 non-null  float64\n",
      " 48  aged_70_older                          64127 non-null  float64\n",
      " 49  gdp_per_capita                         64654 non-null  float64\n",
      " 50  extreme_poverty                        44174 non-null  float64\n",
      " 51  cardiovasc_death_rate                  65261 non-null  float64\n",
      " 52  diabetes_prevalence                    66068 non-null  float64\n",
      " 53  female_smokers                         51381 non-null  float64\n",
      " 54  male_smokers                           50676 non-null  float64\n",
      " 55  handwashing_facilities                 32737 non-null  float64\n",
      " 56  hospital_beds_per_thousand             59816 non-null  float64\n",
      " 57  life_expectancy                        67333 non-null  float64\n",
      " 58  human_development_index                65240 non-null  float64\n",
      "dtypes: float64(54), object(5)\n",
      "memory usage: 31.9+ MB\n"
     ]
    }
   ],
   "source": [
    "covid.info()"
   ]
  },
  {
   "cell_type": "markdown",
   "metadata": {},
   "source": [
    "##### 2. date 컬럼을 datetime으로 변경하기"
   ]
  },
  {
   "cell_type": "code",
   "execution_count": 75,
   "metadata": {},
   "outputs": [],
   "source": [
    "covid.date=pd.to_datetime(covid.date,format='%Y-%m-%d')"
   ]
  },
  {
   "cell_type": "markdown",
   "metadata": {},
   "source": [
    "#### 3. 간단하게 분석하기 위해 데이터 범위 좁히기\n",
    "- United States, Brazil, France, South Korea 데이터만 선택"
   ]
  },
  {
   "cell_type": "code",
   "execution_count": 79,
   "metadata": {},
   "outputs": [],
   "source": [
    "covid = covid[covid.location.isin(['United States', 'Brazil', 'France', 'South Korea'])]"
   ]
  },
  {
   "cell_type": "code",
   "execution_count": 80,
   "metadata": {},
   "outputs": [
    {
     "data": {
      "text/html": [
       "<div>\n",
       "<style scoped>\n",
       "    .dataframe tbody tr th:only-of-type {\n",
       "        vertical-align: middle;\n",
       "    }\n",
       "\n",
       "    .dataframe tbody tr th {\n",
       "        vertical-align: top;\n",
       "    }\n",
       "\n",
       "    .dataframe thead th {\n",
       "        text-align: right;\n",
       "    }\n",
       "</style>\n",
       "<table border=\"1\" class=\"dataframe\">\n",
       "  <thead>\n",
       "    <tr style=\"text-align: right;\">\n",
       "      <th></th>\n",
       "      <th>iso_code</th>\n",
       "      <th>continent</th>\n",
       "      <th>location</th>\n",
       "      <th>date</th>\n",
       "      <th>total_cases</th>\n",
       "      <th>new_cases</th>\n",
       "      <th>new_cases_smoothed</th>\n",
       "      <th>total_deaths</th>\n",
       "      <th>new_deaths</th>\n",
       "      <th>new_deaths_smoothed</th>\n",
       "      <th>...</th>\n",
       "      <th>gdp_per_capita</th>\n",
       "      <th>extreme_poverty</th>\n",
       "      <th>cardiovasc_death_rate</th>\n",
       "      <th>diabetes_prevalence</th>\n",
       "      <th>female_smokers</th>\n",
       "      <th>male_smokers</th>\n",
       "      <th>handwashing_facilities</th>\n",
       "      <th>hospital_beds_per_thousand</th>\n",
       "      <th>life_expectancy</th>\n",
       "      <th>human_development_index</th>\n",
       "    </tr>\n",
       "  </thead>\n",
       "  <tbody>\n",
       "    <tr>\n",
       "      <th>9104</th>\n",
       "      <td>BRA</td>\n",
       "      <td>South America</td>\n",
       "      <td>Brazil</td>\n",
       "      <td>2020-02-26</td>\n",
       "      <td>1.0</td>\n",
       "      <td>1.0</td>\n",
       "      <td>NaN</td>\n",
       "      <td>NaN</td>\n",
       "      <td>NaN</td>\n",
       "      <td>NaN</td>\n",
       "      <td>...</td>\n",
       "      <td>14103.452</td>\n",
       "      <td>3.4</td>\n",
       "      <td>177.961</td>\n",
       "      <td>8.11</td>\n",
       "      <td>10.1</td>\n",
       "      <td>17.9</td>\n",
       "      <td>NaN</td>\n",
       "      <td>2.20</td>\n",
       "      <td>75.88</td>\n",
       "      <td>0.765</td>\n",
       "    </tr>\n",
       "    <tr>\n",
       "      <th>9105</th>\n",
       "      <td>BRA</td>\n",
       "      <td>South America</td>\n",
       "      <td>Brazil</td>\n",
       "      <td>2020-02-27</td>\n",
       "      <td>1.0</td>\n",
       "      <td>0.0</td>\n",
       "      <td>NaN</td>\n",
       "      <td>NaN</td>\n",
       "      <td>NaN</td>\n",
       "      <td>NaN</td>\n",
       "      <td>...</td>\n",
       "      <td>14103.452</td>\n",
       "      <td>3.4</td>\n",
       "      <td>177.961</td>\n",
       "      <td>8.11</td>\n",
       "      <td>10.1</td>\n",
       "      <td>17.9</td>\n",
       "      <td>NaN</td>\n",
       "      <td>2.20</td>\n",
       "      <td>75.88</td>\n",
       "      <td>0.765</td>\n",
       "    </tr>\n",
       "    <tr>\n",
       "      <th>9106</th>\n",
       "      <td>BRA</td>\n",
       "      <td>South America</td>\n",
       "      <td>Brazil</td>\n",
       "      <td>2020-02-28</td>\n",
       "      <td>1.0</td>\n",
       "      <td>0.0</td>\n",
       "      <td>NaN</td>\n",
       "      <td>NaN</td>\n",
       "      <td>NaN</td>\n",
       "      <td>NaN</td>\n",
       "      <td>...</td>\n",
       "      <td>14103.452</td>\n",
       "      <td>3.4</td>\n",
       "      <td>177.961</td>\n",
       "      <td>8.11</td>\n",
       "      <td>10.1</td>\n",
       "      <td>17.9</td>\n",
       "      <td>NaN</td>\n",
       "      <td>2.20</td>\n",
       "      <td>75.88</td>\n",
       "      <td>0.765</td>\n",
       "    </tr>\n",
       "    <tr>\n",
       "      <th>9107</th>\n",
       "      <td>BRA</td>\n",
       "      <td>South America</td>\n",
       "      <td>Brazil</td>\n",
       "      <td>2020-02-29</td>\n",
       "      <td>2.0</td>\n",
       "      <td>1.0</td>\n",
       "      <td>NaN</td>\n",
       "      <td>NaN</td>\n",
       "      <td>NaN</td>\n",
       "      <td>NaN</td>\n",
       "      <td>...</td>\n",
       "      <td>14103.452</td>\n",
       "      <td>3.4</td>\n",
       "      <td>177.961</td>\n",
       "      <td>8.11</td>\n",
       "      <td>10.1</td>\n",
       "      <td>17.9</td>\n",
       "      <td>NaN</td>\n",
       "      <td>2.20</td>\n",
       "      <td>75.88</td>\n",
       "      <td>0.765</td>\n",
       "    </tr>\n",
       "    <tr>\n",
       "      <th>9108</th>\n",
       "      <td>BRA</td>\n",
       "      <td>South America</td>\n",
       "      <td>Brazil</td>\n",
       "      <td>2020-03-01</td>\n",
       "      <td>2.0</td>\n",
       "      <td>0.0</td>\n",
       "      <td>NaN</td>\n",
       "      <td>NaN</td>\n",
       "      <td>NaN</td>\n",
       "      <td>NaN</td>\n",
       "      <td>...</td>\n",
       "      <td>14103.452</td>\n",
       "      <td>3.4</td>\n",
       "      <td>177.961</td>\n",
       "      <td>8.11</td>\n",
       "      <td>10.1</td>\n",
       "      <td>17.9</td>\n",
       "      <td>NaN</td>\n",
       "      <td>2.20</td>\n",
       "      <td>75.88</td>\n",
       "      <td>0.765</td>\n",
       "    </tr>\n",
       "    <tr>\n",
       "      <th>...</th>\n",
       "      <td>...</td>\n",
       "      <td>...</td>\n",
       "      <td>...</td>\n",
       "      <td>...</td>\n",
       "      <td>...</td>\n",
       "      <td>...</td>\n",
       "      <td>...</td>\n",
       "      <td>...</td>\n",
       "      <td>...</td>\n",
       "      <td>...</td>\n",
       "      <td>...</td>\n",
       "      <td>...</td>\n",
       "      <td>...</td>\n",
       "      <td>...</td>\n",
       "      <td>...</td>\n",
       "      <td>...</td>\n",
       "      <td>...</td>\n",
       "      <td>...</td>\n",
       "      <td>...</td>\n",
       "      <td>...</td>\n",
       "      <td>...</td>\n",
       "    </tr>\n",
       "    <tr>\n",
       "      <th>67543</th>\n",
       "      <td>USA</td>\n",
       "      <td>North America</td>\n",
       "      <td>United States</td>\n",
       "      <td>2021-02-19</td>\n",
       "      <td>28006110.0</td>\n",
       "      <td>106355.0</td>\n",
       "      <td>73405.286</td>\n",
       "      <td>495827.0</td>\n",
       "      <td>2689.0</td>\n",
       "      <td>1898.857</td>\n",
       "      <td>...</td>\n",
       "      <td>54225.446</td>\n",
       "      <td>1.2</td>\n",
       "      <td>151.089</td>\n",
       "      <td>10.79</td>\n",
       "      <td>19.1</td>\n",
       "      <td>24.6</td>\n",
       "      <td>NaN</td>\n",
       "      <td>2.77</td>\n",
       "      <td>78.86</td>\n",
       "      <td>0.926</td>\n",
       "    </tr>\n",
       "    <tr>\n",
       "      <th>67544</th>\n",
       "      <td>USA</td>\n",
       "      <td>North America</td>\n",
       "      <td>United States</td>\n",
       "      <td>2021-02-20</td>\n",
       "      <td>28077620.0</td>\n",
       "      <td>71510.0</td>\n",
       "      <td>71194.714</td>\n",
       "      <td>497648.0</td>\n",
       "      <td>1821.0</td>\n",
       "      <td>1850.429</td>\n",
       "      <td>...</td>\n",
       "      <td>54225.446</td>\n",
       "      <td>1.2</td>\n",
       "      <td>151.089</td>\n",
       "      <td>10.79</td>\n",
       "      <td>19.1</td>\n",
       "      <td>24.6</td>\n",
       "      <td>NaN</td>\n",
       "      <td>2.77</td>\n",
       "      <td>78.86</td>\n",
       "      <td>0.926</td>\n",
       "    </tr>\n",
       "    <tr>\n",
       "      <th>67545</th>\n",
       "      <td>USA</td>\n",
       "      <td>North America</td>\n",
       "      <td>United States</td>\n",
       "      <td>2021-02-21</td>\n",
       "      <td>28134115.0</td>\n",
       "      <td>56495.0</td>\n",
       "      <td>69986.000</td>\n",
       "      <td>498897.0</td>\n",
       "      <td>1249.0</td>\n",
       "      <td>1872.286</td>\n",
       "      <td>...</td>\n",
       "      <td>54225.446</td>\n",
       "      <td>1.2</td>\n",
       "      <td>151.089</td>\n",
       "      <td>10.79</td>\n",
       "      <td>19.1</td>\n",
       "      <td>24.6</td>\n",
       "      <td>NaN</td>\n",
       "      <td>2.77</td>\n",
       "      <td>78.86</td>\n",
       "      <td>0.926</td>\n",
       "    </tr>\n",
       "    <tr>\n",
       "      <th>67546</th>\n",
       "      <td>USA</td>\n",
       "      <td>North America</td>\n",
       "      <td>United States</td>\n",
       "      <td>2021-02-22</td>\n",
       "      <td>28190159.0</td>\n",
       "      <td>56044.0</td>\n",
       "      <td>70281.286</td>\n",
       "      <td>500310.0</td>\n",
       "      <td>1413.0</td>\n",
       "      <td>1937.857</td>\n",
       "      <td>...</td>\n",
       "      <td>54225.446</td>\n",
       "      <td>1.2</td>\n",
       "      <td>151.089</td>\n",
       "      <td>10.79</td>\n",
       "      <td>19.1</td>\n",
       "      <td>24.6</td>\n",
       "      <td>NaN</td>\n",
       "      <td>2.77</td>\n",
       "      <td>78.86</td>\n",
       "      <td>0.926</td>\n",
       "    </tr>\n",
       "    <tr>\n",
       "      <th>67547</th>\n",
       "      <td>USA</td>\n",
       "      <td>North America</td>\n",
       "      <td>United States</td>\n",
       "      <td>2021-02-23</td>\n",
       "      <td>28261595.0</td>\n",
       "      <td>71436.0</td>\n",
       "      <td>71562.143</td>\n",
       "      <td>502660.0</td>\n",
       "      <td>2350.0</td>\n",
       "      <td>2030.714</td>\n",
       "      <td>...</td>\n",
       "      <td>54225.446</td>\n",
       "      <td>1.2</td>\n",
       "      <td>151.089</td>\n",
       "      <td>10.79</td>\n",
       "      <td>19.1</td>\n",
       "      <td>24.6</td>\n",
       "      <td>NaN</td>\n",
       "      <td>2.77</td>\n",
       "      <td>78.86</td>\n",
       "      <td>0.926</td>\n",
       "    </tr>\n",
       "  </tbody>\n",
       "</table>\n",
       "<p>1560 rows × 59 columns</p>\n",
       "</div>"
      ],
      "text/plain": [
       "      iso_code      continent       location       date  total_cases  \\\n",
       "9104       BRA  South America         Brazil 2020-02-26          1.0   \n",
       "9105       BRA  South America         Brazil 2020-02-27          1.0   \n",
       "9106       BRA  South America         Brazil 2020-02-28          1.0   \n",
       "9107       BRA  South America         Brazil 2020-02-29          2.0   \n",
       "9108       BRA  South America         Brazil 2020-03-01          2.0   \n",
       "...        ...            ...            ...        ...          ...   \n",
       "67543      USA  North America  United States 2021-02-19   28006110.0   \n",
       "67544      USA  North America  United States 2021-02-20   28077620.0   \n",
       "67545      USA  North America  United States 2021-02-21   28134115.0   \n",
       "67546      USA  North America  United States 2021-02-22   28190159.0   \n",
       "67547      USA  North America  United States 2021-02-23   28261595.0   \n",
       "\n",
       "       new_cases  new_cases_smoothed  total_deaths  new_deaths  \\\n",
       "9104         1.0                 NaN           NaN         NaN   \n",
       "9105         0.0                 NaN           NaN         NaN   \n",
       "9106         0.0                 NaN           NaN         NaN   \n",
       "9107         1.0                 NaN           NaN         NaN   \n",
       "9108         0.0                 NaN           NaN         NaN   \n",
       "...          ...                 ...           ...         ...   \n",
       "67543   106355.0           73405.286      495827.0      2689.0   \n",
       "67544    71510.0           71194.714      497648.0      1821.0   \n",
       "67545    56495.0           69986.000      498897.0      1249.0   \n",
       "67546    56044.0           70281.286      500310.0      1413.0   \n",
       "67547    71436.0           71562.143      502660.0      2350.0   \n",
       "\n",
       "       new_deaths_smoothed  ...  gdp_per_capita  extreme_poverty  \\\n",
       "9104                   NaN  ...       14103.452              3.4   \n",
       "9105                   NaN  ...       14103.452              3.4   \n",
       "9106                   NaN  ...       14103.452              3.4   \n",
       "9107                   NaN  ...       14103.452              3.4   \n",
       "9108                   NaN  ...       14103.452              3.4   \n",
       "...                    ...  ...             ...              ...   \n",
       "67543             1898.857  ...       54225.446              1.2   \n",
       "67544             1850.429  ...       54225.446              1.2   \n",
       "67545             1872.286  ...       54225.446              1.2   \n",
       "67546             1937.857  ...       54225.446              1.2   \n",
       "67547             2030.714  ...       54225.446              1.2   \n",
       "\n",
       "       cardiovasc_death_rate  diabetes_prevalence  female_smokers  \\\n",
       "9104                 177.961                 8.11            10.1   \n",
       "9105                 177.961                 8.11            10.1   \n",
       "9106                 177.961                 8.11            10.1   \n",
       "9107                 177.961                 8.11            10.1   \n",
       "9108                 177.961                 8.11            10.1   \n",
       "...                      ...                  ...             ...   \n",
       "67543                151.089                10.79            19.1   \n",
       "67544                151.089                10.79            19.1   \n",
       "67545                151.089                10.79            19.1   \n",
       "67546                151.089                10.79            19.1   \n",
       "67547                151.089                10.79            19.1   \n",
       "\n",
       "       male_smokers  handwashing_facilities  hospital_beds_per_thousand  \\\n",
       "9104           17.9                     NaN                        2.20   \n",
       "9105           17.9                     NaN                        2.20   \n",
       "9106           17.9                     NaN                        2.20   \n",
       "9107           17.9                     NaN                        2.20   \n",
       "9108           17.9                     NaN                        2.20   \n",
       "...             ...                     ...                         ...   \n",
       "67543          24.6                     NaN                        2.77   \n",
       "67544          24.6                     NaN                        2.77   \n",
       "67545          24.6                     NaN                        2.77   \n",
       "67546          24.6                     NaN                        2.77   \n",
       "67547          24.6                     NaN                        2.77   \n",
       "\n",
       "       life_expectancy  human_development_index  \n",
       "9104             75.88                    0.765  \n",
       "9105             75.88                    0.765  \n",
       "9106             75.88                    0.765  \n",
       "9107             75.88                    0.765  \n",
       "9108             75.88                    0.765  \n",
       "...                ...                      ...  \n",
       "67543            78.86                    0.926  \n",
       "67544            78.86                    0.926  \n",
       "67545            78.86                    0.926  \n",
       "67546            78.86                    0.926  \n",
       "67547            78.86                    0.926  \n",
       "\n",
       "[1560 rows x 59 columns]"
      ]
     },
     "execution_count": 80,
     "metadata": {},
     "output_type": "execute_result"
    }
   ],
   "source": [
    "covid"
   ]
  },
  {
   "cell_type": "markdown",
   "metadata": {},
   "source": [
    "- location, date, total_cases, new_cases 컬럼만 선택"
   ]
  },
  {
   "cell_type": "code",
   "execution_count": 81,
   "metadata": {},
   "outputs": [],
   "source": [
    "covid=covid[['location', 'date', 'total_cases', 'new_cases']]"
   ]
  },
  {
   "cell_type": "code",
   "execution_count": 82,
   "metadata": {},
   "outputs": [
    {
     "data": {
      "text/html": [
       "<div>\n",
       "<style scoped>\n",
       "    .dataframe tbody tr th:only-of-type {\n",
       "        vertical-align: middle;\n",
       "    }\n",
       "\n",
       "    .dataframe tbody tr th {\n",
       "        vertical-align: top;\n",
       "    }\n",
       "\n",
       "    .dataframe thead th {\n",
       "        text-align: right;\n",
       "    }\n",
       "</style>\n",
       "<table border=\"1\" class=\"dataframe\">\n",
       "  <thead>\n",
       "    <tr style=\"text-align: right;\">\n",
       "      <th></th>\n",
       "      <th>location</th>\n",
       "      <th>date</th>\n",
       "      <th>total_cases</th>\n",
       "      <th>new_cases</th>\n",
       "    </tr>\n",
       "  </thead>\n",
       "  <tbody>\n",
       "    <tr>\n",
       "      <th>9104</th>\n",
       "      <td>Brazil</td>\n",
       "      <td>2020-02-26</td>\n",
       "      <td>1.0</td>\n",
       "      <td>1.0</td>\n",
       "    </tr>\n",
       "    <tr>\n",
       "      <th>9105</th>\n",
       "      <td>Brazil</td>\n",
       "      <td>2020-02-27</td>\n",
       "      <td>1.0</td>\n",
       "      <td>0.0</td>\n",
       "    </tr>\n",
       "    <tr>\n",
       "      <th>9106</th>\n",
       "      <td>Brazil</td>\n",
       "      <td>2020-02-28</td>\n",
       "      <td>1.0</td>\n",
       "      <td>0.0</td>\n",
       "    </tr>\n",
       "    <tr>\n",
       "      <th>9107</th>\n",
       "      <td>Brazil</td>\n",
       "      <td>2020-02-29</td>\n",
       "      <td>2.0</td>\n",
       "      <td>1.0</td>\n",
       "    </tr>\n",
       "    <tr>\n",
       "      <th>9108</th>\n",
       "      <td>Brazil</td>\n",
       "      <td>2020-03-01</td>\n",
       "      <td>2.0</td>\n",
       "      <td>0.0</td>\n",
       "    </tr>\n",
       "    <tr>\n",
       "      <th>...</th>\n",
       "      <td>...</td>\n",
       "      <td>...</td>\n",
       "      <td>...</td>\n",
       "      <td>...</td>\n",
       "    </tr>\n",
       "    <tr>\n",
       "      <th>67543</th>\n",
       "      <td>United States</td>\n",
       "      <td>2021-02-19</td>\n",
       "      <td>28006110.0</td>\n",
       "      <td>106355.0</td>\n",
       "    </tr>\n",
       "    <tr>\n",
       "      <th>67544</th>\n",
       "      <td>United States</td>\n",
       "      <td>2021-02-20</td>\n",
       "      <td>28077620.0</td>\n",
       "      <td>71510.0</td>\n",
       "    </tr>\n",
       "    <tr>\n",
       "      <th>67545</th>\n",
       "      <td>United States</td>\n",
       "      <td>2021-02-21</td>\n",
       "      <td>28134115.0</td>\n",
       "      <td>56495.0</td>\n",
       "    </tr>\n",
       "    <tr>\n",
       "      <th>67546</th>\n",
       "      <td>United States</td>\n",
       "      <td>2021-02-22</td>\n",
       "      <td>28190159.0</td>\n",
       "      <td>56044.0</td>\n",
       "    </tr>\n",
       "    <tr>\n",
       "      <th>67547</th>\n",
       "      <td>United States</td>\n",
       "      <td>2021-02-23</td>\n",
       "      <td>28261595.0</td>\n",
       "      <td>71436.0</td>\n",
       "    </tr>\n",
       "  </tbody>\n",
       "</table>\n",
       "<p>1560 rows × 4 columns</p>\n",
       "</div>"
      ],
      "text/plain": [
       "            location       date  total_cases  new_cases\n",
       "9104          Brazil 2020-02-26          1.0        1.0\n",
       "9105          Brazil 2020-02-27          1.0        0.0\n",
       "9106          Brazil 2020-02-28          1.0        0.0\n",
       "9107          Brazil 2020-02-29          2.0        1.0\n",
       "9108          Brazil 2020-03-01          2.0        0.0\n",
       "...              ...        ...          ...        ...\n",
       "67543  United States 2021-02-19   28006110.0   106355.0\n",
       "67544  United States 2021-02-20   28077620.0    71510.0\n",
       "67545  United States 2021-02-21   28134115.0    56495.0\n",
       "67546  United States 2021-02-22   28190159.0    56044.0\n",
       "67547  United States 2021-02-23   28261595.0    71436.0\n",
       "\n",
       "[1560 rows x 4 columns]"
      ]
     },
     "execution_count": 82,
     "metadata": {},
     "output_type": "execute_result"
    }
   ],
   "source": [
    "covid"
   ]
  },
  {
   "cell_type": "markdown",
   "metadata": {},
   "source": [
    "#### 4. 데이터 분석 실습\n",
    "- [실습 #1] 각 나라별로 월별 누적 확진자수의 합 구하기\n",
    "- [실습 #2] 각 나라별로 요일별 신규 확진자수의 합 구하기\n",
    "- [실습 #3] 각 나라별로 분기별 신규 확진자수의 합 구하기\n",
    "..."
   ]
  },
  {
   "cell_type": "markdown",
   "metadata": {},
   "source": [
    "##### 년도(year), 달(month), 일(day), 주차(WeekNumber, %U)과 요일(weekDay, %a), 분기(quarter) 컬럼 추가하기"
   ]
  },
  {
   "cell_type": "code",
   "execution_count": 88,
   "metadata": {},
   "outputs": [
    {
     "name": "stderr",
     "output_type": "stream",
     "text": [
      "<ipython-input-88-39267763da6d>:1: SettingWithCopyWarning: \n",
      "A value is trying to be set on a copy of a slice from a DataFrame.\n",
      "Try using .loc[row_indexer,col_indexer] = value instead\n",
      "\n",
      "See the caveats in the documentation: https://pandas.pydata.org/pandas-docs/stable/user_guide/indexing.html#returning-a-view-versus-a-copy\n",
      "  covid['year']=covid.date.apply(lambda X: X.strftime('%Y'))\n",
      "<ipython-input-88-39267763da6d>:2: SettingWithCopyWarning: \n",
      "A value is trying to be set on a copy of a slice from a DataFrame.\n",
      "Try using .loc[row_indexer,col_indexer] = value instead\n",
      "\n",
      "See the caveats in the documentation: https://pandas.pydata.org/pandas-docs/stable/user_guide/indexing.html#returning-a-view-versus-a-copy\n",
      "  covid['month']=covid.date.apply(lambda X: X.strftime('%m'))\n",
      "<ipython-input-88-39267763da6d>:3: SettingWithCopyWarning: \n",
      "A value is trying to be set on a copy of a slice from a DataFrame.\n",
      "Try using .loc[row_indexer,col_indexer] = value instead\n",
      "\n",
      "See the caveats in the documentation: https://pandas.pydata.org/pandas-docs/stable/user_guide/indexing.html#returning-a-view-versus-a-copy\n",
      "  covid['day']=covid.date.apply(lambda X: X.strftime('%d'))\n",
      "<ipython-input-88-39267763da6d>:4: SettingWithCopyWarning: \n",
      "A value is trying to be set on a copy of a slice from a DataFrame.\n",
      "Try using .loc[row_indexer,col_indexer] = value instead\n",
      "\n",
      "See the caveats in the documentation: https://pandas.pydata.org/pandas-docs/stable/user_guide/indexing.html#returning-a-view-versus-a-copy\n",
      "  covid['weekNumber']=covid.date.apply(lambda X: X.strftime('%U'))\n",
      "<ipython-input-88-39267763da6d>:5: SettingWithCopyWarning: \n",
      "A value is trying to be set on a copy of a slice from a DataFrame.\n",
      "Try using .loc[row_indexer,col_indexer] = value instead\n",
      "\n",
      "See the caveats in the documentation: https://pandas.pydata.org/pandas-docs/stable/user_guide/indexing.html#returning-a-view-versus-a-copy\n",
      "  covid['weekDay']=covid.date.apply(lambda X: X.strftime('%a'))\n"
     ]
    }
   ],
   "source": [
    "covid['year']=covid.date.apply(lambda X: X.strftime('%Y'))\n",
    "covid['month']=covid.date.apply(lambda X: X.strftime('%m'))\n",
    "covid['day']=covid.date.apply(lambda X: X.strftime('%d'))\n",
    "covid['weekNumber']=covid.date.apply(lambda X: X.strftime('%U'))\n",
    "covid['weekDay']=covid.date.apply(lambda X: X.strftime('%a'))"
   ]
  },
  {
   "cell_type": "code",
   "execution_count": 92,
   "metadata": {},
   "outputs": [
    {
     "name": "stderr",
     "output_type": "stream",
     "text": [
      "<ipython-input-92-81cccfa9bbbe>:2: SettingWithCopyWarning: \n",
      "A value is trying to be set on a copy of a slice from a DataFrame.\n",
      "Try using .loc[row_indexer,col_indexer] = value instead\n",
      "\n",
      "See the caveats in the documentation: https://pandas.pydata.org/pandas-docs/stable/user_guide/indexing.html#returning-a-view-versus-a-copy\n",
      "  covid['quarter']=covid.date.apply(lambda X: pd.Timestamp(X).quarter)\n"
     ]
    }
   ],
   "source": [
    "#쿼터(분기) 정보 추가\n",
    "covid['quarter']=covid.date.apply(lambda X: pd.Timestamp(X).quarter)"
   ]
  },
  {
   "cell_type": "markdown",
   "metadata": {},
   "source": [
    "- [실습 #1] 각 나라별로 월별 누적 확진자수의 합 구하기\n",
    " - 월별 마지막 날 기준으로 누적 확진자수 구하기\n",
    " - https://pandas.pydata.org/pandas-docs/stable/timeseries.html#timeseries-offset-aliases 참고"
   ]
  },
  {
   "cell_type": "code",
   "execution_count": 85,
   "metadata": {},
   "outputs": [],
   "source": [
    "#매월 마지막 날짜데이터만 선택\n",
    "ex1 =covid[covid.date.isin(pd.date_range(start=covid.date.min(),\n",
    "                                   end=covid.date.max(),\n",
    "                                   freq='M'))]"
   ]
  },
  {
   "cell_type": "code",
   "execution_count": 86,
   "metadata": {},
   "outputs": [
    {
     "data": {
      "text/plain": [
       "<AxesSubplot:xlabel='date'>"
      ]
     },
     "execution_count": 86,
     "metadata": {},
     "output_type": "execute_result"
    },
    {
     "data": {
      "image/png": "[encoded data removed]",
      "text/plain": [
       "<Figure size 432x288 with 1 Axes>"
      ]
     },
     "metadata": {
      "needs_background": "light"
     },
     "output_type": "display_data"
    }
   ],
   "source": [
    "ex1.set_index(['date','location']).unstack()['total_cases'].plot()"
   ]
  },
  {
   "cell_type": "code",
   "execution_count": 95,
   "metadata": {},
   "outputs": [
    {
     "data": {
      "text/html": [
       "<div>\n",
       "<style scoped>\n",
       "    .dataframe tbody tr th:only-of-type {\n",
       "        vertical-align: middle;\n",
       "    }\n",
       "\n",
       "    .dataframe tbody tr th {\n",
       "        vertical-align: top;\n",
       "    }\n",
       "\n",
       "    .dataframe thead th {\n",
       "        text-align: right;\n",
       "    }\n",
       "</style>\n",
       "<table border=\"1\" class=\"dataframe\">\n",
       "  <thead>\n",
       "    <tr style=\"text-align: right;\">\n",
       "      <th></th>\n",
       "      <th>location</th>\n",
       "      <th>date</th>\n",
       "      <th>total_cases</th>\n",
       "      <th>new_cases</th>\n",
       "      <th>year</th>\n",
       "      <th>month</th>\n",
       "      <th>day</th>\n",
       "      <th>weekNumber</th>\n",
       "      <th>weekDay</th>\n",
       "      <th>quarter</th>\n",
       "    </tr>\n",
       "  </thead>\n",
       "  <tbody>\n",
       "    <tr>\n",
       "      <th>9104</th>\n",
       "      <td>Brazil</td>\n",
       "      <td>2020-02-26</td>\n",
       "      <td>1.0</td>\n",
       "      <td>1.0</td>\n",
       "      <td>2020</td>\n",
       "      <td>02</td>\n",
       "      <td>26</td>\n",
       "      <td>08</td>\n",
       "      <td>Wed</td>\n",
       "      <td>1</td>\n",
       "    </tr>\n",
       "    <tr>\n",
       "      <th>9105</th>\n",
       "      <td>Brazil</td>\n",
       "      <td>2020-02-27</td>\n",
       "      <td>1.0</td>\n",
       "      <td>0.0</td>\n",
       "      <td>2020</td>\n",
       "      <td>02</td>\n",
       "      <td>27</td>\n",
       "      <td>08</td>\n",
       "      <td>Thu</td>\n",
       "      <td>1</td>\n",
       "    </tr>\n",
       "    <tr>\n",
       "      <th>9106</th>\n",
       "      <td>Brazil</td>\n",
       "      <td>2020-02-28</td>\n",
       "      <td>1.0</td>\n",
       "      <td>0.0</td>\n",
       "      <td>2020</td>\n",
       "      <td>02</td>\n",
       "      <td>28</td>\n",
       "      <td>08</td>\n",
       "      <td>Fri</td>\n",
       "      <td>1</td>\n",
       "    </tr>\n",
       "    <tr>\n",
       "      <th>9107</th>\n",
       "      <td>Brazil</td>\n",
       "      <td>2020-02-29</td>\n",
       "      <td>2.0</td>\n",
       "      <td>1.0</td>\n",
       "      <td>2020</td>\n",
       "      <td>02</td>\n",
       "      <td>29</td>\n",
       "      <td>08</td>\n",
       "      <td>Sat</td>\n",
       "      <td>1</td>\n",
       "    </tr>\n",
       "    <tr>\n",
       "      <th>9108</th>\n",
       "      <td>Brazil</td>\n",
       "      <td>2020-03-01</td>\n",
       "      <td>2.0</td>\n",
       "      <td>0.0</td>\n",
       "      <td>2020</td>\n",
       "      <td>03</td>\n",
       "      <td>01</td>\n",
       "      <td>09</td>\n",
       "      <td>Sun</td>\n",
       "      <td>1</td>\n",
       "    </tr>\n",
       "    <tr>\n",
       "      <th>...</th>\n",
       "      <td>...</td>\n",
       "      <td>...</td>\n",
       "      <td>...</td>\n",
       "      <td>...</td>\n",
       "      <td>...</td>\n",
       "      <td>...</td>\n",
       "      <td>...</td>\n",
       "      <td>...</td>\n",
       "      <td>...</td>\n",
       "      <td>...</td>\n",
       "    </tr>\n",
       "    <tr>\n",
       "      <th>67543</th>\n",
       "      <td>United States</td>\n",
       "      <td>2021-02-19</td>\n",
       "      <td>28006110.0</td>\n",
       "      <td>106355.0</td>\n",
       "      <td>2021</td>\n",
       "      <td>02</td>\n",
       "      <td>19</td>\n",
       "      <td>07</td>\n",
       "      <td>Fri</td>\n",
       "      <td>1</td>\n",
       "    </tr>\n",
       "    <tr>\n",
       "      <th>67544</th>\n",
       "      <td>United States</td>\n",
       "      <td>2021-02-20</td>\n",
       "      <td>28077620.0</td>\n",
       "      <td>71510.0</td>\n",
       "      <td>2021</td>\n",
       "      <td>02</td>\n",
       "      <td>20</td>\n",
       "      <td>07</td>\n",
       "      <td>Sat</td>\n",
       "      <td>1</td>\n",
       "    </tr>\n",
       "    <tr>\n",
       "      <th>67545</th>\n",
       "      <td>United States</td>\n",
       "      <td>2021-02-21</td>\n",
       "      <td>28134115.0</td>\n",
       "      <td>56495.0</td>\n",
       "      <td>2021</td>\n",
       "      <td>02</td>\n",
       "      <td>21</td>\n",
       "      <td>08</td>\n",
       "      <td>Sun</td>\n",
       "      <td>1</td>\n",
       "    </tr>\n",
       "    <tr>\n",
       "      <th>67546</th>\n",
       "      <td>United States</td>\n",
       "      <td>2021-02-22</td>\n",
       "      <td>28190159.0</td>\n",
       "      <td>56044.0</td>\n",
       "      <td>2021</td>\n",
       "      <td>02</td>\n",
       "      <td>22</td>\n",
       "      <td>08</td>\n",
       "      <td>Mon</td>\n",
       "      <td>1</td>\n",
       "    </tr>\n",
       "    <tr>\n",
       "      <th>67547</th>\n",
       "      <td>United States</td>\n",
       "      <td>2021-02-23</td>\n",
       "      <td>28261595.0</td>\n",
       "      <td>71436.0</td>\n",
       "      <td>2021</td>\n",
       "      <td>02</td>\n",
       "      <td>23</td>\n",
       "      <td>08</td>\n",
       "      <td>Tue</td>\n",
       "      <td>1</td>\n",
       "    </tr>\n",
       "  </tbody>\n",
       "</table>\n",
       "<p>1560 rows × 10 columns</p>\n",
       "</div>"
      ],
      "text/plain": [
       "            location       date  total_cases  new_cases  year month day  \\\n",
       "9104          Brazil 2020-02-26          1.0        1.0  2020    02  26   \n",
       "9105          Brazil 2020-02-27          1.0        0.0  2020    02  27   \n",
       "9106          Brazil 2020-02-28          1.0        0.0  2020    02  28   \n",
       "9107          Brazil 2020-02-29          2.0        1.0  2020    02  29   \n",
       "9108          Brazil 2020-03-01          2.0        0.0  2020    03  01   \n",
       "...              ...        ...          ...        ...   ...   ...  ..   \n",
       "67543  United States 2021-02-19   28006110.0   106355.0  2021    02  19   \n",
       "67544  United States 2021-02-20   28077620.0    71510.0  2021    02  20   \n",
       "67545  United States 2021-02-21   28134115.0    56495.0  2021    02  21   \n",
       "67546  United States 2021-02-22   28190159.0    56044.0  2021    02  22   \n",
       "67547  United States 2021-02-23   28261595.0    71436.0  2021    02  23   \n",
       "\n",
       "      weekNumber weekDay  quarter  \n",
       "9104          08     Wed        1  \n",
       "9105          08     Thu        1  \n",
       "9106          08     Fri        1  \n",
       "9107          08     Sat        1  \n",
       "9108          09     Sun        1  \n",
       "...          ...     ...      ...  \n",
       "67543         07     Fri        1  \n",
       "67544         07     Sat        1  \n",
       "67545         08     Sun        1  \n",
       "67546         08     Mon        1  \n",
       "67547         08     Tue        1  \n",
       "\n",
       "[1560 rows x 10 columns]"
      ]
     },
     "execution_count": 95,
     "metadata": {},
     "output_type": "execute_result"
    }
   ],
   "source": [
    "covid"
   ]
  },
  {
   "cell_type": "markdown",
   "metadata": {},
   "source": [
    "- [실습 #2] 각 나라별로 요일별 신규 확진자수의 합 구하기"
   ]
  },
  {
   "cell_type": "code",
   "execution_count": 97,
   "metadata": {},
   "outputs": [
    {
     "data": {
      "text/html": [
       "<div>\n",
       "<style scoped>\n",
       "    .dataframe tbody tr th:only-of-type {\n",
       "        vertical-align: middle;\n",
       "    }\n",
       "\n",
       "    .dataframe tbody tr th {\n",
       "        vertical-align: top;\n",
       "    }\n",
       "\n",
       "    .dataframe thead th {\n",
       "        text-align: right;\n",
       "    }\n",
       "</style>\n",
       "<table border=\"1\" class=\"dataframe\">\n",
       "  <thead>\n",
       "    <tr style=\"text-align: right;\">\n",
       "      <th></th>\n",
       "      <th>new_cases</th>\n",
       "    </tr>\n",
       "    <tr>\n",
       "      <th>weekDay</th>\n",
       "      <th></th>\n",
       "    </tr>\n",
       "  </thead>\n",
       "  <tbody>\n",
       "    <tr>\n",
       "      <th>Fri</th>\n",
       "      <td>6754862.0</td>\n",
       "    </tr>\n",
       "    <tr>\n",
       "      <th>Mon</th>\n",
       "      <td>4810652.0</td>\n",
       "    </tr>\n",
       "    <tr>\n",
       "      <th>Sat</th>\n",
       "      <td>6307617.0</td>\n",
       "    </tr>\n",
       "    <tr>\n",
       "      <th>Sun</th>\n",
       "      <td>4892651.0</td>\n",
       "    </tr>\n",
       "    <tr>\n",
       "      <th>Thu</th>\n",
       "      <td>6766153.0</td>\n",
       "    </tr>\n",
       "    <tr>\n",
       "      <th>Tue</th>\n",
       "      <td>6278893.0</td>\n",
       "    </tr>\n",
       "    <tr>\n",
       "      <th>Wed</th>\n",
       "      <td>6486294.0</td>\n",
       "    </tr>\n",
       "  </tbody>\n",
       "</table>\n",
       "</div>"
      ],
      "text/plain": [
       "         new_cases\n",
       "weekDay           \n",
       "Fri      6754862.0\n",
       "Mon      4810652.0\n",
       "Sat      6307617.0\n",
       "Sun      4892651.0\n",
       "Thu      6766153.0\n",
       "Tue      6278893.0\n",
       "Wed      6486294.0"
      ]
     },
     "execution_count": 97,
     "metadata": {},
     "output_type": "execute_result"
    }
   ],
   "source": [
    "covid.pivot_table(index='weekDay',aggfunc='sum',values='new_cases')"
   ]
  },
  {
   "cell_type": "markdown",
   "metadata": {},
   "source": [
    "- [실습 #3] 각 나라별로 분기별 신규 확진자수의 합 구하기"
   ]
  },
  {
   "cell_type": "code",
   "execution_count": 101,
   "metadata": {},
   "outputs": [
    {
     "data": {
      "text/plain": [
       "<AxesSubplot:xlabel='year,quarter'>"
      ]
     },
     "execution_count": 101,
     "metadata": {},
     "output_type": "execute_result"
    },
    {
     "data": {
      "image/png": "[encoded data removed]",
      "text/plain": [
       "<Figure size 432x288 with 1 Axes>"
      ]
     },
     "metadata": {
      "needs_background": "light"
     },
     "output_type": "display_data"
    }
   ],
   "source": [
    "covid.pivot_table(index=['year','quarter'],columns='location',\n",
    "                  aggfunc='sum',values='new_cases').plot()"
   ]
  },
  {
   "cell_type": "code",
   "execution_count": null,
   "metadata": {},
   "outputs": [],
   "source": []
  }
 ],
 "metadata": {
  "kernelspec": {
   "display_name": "Python 3",
   "language": "python",
   "name": "python3"
  },
  "language_info": {
   "codemirror_mode": {
    "name": "ipython",
    "version": 3
   },
   "file_extension": ".py",
   "mimetype": "text/x-python",
   "name": "python",
   "nbconvert_exporter": "python",
   "pygments_lexer": "ipython3",
   "version": "3.8.8"
  },
  "toc": {
   "base_numbering": 1,
   "nav_menu": {},
   "number_sections": true,
   "sideBar": true,
   "skip_h1_title": false,
   "title_cell": "Table of Contents",
   "title_sidebar": "Contents",
   "toc_cell": false,
   "toc_position": {},
   "toc_section_display": true,
   "toc_window_display": false
  }
 },
 "nbformat": 4,
 "nbformat_minor": 2
}
