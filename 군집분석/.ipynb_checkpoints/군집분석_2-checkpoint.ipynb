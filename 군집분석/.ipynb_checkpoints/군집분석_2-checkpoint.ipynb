{
 "cells": [
  {
   "cell_type": "code",
   "execution_count": 2,
   "id": "cbfe954a",
   "metadata": {},
   "outputs": [
    {
     "data": {
      "image/png": "[encoded data removed]",
      "text/plain": [
       "<Figure size 432x288 with 1 Axes>"
      ]
     },
     "metadata": {
      "needs_background": "light"
     },
     "output_type": "display_data"
    }
   ],
   "source": [
    "from __future__ import print_function\n",
    "from sklearn.datasets import make_blobs\n",
    "from sklearn.cluster import KMeans\n",
    "from sklearn.metrics import silhouette_samples\n",
    "from pandas import DataFrame\n",
    "from scipy.stats import entropy\n",
    "from math import log,e\n",
    "import matplotlib.pyplot as plt\n",
    "import matplotlib.cm as cm\n",
    "import numpy as np\n",
    "import pandas as pd\n",
    "import math\n",
    "import timeit\n",
    "\n",
    "X=np.array([[2,0],[3,0],[4,0],[10,0],[11,0],[12,0],[20,0],[25,0],[30,0]])\n",
    "plt.scatter(X[:,0],X[:,1],s=100)\n",
    "plt.show()"
   ]
  },
  {
   "cell_type": "code",
   "execution_count": 3,
   "id": "46adb5d3",
   "metadata": {},
   "outputs": [
    {
     "data": {
      "text/plain": [
       "(array([2.5, 0. ]), array([16.,  0.]))"
      ]
     },
     "execution_count": 3,
     "metadata": {},
     "output_type": "execute_result"
    }
   ],
   "source": [
    "model1 = KMeans(n_clusters=2,init=np.array([[3,0],[4,0]]),n_init=1,\n",
    "               max_iter=1,random_state=1).fit(X)\n",
    "c0,c1=model1.cluster_centers_\n",
    "c0,c1"
   ]
  },
  {
   "cell_type": "code",
   "execution_count": 4,
   "id": "f20136be",
   "metadata": {},
   "outputs": [
    {
     "data": {
      "text/plain": [
       "-372.75"
      ]
     },
     "execution_count": 4,
     "metadata": {},
     "output_type": "execute_result"
    }
   ],
   "source": [
    "model1.score(X)"
   ]
  },
  {
   "cell_type": "code",
   "execution_count": 8,
   "id": "52556cba",
   "metadata": {},
   "outputs": [
    {
     "data": {
      "text/plain": [
       "(13.0, 3.0, 18.0)"
      ]
     },
     "execution_count": 8,
     "metadata": {},
     "output_type": "execute_result"
    }
   ],
   "source": [
    "np.mean(X[:,0]), np.mean(X[model1.labels_==0,0]),np.mean(X[model1.labels_==1,0])\n",
    "#전체평균 , 군집1 평균, 군집2 평균"
   ]
  },
  {
   "cell_type": "code",
   "execution_count": 11,
   "id": "b8ce7d32",
   "metadata": {},
   "outputs": [
    {
     "name": "stdout",
     "output_type": "stream",
     "text": [
      "3\n",
      "6\n"
     ]
    }
   ],
   "source": [
    "print(np.count_nonzero(X[model1.labels_==0,0])) #1번군집\n",
    "print(np.count_nonzero(X[model1.labels_==1,0])) #2번군집"
   ]
  },
  {
   "cell_type": "code",
   "execution_count": 12,
   "id": "40a3c399",
   "metadata": {},
   "outputs": [],
   "source": [
    "def get_separation(model1):\n",
    "    total_mean = np.mean(X[:,0])\n",
    "    m1=np.mean(X[model1.labels_==0,0])\n",
    "    m2=np.mean(X[model1.labels_==1,0])\n",
    "    count1=np.count_nonzero(X[model1.labels_==0,0])\n",
    "    count2=np.count_nonzero(X[model1.labels_==1,0])\n",
    "    separation=count1*(total_mean-m1)**2+count2*(total_mean-m2)**2\n",
    "    print(separation)"
   ]
  },
  {
   "cell_type": "code",
   "execution_count": 13,
   "id": "1edde03c",
   "metadata": {},
   "outputs": [
    {
     "name": "stdout",
     "output_type": "stream",
     "text": [
      "450.0\n"
     ]
    }
   ],
   "source": [
    "get_separation(model1)"
   ]
  },
  {
   "cell_type": "code",
   "execution_count": 14,
   "id": "4ac8c358",
   "metadata": {},
   "outputs": [],
   "source": [
    "#유사도 matrix\n",
    "list1=[]"
   ]
  },
  {
   "cell_type": "code",
   "execution_count": 26,
   "id": "70c473c6",
   "metadata": {},
   "outputs": [],
   "source": [
    "def s_matrix(model1):\n",
    "    for i in range(0,np.count_nonzero(X)):\n",
    "        list1.append([])\n",
    "        for j in range(0,np.count_nonzero(X)):\n",
    "            if model1.labels_[i]==model1.labels_[j]:\n",
    "                list1[i].append(1)\n",
    "            else:\n",
    "                list1[i].append(0)"
   ]
  },
  {
   "cell_type": "code",
   "execution_count": 27,
   "id": "c26ff456",
   "metadata": {},
   "outputs": [
    {
     "data": {
      "text/plain": [
       "[[1, 1, 1, 0, 0, 0, 0, 0, 0],\n",
       " [1, 1, 1, 0, 0, 0, 0, 0, 0],\n",
       " [1, 1, 1, 0, 0, 0, 0, 0, 0],\n",
       " [0, 0, 0, 1, 1, 1, 1, 1, 1],\n",
       " [0, 0, 0, 1, 1, 1, 1, 1, 1],\n",
       " [0, 0, 0, 1, 1, 1, 1, 1, 1],\n",
       " [0, 0, 0, 1, 1, 1, 1, 1, 1],\n",
       " [0, 0, 0, 1, 1, 1, 1, 1, 1],\n",
       " [0, 0, 0, 1, 1, 1, 1, 1, 1]]"
      ]
     },
     "execution_count": 27,
     "metadata": {},
     "output_type": "execute_result"
    }
   ],
   "source": [
    "list1=[]\n",
    "s_matrix(model1)\n",
    "list1"
   ]
  },
  {
   "cell_type": "code",
   "execution_count": 34,
   "id": "df8a570f",
   "metadata": {},
   "outputs": [],
   "source": [
    "def entropy(labels):\n",
    "    n_labels=len(labels)\n",
    "    \n",
    "    if n_labels<=1:\n",
    "        return 0\n",
    "    \n",
    "    counts=np.bincount(labels)\n",
    "    probs=counts/n_labels\n",
    "    n_classes=len(probs)\n",
    "    \n",
    "    if n_labels<=1:\n",
    "        return 0\n",
    "    \n",
    "    return -np.sum(probs*np.log(probs/np.log(n_classes)))"
   ]
  },
  {
   "cell_type": "code",
   "execution_count": 35,
   "id": "40c4cf4e",
   "metadata": {},
   "outputs": [
    {
     "data": {
      "text/plain": [
       "0.2700012477131485"
      ]
     },
     "execution_count": 35,
     "metadata": {},
     "output_type": "execute_result"
    }
   ],
   "source": [
    "entropy(model1.labels_)"
   ]
  },
  {
   "cell_type": "code",
   "execution_count": 36,
   "id": "bca48515",
   "metadata": {},
   "outputs": [
    {
     "data": {
      "text/plain": [
       "(array([2.5, 0. ]), array([16.,  0.]))"
      ]
     },
     "execution_count": 36,
     "metadata": {},
     "output_type": "execute_result"
    }
   ],
   "source": [
    "model1 = KMeans(n_clusters=2,init=np.array([[3,0],[4,0]]),n_init=1,\n",
    "               max_iter=1,random_state=1).fit(X)\n",
    "c0,c1=model1.cluster_centers_\n",
    "c0,c1"
   ]
  },
  {
   "cell_type": "code",
   "execution_count": 37,
   "id": "bbeb3ff5",
   "metadata": {},
   "outputs": [
    {
     "data": {
      "text/plain": [
       "(array([2.5, 0. ]), array([16.,  0.]))"
      ]
     },
     "execution_count": 37,
     "metadata": {},
     "output_type": "execute_result"
    }
   ],
   "source": [
    "#10회차\n",
    "model10 = KMeans(n_clusters=2,init=np.array([[3,0],[4,0]]),n_init=1,\n",
    "               max_iter=10,random_state=1).fit(X)\n",
    "c0,c1=model1.cluster_centers_\n",
    "c0,c1"
   ]
  },
  {
   "cell_type": "code",
   "execution_count": 38,
   "id": "0485bcd3",
   "metadata": {},
   "outputs": [
    {
     "data": {
      "text/plain": [
       "(-372.75, -150.0)"
      ]
     },
     "execution_count": 38,
     "metadata": {},
     "output_type": "execute_result"
    }
   ],
   "source": [
    "#sse비교\n",
    "model1.score(X),model10.score(X)"
   ]
  },
  {
   "cell_type": "code",
   "execution_count": 40,
   "id": "8fcd3b26",
   "metadata": {},
   "outputs": [
    {
     "name": "stdout",
     "output_type": "stream",
     "text": [
      "450.0\n",
      "648.0\n"
     ]
    },
    {
     "data": {
      "text/plain": [
       "(None, None)"
      ]
     },
     "execution_count": 40,
     "metadata": {},
     "output_type": "execute_result"
    }
   ],
   "source": [
    "#분리도 비교\n",
    "get_separation(model1),get_separation(model10)"
   ]
  },
  {
   "cell_type": "code",
   "execution_count": 42,
   "id": "41f77e88",
   "metadata": {},
   "outputs": [
    {
     "data": {
      "text/plain": [
       "(array([13.25,  0.  ]), array([27.5,  0. ]), array([3., 0.]))"
      ]
     },
     "execution_count": 42,
     "metadata": {},
     "output_type": "execute_result"
    }
   ],
   "source": [
    "#유사도매트릭스 - k=3\n",
    "model3 = KMeans(n_clusters=3,init='k-means++',n_init=1,\n",
    "               max_iter=10,random_state=1).fit(X)\n",
    "c0,c1,c2=model3.cluster_centers_\n",
    "c0,c1,c2"
   ]
  },
  {
   "cell_type": "code",
   "execution_count": 43,
   "id": "15195cd3",
   "metadata": {},
   "outputs": [
    {
     "data": {
      "text/plain": [
       "[[1, 1, 1, 0, 0, 0, 0, 0, 0],\n",
       " [1, 1, 1, 0, 0, 0, 0, 0, 0],\n",
       " [1, 1, 1, 0, 0, 0, 0, 0, 0],\n",
       " [0, 0, 0, 1, 1, 1, 1, 1, 1],\n",
       " [0, 0, 0, 1, 1, 1, 1, 1, 1],\n",
       " [0, 0, 0, 1, 1, 1, 1, 1, 1],\n",
       " [0, 0, 0, 1, 1, 1, 1, 1, 1],\n",
       " [0, 0, 0, 1, 1, 1, 1, 1, 1],\n",
       " [0, 0, 0, 1, 1, 1, 1, 1, 1]]"
      ]
     },
     "execution_count": 43,
     "metadata": {},
     "output_type": "execute_result"
    }
   ],
   "source": [
    "list1=[]\n",
    "s_matrix(model1)\n",
    "list1"
   ]
  },
  {
   "cell_type": "code",
   "execution_count": 45,
   "id": "9d974e31",
   "metadata": {},
   "outputs": [
    {
     "data": {
      "text/plain": [
       "[[1, 1, 1, 1, 1, 1, 0, 0, 0],\n",
       " [1, 1, 1, 1, 1, 1, 0, 0, 0],\n",
       " [1, 1, 1, 1, 1, 1, 0, 0, 0],\n",
       " [1, 1, 1, 1, 1, 1, 0, 0, 0],\n",
       " [1, 1, 1, 1, 1, 1, 0, 0, 0],\n",
       " [1, 1, 1, 1, 1, 1, 0, 0, 0],\n",
       " [0, 0, 0, 0, 0, 0, 1, 1, 1],\n",
       " [0, 0, 0, 0, 0, 0, 1, 1, 1],\n",
       " [0, 0, 0, 0, 0, 0, 1, 1, 1]]"
      ]
     },
     "execution_count": 45,
     "metadata": {},
     "output_type": "execute_result"
    }
   ],
   "source": [
    "list1=[]\n",
    "s_matrix(model10)\n",
    "list1"
   ]
  },
  {
   "cell_type": "code",
   "execution_count": 46,
   "id": "6e011190",
   "metadata": {},
   "outputs": [
    {
     "data": {
      "text/plain": [
       "[[1, 1, 1, 0, 0, 0, 0, 0, 0],\n",
       " [1, 1, 1, 0, 0, 0, 0, 0, 0],\n",
       " [1, 1, 1, 0, 0, 0, 0, 0, 0],\n",
       " [0, 0, 0, 1, 1, 1, 1, 0, 0],\n",
       " [0, 0, 0, 1, 1, 1, 1, 0, 0],\n",
       " [0, 0, 0, 1, 1, 1, 1, 0, 0],\n",
       " [0, 0, 0, 1, 1, 1, 1, 0, 0],\n",
       " [0, 0, 0, 0, 0, 0, 0, 1, 1],\n",
       " [0, 0, 0, 0, 0, 0, 0, 1, 1]]"
      ]
     },
     "execution_count": 46,
     "metadata": {},
     "output_type": "execute_result"
    }
   ],
   "source": [
    "list1=[]\n",
    "s_matrix(model3)\n",
    "list1"
   ]
  },
  {
   "cell_type": "code",
   "execution_count": 50,
   "id": "02ded64c",
   "metadata": {
    "scrolled": true
   },
   "outputs": [
    {
     "ename": "ValueError",
     "evalue": "The shape of the initial centers (2, 1) does not match the number of features of the data 2.",
     "output_type": "error",
     "traceback": [
      "\u001b[0;31m---------------------------------------------------------------------------\u001b[0m",
      "\u001b[0;31mValueError\u001b[0m                                Traceback (most recent call last)",
      "\u001b[0;32m<ipython-input-50-9162015616a1>\u001b[0m in \u001b[0;36m<module>\u001b[0;34m\u001b[0m\n\u001b[1;32m      1\u001b[0m \u001b[0;31m#2회차 군집결과\u001b[0m\u001b[0;34m\u001b[0m\u001b[0;34m\u001b[0m\u001b[0;34m\u001b[0m\u001b[0m\n\u001b[0;32m----> 2\u001b[0;31m model2= KMeans(n_clusters=2,init=np.array([[3.0],[4.0]]),n_init=1,\n\u001b[0m\u001b[1;32m      3\u001b[0m                max_iter=2,random_state=1).fit(X)\n\u001b[1;32m      4\u001b[0m \u001b[0mc0\u001b[0m\u001b[0;34m,\u001b[0m\u001b[0mc1\u001b[0m\u001b[0;34m=\u001b[0m\u001b[0mmodel2\u001b[0m\u001b[0;34m.\u001b[0m\u001b[0mcluster_centers_\u001b[0m\u001b[0;34m\u001b[0m\u001b[0;34m\u001b[0m\u001b[0m\n\u001b[1;32m      5\u001b[0m \u001b[0mc0\u001b[0m\u001b[0;34m,\u001b[0m\u001b[0mc1\u001b[0m\u001b[0;34m\u001b[0m\u001b[0;34m\u001b[0m\u001b[0m\n",
      "\u001b[0;32m/opt/anaconda3/lib/python3.8/site-packages/sklearn/cluster/_kmeans.py\u001b[0m in \u001b[0;36mfit\u001b[0;34m(self, X, y, sample_weight)\u001b[0m\n\u001b[1;32m    990\u001b[0m         \u001b[0;32mif\u001b[0m \u001b[0mhasattr\u001b[0m\u001b[0;34m(\u001b[0m\u001b[0minit\u001b[0m\u001b[0;34m,\u001b[0m \u001b[0;34m'__array__'\u001b[0m\u001b[0;34m)\u001b[0m\u001b[0;34m:\u001b[0m\u001b[0;34m\u001b[0m\u001b[0;34m\u001b[0m\u001b[0m\n\u001b[1;32m    991\u001b[0m             \u001b[0minit\u001b[0m \u001b[0;34m=\u001b[0m \u001b[0mcheck_array\u001b[0m\u001b[0;34m(\u001b[0m\u001b[0minit\u001b[0m\u001b[0;34m,\u001b[0m \u001b[0mdtype\u001b[0m\u001b[0;34m=\u001b[0m\u001b[0mX\u001b[0m\u001b[0;34m.\u001b[0m\u001b[0mdtype\u001b[0m\u001b[0;34m,\u001b[0m \u001b[0mcopy\u001b[0m\u001b[0;34m=\u001b[0m\u001b[0;32mTrue\u001b[0m\u001b[0;34m,\u001b[0m \u001b[0morder\u001b[0m\u001b[0;34m=\u001b[0m\u001b[0;34m'C'\u001b[0m\u001b[0;34m)\u001b[0m\u001b[0;34m\u001b[0m\u001b[0;34m\u001b[0m\u001b[0m\n\u001b[0;32m--> 992\u001b[0;31m             \u001b[0mself\u001b[0m\u001b[0;34m.\u001b[0m\u001b[0m_validate_center_shape\u001b[0m\u001b[0;34m(\u001b[0m\u001b[0mX\u001b[0m\u001b[0;34m,\u001b[0m \u001b[0minit\u001b[0m\u001b[0;34m)\u001b[0m\u001b[0;34m\u001b[0m\u001b[0;34m\u001b[0m\u001b[0m\n\u001b[0m\u001b[1;32m    993\u001b[0m \u001b[0;34m\u001b[0m\u001b[0m\n\u001b[1;32m    994\u001b[0m         \u001b[0;31m# subtract of mean of x for more accurate distance computations\u001b[0m\u001b[0;34m\u001b[0m\u001b[0;34m\u001b[0m\u001b[0;34m\u001b[0m\u001b[0m\n",
      "\u001b[0;32m/opt/anaconda3/lib/python3.8/site-packages/sklearn/cluster/_kmeans.py\u001b[0m in \u001b[0;36m_validate_center_shape\u001b[0;34m(self, X, centers)\u001b[0m\n\u001b[1;32m    851\u001b[0m                 f\"match the number of clusters {self.n_clusters}.\")\n\u001b[1;32m    852\u001b[0m         \u001b[0;32mif\u001b[0m \u001b[0mcenters\u001b[0m\u001b[0;34m.\u001b[0m\u001b[0mshape\u001b[0m\u001b[0;34m[\u001b[0m\u001b[0;36m1\u001b[0m\u001b[0;34m]\u001b[0m \u001b[0;34m!=\u001b[0m \u001b[0mX\u001b[0m\u001b[0;34m.\u001b[0m\u001b[0mshape\u001b[0m\u001b[0;34m[\u001b[0m\u001b[0;36m1\u001b[0m\u001b[0;34m]\u001b[0m\u001b[0;34m:\u001b[0m\u001b[0;34m\u001b[0m\u001b[0;34m\u001b[0m\u001b[0m\n\u001b[0;32m--> 853\u001b[0;31m             raise ValueError(\n\u001b[0m\u001b[1;32m    854\u001b[0m                 \u001b[0;34mf\"The shape of the initial centers {centers.shape} does not \"\u001b[0m\u001b[0;34m\u001b[0m\u001b[0;34m\u001b[0m\u001b[0m\n\u001b[1;32m    855\u001b[0m                 f\"match the number of features of the data {X.shape[1]}.\")\n",
      "\u001b[0;31mValueError\u001b[0m: The shape of the initial centers (2, 1) does not match the number of features of the data 2."
     ]
    }
   ],
   "source": [
    "#2회차 군집결과\n",
    "model2= KMeans(n_clusters=2,init=np.array([[3.0],[4.0]]),n_init=1,\n",
    "               max_iter=2,random_state=1).fit(X)\n",
    "c0,c1=model2.cluster_centers_\n",
    "c0,c1"
   ]
  },
  {
   "cell_type": "code",
   "execution_count": null,
   "id": "4696a128",
   "metadata": {},
   "outputs": [],
   "source": [
    "entropy(model1.labels_),entropy(model2.labels_),entropy(model3.labels_)"
   ]
  },
  {
   "cell_type": "code",
   "execution_count": null,
   "id": "50b8d48b",
   "metadata": {},
   "outputs": [],
   "source": []
  },
  {
   "cell_type": "code",
   "execution_count": null,
   "id": "87ff9f8e",
   "metadata": {},
   "outputs": [],
   "source": []
  }
 ],
 "metadata": {
  "kernelspec": {
   "display_name": "Python 3",
   "language": "python",
   "name": "python3"
  },
  "language_info": {
   "codemirror_mode": {
    "name": "ipython",
    "version": 3
   },
   "file_extension": ".py",
   "mimetype": "text/x-python",
   "name": "python",
   "nbconvert_exporter": "python",
   "pygments_lexer": "ipython3",
   "version": "3.8.8"
  }
 },
 "nbformat": 4,
 "nbformat_minor": 5
}
