{
 "cells": [
  {
   "cell_type": "code",
   "execution_count": 1,
   "id": "98091931",
   "metadata": {},
   "outputs": [],
   "source": [
    "from __future__ import print_function\n",
    "from sklearn.datasets import make_blobs\n",
    "from sklearn.cluster import KMeans\n",
    "from sklearn.metrics import silhouette_samples\n",
    "from pandas import DataFrame\n",
    "from scipy.stats import entropy\n",
    "from math import log,e\n",
    "import matplotlib.pyplot as plt\n",
    "import matplotlib.cm as cm\n",
    "import numpy as np\n",
    "import pandas as pd\n",
    "import math\n",
    "import timeit\n",
    "X = np.array([[7, 5], [5, 7], [7, 7], [4, 4], [4, 6], [1, 4],\n",
    "              [0, 0], [2, 2], [8, 7], [6, 8], [5, 5], [3, 7]])\n",
    "'''\n",
    "X=np.array([[2,0],[3,0],[4,0],[10,0],[11,0],[12,0],[20,0],[25,0],[30,0]])\n",
    "\n",
    "plt.scatter(X[:,0],X[:,1],s=100)\n",
    "'''\n",
    "plt.show()"
   ]
  },
  {
   "cell_type": "code",
   "execution_count": 2,
   "id": "5dfd5401",
   "metadata": {},
   "outputs": [
    {
     "data": {
      "text/plain": [
       "[130.33333333333334,\n",
       " 45.777777777777786,\n",
       " 26.349999999999998,\n",
       " 18.849999999999998,\n",
       " 12.916666666666666,\n",
       " 8.833333333333332,\n",
       " 6.0,\n",
       " 3.5,\n",
       " 2.5]"
      ]
     },
     "execution_count": 2,
     "metadata": {},
     "output_type": "execute_result"
    }
   ],
   "source": [
    "ks=range(1,10)\n",
    "SSE=[]\n",
    "for k in ks:\n",
    "    model=KMeans(n_clusters=k).fit(X)\n",
    "    SSE.append(model.inertia_)\n",
    "SSE"
   ]
  },
  {
   "cell_type": "code",
   "execution_count": 3,
   "id": "d1e9fc82",
   "metadata": {
    "scrolled": true
   },
   "outputs": [
    {
     "data": {
      "image/png": "[encoded data removed]",
      "text/plain": [
       "<Figure size 432x288 with 1 Axes>"
      ]
     },
     "metadata": {
      "needs_background": "light"
     },
     "output_type": "display_data"
    }
   ],
   "source": [
    "plt.plot(ks,SSE,'-o')\n",
    "plt.xlabel('number of clusters k')\n",
    "plt.ylabel(\"SSE\")\n",
    "plt.xticks(ks)\n",
    "plt.show()"
   ]
  },
  {
   "cell_type": "code",
   "execution_count": 4,
   "id": "6f60fe01",
   "metadata": {},
   "outputs": [
    {
     "data": {
      "text/plain": [
       "array([7, 0, 2, 4, 3, 6, 5, 1, 2, 0, 8, 3], dtype=int32)"
      ]
     },
     "execution_count": 4,
     "metadata": {},
     "output_type": "execute_result"
    }
   ],
   "source": [
    "model.labels_"
   ]
  },
  {
   "cell_type": "code",
   "execution_count": 5,
   "id": "0052b929",
   "metadata": {},
   "outputs": [],
   "source": [
    "def plot_cluster(model,c0,c1):\n",
    "    plt.scatter(X[model.labels_==0,0],X[model.labels_==0,1],s=100,marker='v',c='r')\n",
    "    plt.scatter(c0[0],c0[1],s=200,c='r')\n",
    "    plt.scatter(X[model.labels_==1,0],X[model.labels_==1,1],s=100,marker='^',c='b')\n",
    "    plt.scatter(c1[0],c1[1],s=200,c='b')\n",
    "    plt.show()"
   ]
  },
  {
   "cell_type": "code",
   "execution_count": 6,
   "id": "452147e1",
   "metadata": {},
   "outputs": [
    {
     "data": {
      "text/plain": [
       "(array([5.625, 6.5  ]), array([1.75, 2.5 ]))"
      ]
     },
     "execution_count": 6,
     "metadata": {},
     "output_type": "execute_result"
    }
   ],
   "source": [
    "model2 = KMeans(n_clusters=2,init='random',n_init=1,\n",
    "               max_iter=100,random_state=1).fit(X)\n",
    "c0,c1=model2.cluster_centers_\n",
    "c0,c1"
   ]
  },
  {
   "cell_type": "code",
   "execution_count": 7,
   "id": "965cbef5",
   "metadata": {},
   "outputs": [
    {
     "data": {
      "image/png": "[encoded data removed]",
      "text/plain": [
       "<Figure size 432x288 with 1 Axes>"
      ]
     },
     "metadata": {
      "needs_background": "light"
     },
     "output_type": "display_data"
    }
   ],
   "source": [
    "plot_cluster(model2,c0,c1)"
   ]
  },
  {
   "cell_type": "code",
   "execution_count": 8,
   "id": "408649e5",
   "metadata": {},
   "outputs": [
    {
     "data": {
      "text/plain": [
       "(array([7.  , 6.75]), array([1., 2.]), array([4.2, 5.8]))"
      ]
     },
     "execution_count": 8,
     "metadata": {},
     "output_type": "execute_result"
    }
   ],
   "source": [
    "model3 = KMeans(n_clusters=3,init='random',n_init=1,\n",
    "               max_iter=100,random_state=1).fit(X)\n",
    "c0,c1,c2=model3.cluster_centers_\n",
    "c0,c1,c2"
   ]
  },
  {
   "cell_type": "code",
   "execution_count": 9,
   "id": "8ca21bdc",
   "metadata": {},
   "outputs": [],
   "source": [
    "def plot_cluster3(model,c0,c1,c2):\n",
    "    plt.scatter(X[model.labels_==0,0],X[model.labels_==0,1],s=100,marker='v',c='r')\n",
    "    plt.scatter(c0[0],c0[1],s=200,c='r')\n",
    "    plt.scatter(X[model.labels_==1,0],X[model.labels_==1,1],s=100,marker='^',c='b')\n",
    "    plt.scatter(c1[0],c1[1],s=200,c='b')\n",
    "    plt.scatter(X[model.labels_==2,0],X[model.labels_==2,1],s=100,marker='v',c='g')\n",
    "    plt.scatter(c2[0],c2[1],s=200,c='g')\n",
    "    plt.show()"
   ]
  },
  {
   "cell_type": "code",
   "execution_count": 10,
   "id": "90c8da05",
   "metadata": {},
   "outputs": [
    {
     "data": {
      "image/png": "[encoded data removed]",
      "text/plain": [
       "<Figure size 432x288 with 1 Axes>"
      ]
     },
     "metadata": {
      "needs_background": "light"
     },
     "output_type": "display_data"
    }
   ],
   "source": [
    "plot_cluster3(model3,c0,c1,c2)"
   ]
  }
 ],
 "metadata": {
  "kernelspec": {
   "display_name": "Python 3",
   "language": "python",
   "name": "python3"
  },
  "language_info": {
   "codemirror_mode": {
    "name": "ipython",
    "version": 3
   },
   "file_extension": ".py",
   "mimetype": "text/x-python",
   "name": "python",
   "nbconvert_exporter": "python",
   "pygments_lexer": "ipython3",
   "version": "3.8.8"
  }
 },
 "nbformat": 4,
 "nbformat_minor": 5
}
